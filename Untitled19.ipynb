{
 "cells": [
  {
   "cell_type": "code",
   "execution_count": 1,
   "id": "a5b29859",
   "metadata": {},
   "outputs": [
    {
     "name": "stderr",
     "output_type": "stream",
     "text": [
      "%(asctime)s %(levelname)s %(message)s\n",
      "%(asctime)s %(levelname)s %(message)s\n",
      "%(asctime)s %(levelname)s %(message)s\n"
     ]
    }
   ],
   "source": [
    "import logging as lg\n",
    "lg.basicConfig(filename = 'test4.log', level = lg.DEBUG, format = '%(asctime)s %(levelname)s %(message)s')\n",
    "console_log = lg.StreamHandler()\n",
    "console_log.setLevel(lg.INFO)\n",
    "format = '%(asctime)s %(levelname)s %(message)s'\n",
    "console_log.setFormatter(format)\n",
    "lg.getLogger('').addHandler(console_log)    \n",
    "lg.info(\"this is my first test code for log\")\n",
    "logger1 = lg.getLogger('logger1.area1')\n",
    "logger2 = lg.getLogger('logger2.area2')\n",
    "logger1.info(\"this is info of logger one\")\n",
    "logger2.debug(\"this is a debug for logger two\")\n",
    "logger2.info(\"this is info for logger two \")"
   ]
  },
  {
   "cell_type": "code",
   "execution_count": 2,
   "id": "aefae3e5",
   "metadata": {},
   "outputs": [],
   "source": [
    "def testdebug():\n",
    "    l = []\n",
    "    for i in range(10):\n",
    "        l.append(i)\n",
    "        print(\"its the debug\")\n",
    "    return l"
   ]
  },
  {
   "cell_type": "code",
   "execution_count": 3,
   "id": "7dd00b71",
   "metadata": {},
   "outputs": [
    {
     "name": "stdout",
     "output_type": "stream",
     "text": [
      "its the debug\n",
      "its the debug\n",
      "its the debug\n",
      "its the debug\n",
      "its the debug\n",
      "its the debug\n",
      "its the debug\n",
      "its the debug\n",
      "its the debug\n",
      "its the debug\n"
     ]
    },
    {
     "data": {
      "text/plain": [
       "[0, 1, 2, 3, 4, 5, 6, 7, 8, 9]"
      ]
     },
     "execution_count": 3,
     "metadata": {},
     "output_type": "execute_result"
    }
   ],
   "source": [
    "testdebug()"
   ]
  },
  {
   "cell_type": "code",
   "execution_count": 4,
   "id": "7e5fff36",
   "metadata": {},
   "outputs": [
    {
     "name": "stdout",
     "output_type": "stream",
     "text": [
      "Requirement already satisfied: ipdb in e:\\new folder (2)\\applications\\new folder\\lib\\site-packages (0.13.11)\n",
      "Requirement already satisfied: decorator in e:\\new folder (2)\\applications\\new folder\\lib\\site-packages (from ipdb) (5.1.1)\n",
      "Requirement already satisfied: tomli in e:\\new folder (2)\\applications\\new folder\\lib\\site-packages (from ipdb) (2.0.1)\n",
      "Requirement already satisfied: ipython>=7.31.1 in e:\\new folder (2)\\applications\\new folder\\lib\\site-packages (from ipdb) (7.31.1)\n",
      "Requirement already satisfied: backcall in e:\\new folder (2)\\applications\\new folder\\lib\\site-packages (from ipython>=7.31.1->ipdb) (0.2.0)\n",
      "Requirement already satisfied: jedi>=0.16 in e:\\new folder (2)\\applications\\new folder\\lib\\site-packages (from ipython>=7.31.1->ipdb) (0.18.1)\n",
      "Requirement already satisfied: colorama in e:\\new folder (2)\\applications\\new folder\\lib\\site-packages (from ipython>=7.31.1->ipdb) (0.4.5)\n",
      "Requirement already satisfied: setuptools>=18.5 in e:\\new folder (2)\\applications\\new folder\\lib\\site-packages (from ipython>=7.31.1->ipdb) (63.4.1)\n",
      "Requirement already satisfied: pickleshare in e:\\new folder (2)\\applications\\new folder\\lib\\site-packages (from ipython>=7.31.1->ipdb) (0.7.5)\n",
      "Requirement already satisfied: matplotlib-inline in e:\\new folder (2)\\applications\\new folder\\lib\\site-packages (from ipython>=7.31.1->ipdb) (0.1.6)\n",
      "Requirement already satisfied: traitlets>=4.2 in e:\\new folder (2)\\applications\\new folder\\lib\\site-packages (from ipython>=7.31.1->ipdb) (5.1.1)\n",
      "Requirement already satisfied: prompt-toolkit!=3.0.0,!=3.0.1,<3.1.0,>=2.0.0 in e:\\new folder (2)\\applications\\new folder\\lib\\site-packages (from ipython>=7.31.1->ipdb) (3.0.20)\n",
      "Requirement already satisfied: pygments in e:\\new folder (2)\\applications\\new folder\\lib\\site-packages (from ipython>=7.31.1->ipdb) (2.11.2)\n",
      "Requirement already satisfied: parso<0.9.0,>=0.8.0 in e:\\new folder (2)\\applications\\new folder\\lib\\site-packages (from jedi>=0.16->ipython>=7.31.1->ipdb) (0.8.3)\n",
      "Requirement already satisfied: wcwidth in e:\\new folder (2)\\applications\\new folder\\lib\\site-packages (from prompt-toolkit!=3.0.0,!=3.0.1,<3.1.0,>=2.0.0->ipython>=7.31.1->ipdb) (0.2.5)\n"
     ]
    }
   ],
   "source": [
    "!pip install ipdb \n",
    "#or !pip install --user ipdb if it doesn't work"
   ]
  },
  {
   "cell_type": "code",
   "execution_count": 5,
   "id": "e280e9fe",
   "metadata": {},
   "outputs": [],
   "source": [
    " import ipdb"
   ]
  },
  {
   "cell_type": "code",
   "execution_count": null,
   "id": "d68079f8",
   "metadata": {},
   "outputs": [],
   "source": [
    "def test():\n",
    "    ipdb.set_trace()\n",
    "    l = []\n",
    "    for i in range(10):\n",
    "        l.append(i)\n",
    "        if i ==4:\n",
    "            continue\n",
    "        print(\"its the debug\")\n",
    "    return l\n"
   ]
  },
  {
   "cell_type": "code",
   "execution_count": null,
   "id": "940f0330",
   "metadata": {},
   "outputs": [],
   "source": [
    "test()"
   ]
  },
  {
   "cell_type": "code",
   "execution_count": null,
   "id": "aa84115e",
   "metadata": {},
   "outputs": [],
   "source": []
  }
 ],
 "metadata": {
  "kernelspec": {
   "display_name": "Python 3 (ipykernel)",
   "language": "python",
   "name": "python3"
  },
  "language_info": {
   "codemirror_mode": {
    "name": "ipython",
    "version": 3
   },
   "file_extension": ".py",
   "mimetype": "text/x-python",
   "name": "python",
   "nbconvert_exporter": "python",
   "pygments_lexer": "ipython3",
   "version": "3.9.13"
  }
 },
 "nbformat": 4,
 "nbformat_minor": 5
}
