{
 "cells": [
  {
   "cell_type": "code",
   "execution_count": 2,
   "id": "e8f23560",
   "metadata": {},
   "outputs": [],
   "source": [
    "import logging as lg"
   ]
  },
  {
   "cell_type": "code",
   "execution_count": 3,
   "id": "447a642e",
   "metadata": {},
   "outputs": [],
   "source": [
    "import os"
   ]
  },
  {
   "cell_type": "code",
   "execution_count": null,
   "id": "0dfcfa17",
   "metadata": {},
   "outputs": [],
   "source": []
  },
  {
   "cell_type": "code",
   "execution_count": null,
   "id": "be3872a6",
   "metadata": {},
   "outputs": [],
   "source": []
  },
  {
   "cell_type": "code",
   "execution_count": 6,
   "id": "79dd5180",
   "metadata": {},
   "outputs": [],
   "source": [
    "os.mkdir(\"loggings\")"
   ]
  },
  {
   "cell_type": "code",
   "execution_count": 7,
   "id": "db859f33",
   "metadata": {},
   "outputs": [],
   "source": [
    "os.chdir(os.getcwd()+\"/\"+\"logging\")"
   ]
  },
  {
   "cell_type": "code",
   "execution_count": 8,
   "id": "75d31834",
   "metadata": {},
   "outputs": [
    {
     "data": {
      "text/plain": [
       "'C:\\\\Users\\\\Admin\\\\logging\\\\logging'"
      ]
     },
     "execution_count": 8,
     "metadata": {},
     "output_type": "execute_result"
    }
   ],
   "source": [
    "pwd()"
   ]
  },
  {
   "cell_type": "code",
   "execution_count": 9,
   "id": "314fbb71",
   "metadata": {},
   "outputs": [],
   "source": [
    "lg.basicConfig(filename = \"C:\\\\Users\\\\Admin\\\\logging\\\\test.log\", level = lg.INFO, format= '%(asctime)s %(message)s')"
   ]
  },
  {
   "cell_type": "code",
   "execution_count": 10,
   "id": "42b912fe",
   "metadata": {},
   "outputs": [],
   "source": [
    "lg.info(\"This is logging and debugging\")"
   ]
  },
  {
   "cell_type": "code",
   "execution_count": 11,
   "id": "00584667",
   "metadata": {},
   "outputs": [],
   "source": [
    "lg.warning(\"This is the first warning of my program\")"
   ]
  },
  {
   "cell_type": "code",
   "execution_count": 12,
   "id": "e69690ff",
   "metadata": {},
   "outputs": [],
   "source": [
    "lg.error(\"This if message for error\")"
   ]
  },
  {
   "cell_type": "code",
   "execution_count": 26,
   "id": "98da2a7d",
   "metadata": {},
   "outputs": [],
   "source": [
    "def test(a,b):\n",
    "    try:\n",
    "        lg.info(str(a)+str(b))\n",
    "        div = a/b\n",
    "        return div\n",
    "    except Exception as e:\n",
    "        print(\"you can check your log for more info\")\n",
    "        lg.error(\"error occured\")\n",
    "        lg.exception(str(e))"
   ]
  },
  {
   "cell_type": "code",
   "execution_count": 28,
   "id": "fcaa7b01",
   "metadata": {},
   "outputs": [
    {
     "name": "stdout",
     "output_type": "stream",
     "text": [
      "you can check your log for more info\n"
     ]
    }
   ],
   "source": [
    "test(1,0)"
   ]
  },
  {
   "cell_type": "code",
   "execution_count": 38,
   "id": "87795b13",
   "metadata": {},
   "outputs": [],
   "source": [
    "import logging as lg\n",
    "lg.basicConfig(filename = \"C:\\\\Users\\\\Admin\\\\logging\\\\logging\\\\test2.log\", level = lg.INFO) \n",
    "def test(a,b):\n",
    "    lg.info(\"this is a start function in this C drive\")\n",
    "    return a+b\n",
    "    "
   ]
  },
  {
   "cell_type": "code",
   "execution_count": 39,
   "id": "f1830d42",
   "metadata": {},
   "outputs": [
    {
     "data": {
      "text/plain": [
       "9"
      ]
     },
     "execution_count": 39,
     "metadata": {},
     "output_type": "execute_result"
    }
   ],
   "source": [
    "test(5,4)"
   ]
  },
  {
   "cell_type": "code",
   "execution_count": 40,
   "id": "680bf425",
   "metadata": {},
   "outputs": [],
   "source": [
    "lg.shutdown()"
   ]
  },
  {
   "cell_type": "code",
   "execution_count": 41,
   "id": "0627686f",
   "metadata": {},
   "outputs": [
    {
     "data": {
      "text/plain": [
       "<function logging.info(msg, *args, **kwargs)>"
      ]
     },
     "execution_count": 41,
     "metadata": {},
     "output_type": "execute_result"
    }
   ],
   "source": [
    "lg.info"
   ]
  },
  {
   "cell_type": "code",
   "execution_count": 43,
   "id": "501cb18d",
   "metadata": {},
   "outputs": [],
   "source": [
    "import logging as lg\n",
    "lg.basicConfig(filename = \"C:\\\\Users\\\\Admin\\\\logging\\\\logging\\\\test2.log\", level = lg.INFO)\n",
    "lg.debug(\"debugging\")\n",
    "lg.info(\"info\")\n",
    "lg.warning(\"warning\")\n",
    "lg.error(\"error\")\n",
    "lg.critical(\"critical\")"
   ]
  },
  {
   "cell_type": "code",
   "execution_count": 44,
   "id": "658666d5",
   "metadata": {},
   "outputs": [],
   "source": [
    "lg.shutdown()"
   ]
  },
  {
   "cell_type": "code",
   "execution_count": 55,
   "id": "f8d118bb",
   "metadata": {},
   "outputs": [
    {
     "data": {
      "text/plain": [
       "10"
      ]
     },
     "execution_count": 55,
     "metadata": {},
     "output_type": "execute_result"
    }
   ],
   "source": [
    "import logging as lg\n",
    "# Q1\n",
    "import os\n",
    "# os.mkdir(\"logging_test.log\")\n",
    "lg.basicConfig(filename = \"logging_test.log\",level = lg.INFO )\n",
    "def addition(*args):\n",
    "    lg.info(\"talking about giving the info\")\n",
    "    sum1=0\n",
    "    for i in args:\n",
    "        lg.info(str(i))\n",
    "        sum1+=i\n",
    "    return sum1\n",
    "addition(1,2,3,4)\n",
    "# f = open(\"logging_test.log\", \"r\")\n",
    "# print(f.read())"
   ]
  },
  {
   "cell_type": "code",
   "execution_count": 2,
   "id": "947a9ee4",
   "metadata": {},
   "outputs": [
    {
     "name": "stdout",
     "output_type": "stream",
     "text": [
      "2022-12-24 20:41:30,440 - inside sum function\n",
      "2022-12-24 20:41:30,440 - user inputs(1, 2, 3, 4, 5, 6, 7, 8, 9, 10)\n",
      "2022-12-24 20:41:37,752 - inside sum function\n",
      "2022-12-24 20:41:37,752 - user inputs(1, 2, 3, 4, 5, 6, 7, 8, 9, 10)\n",
      "\n"
     ]
    }
   ],
   "source": [
    "import logging as lg\n",
    "import os\n",
    "lg.basicConfig(filename=\"testlog.log\",level = lg.INFO, format = \"%(asctime)s - %(message)s\")\n",
    "def summing(*args):\n",
    "    lg.info(\"inside sum function\")\n",
    "    lg.info(\"user inputs\" + str(args))\n",
    "    return sum(args)\n",
    "summing(1,2,3,4,5,6,7,8,9,10)\n",
    "\n",
    "if(os.path.exists('testlog.log')):\n",
    "    file = open('testlog.log','r')\n",
    "    print(file.read())\n",
    "    file.close"
   ]
  },
  {
   "cell_type": "code",
   "execution_count": 4,
   "id": "dc02086b",
   "metadata": {},
   "outputs": [],
   "source": [
    "import logging as lg"
   ]
  },
  {
   "cell_type": "code",
   "execution_count": null,
   "id": "1d082b7f",
   "metadata": {},
   "outputs": [],
   "source": [
    "lg.basicConfig(filename = \"test2log.log\", level = lg.DEBUG, format = \"%(asctime)s %(levelname)s %(message)s\")"
   ]
  },
  {
   "cell_type": "code",
   "execution_count": 8,
   "id": "0d758f4d",
   "metadata": {},
   "outputs": [],
   "source": [
    "console_log = lg.StreamHandler()\n",
    "console_log.setLevel(lg.INFO)"
   ]
  },
  {
   "cell_type": "code",
   "execution_count": 9,
   "id": "daf5bf41",
   "metadata": {},
   "outputs": [],
   "source": [
    "format = \"%(asctime)s %(levelname)s %(message)s\""
   ]
  },
  {
   "cell_type": "code",
   "execution_count": 10,
   "id": "4c864193",
   "metadata": {},
   "outputs": [],
   "source": [
    "console_log.setFormatter(format)"
   ]
  },
  {
   "cell_type": "code",
   "execution_count": 11,
   "id": "e87c6882",
   "metadata": {},
   "outputs": [],
   "source": [
    "lg.getLogger(' ').addHandler(console_log)\n"
   ]
  },
  {
   "cell_type": "code",
   "execution_count": 12,
   "id": "39d0b7df",
   "metadata": {},
   "outputs": [],
   "source": [
    "lg.info(\"this is my first text code of log\")"
   ]
  },
  {
   "cell_type": "code",
   "execution_count": null,
   "id": "c14f458c",
   "metadata": {},
   "outputs": [],
   "source": []
  }
 ],
 "metadata": {
  "kernelspec": {
   "display_name": "Python 3 (ipykernel)",
   "language": "python",
   "name": "python3"
  },
  "language_info": {
   "codemirror_mode": {
    "name": "ipython",
    "version": 3
   },
   "file_extension": ".py",
   "mimetype": "text/x-python",
   "name": "python",
   "nbconvert_exporter": "python",
   "pygments_lexer": "ipython3",
   "version": "3.9.13"
  }
 },
 "nbformat": 4,
 "nbformat_minor": 5
}
