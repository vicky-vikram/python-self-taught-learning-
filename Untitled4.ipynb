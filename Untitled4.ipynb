{
 "cells": [
  {
   "cell_type": "code",
   "execution_count": 1,
   "id": "edf5af5b",
   "metadata": {},
   "outputs": [
    {
     "name": "stdout",
     "output_type": "stream",
     "text": [
      "This is my first python program which i was learning from the ineuron platform which is hacked by \n"
     ]
    }
   ],
   "source": [
    "print(\"This is my first python program which i was learning from the ineuron platform which is hacked by \")"
   ]
  },
  {
   "cell_type": "code",
   "execution_count": 2,
   "id": "21fdb22d",
   "metadata": {},
   "outputs": [],
   "source": [
    "#this hash is used as a comment\n"
   ]
  },
  {
   "cell_type": "code",
   "execution_count": 3,
   "id": "2e950b30",
   "metadata": {},
   "outputs": [],
   "source": [
    "#it should be the best thing which is helpful for ourself and others while writing a program\n"
   ]
  },
  {
   "cell_type": "code",
   "execution_count": 4,
   "id": "52165626",
   "metadata": {},
   "outputs": [
    {
     "data": {
      "text/plain": [
       "'it will helpful to write more number of lines\\nwhatever you write between these 3 3 commas it will print in normal way'"
      ]
     },
     "execution_count": 4,
     "metadata": {},
     "output_type": "execute_result"
    }
   ],
   "source": [
    "\"\"\"it will helpful to write more number of lines\n",
    "whatever you write between these 3 3 commas it will print in normal way\"\"\""
   ]
  },
  {
   "cell_type": "code",
   "execution_count": 5,
   "id": "1581c296",
   "metadata": {},
   "outputs": [
    {
     "data": {
      "text/plain": [
       "'for \\nmulti line'"
      ]
     },
     "execution_count": 5,
     "metadata": {},
     "output_type": "execute_result"
    }
   ],
   "source": [
    "#for single line\n",
    "\"\"\"for \n",
    "multi line\"\"\""
   ]
  },
  {
   "cell_type": "code",
   "execution_count": 6,
   "id": "35a5e2ba",
   "metadata": {},
   "outputs": [
    {
     "data": {
      "text/plain": [
       "10"
      ]
     },
     "execution_count": 6,
     "metadata": {},
     "output_type": "execute_result"
    }
   ],
   "source": [
    "a=10 #a is a variable \n",
    "a"
   ]
  },
  {
   "cell_type": "code",
   "execution_count": 7,
   "id": "b0f6ec58",
   "metadata": {},
   "outputs": [
    {
     "data": {
      "text/plain": [
       "int"
      ]
     },
     "execution_count": 7,
     "metadata": {},
     "output_type": "execute_result"
    }
   ],
   "source": [
    "type(a)"
   ]
  },
  {
   "cell_type": "code",
   "execution_count": 11,
   "id": "ad5152b6",
   "metadata": {},
   "outputs": [
    {
     "data": {
      "text/plain": [
       "str"
      ]
     },
     "execution_count": 11,
     "metadata": {},
     "output_type": "execute_result"
    }
   ],
   "source": [
    "b=\"vicky\"\n",
    "b\n",
    "type(b)"
   ]
  },
  {
   "cell_type": "code",
   "execution_count": 9,
   "id": "647bbbec",
   "metadata": {},
   "outputs": [
    {
     "data": {
      "text/plain": [
       "'vicky'"
      ]
     },
     "execution_count": 9,
     "metadata": {},
     "output_type": "execute_result"
    }
   ],
   "source": [
    "b"
   ]
  },
  {
   "cell_type": "code",
   "execution_count": 18,
   "id": "f4f57984",
   "metadata": {},
   "outputs": [],
   "source": [
    "a=10\n",
    "b=\"vicky\"\n",
    "c = \"10+vicky\""
   ]
  },
  {
   "cell_type": "code",
   "execution_count": 19,
   "id": "b25b0f60",
   "metadata": {},
   "outputs": [
    {
     "data": {
      "text/plain": [
       "10"
      ]
     },
     "execution_count": 19,
     "metadata": {},
     "output_type": "execute_result"
    }
   ],
   "source": [
    "a"
   ]
  },
  {
   "cell_type": "code",
   "execution_count": 20,
   "id": "65610f5e",
   "metadata": {},
   "outputs": [
    {
     "data": {
      "text/plain": [
       "'vicky'"
      ]
     },
     "execution_count": 20,
     "metadata": {},
     "output_type": "execute_result"
    }
   ],
   "source": [
    "b"
   ]
  },
  {
   "cell_type": "code",
   "execution_count": 21,
   "id": "8a1346fa",
   "metadata": {},
   "outputs": [
    {
     "data": {
      "text/plain": [
       "'10+vicky'"
      ]
     },
     "execution_count": 21,
     "metadata": {},
     "output_type": "execute_result"
    }
   ],
   "source": [
    "c"
   ]
  },
  {
   "cell_type": "code",
   "execution_count": 22,
   "id": "c7977d3b",
   "metadata": {},
   "outputs": [],
   "source": [
    "a,b,c=1,2,3"
   ]
  },
  {
   "cell_type": "code",
   "execution_count": 23,
   "id": "6c40e4ac",
   "metadata": {},
   "outputs": [
    {
     "data": {
      "text/plain": [
       "1"
      ]
     },
     "execution_count": 23,
     "metadata": {},
     "output_type": "execute_result"
    }
   ],
   "source": [
    "a"
   ]
  },
  {
   "cell_type": "code",
   "execution_count": 24,
   "id": "8f14af7a",
   "metadata": {},
   "outputs": [
    {
     "data": {
      "text/plain": [
       "2"
      ]
     },
     "execution_count": 24,
     "metadata": {},
     "output_type": "execute_result"
    }
   ],
   "source": [
    "b"
   ]
  },
  {
   "cell_type": "code",
   "execution_count": 25,
   "id": "d9df1de3",
   "metadata": {},
   "outputs": [
    {
     "data": {
      "text/plain": [
       "3"
      ]
     },
     "execution_count": 25,
     "metadata": {},
     "output_type": "execute_result"
    }
   ],
   "source": [
    "c"
   ]
  },
  {
   "cell_type": "code",
   "execution_count": 26,
   "id": "10c5e74a",
   "metadata": {},
   "outputs": [],
   "source": [
    "a,b,c = 5,\"vicky\",\"it is a single line that we can map multiple variables\""
   ]
  },
  {
   "cell_type": "code",
   "execution_count": 27,
   "id": "db70f56f",
   "metadata": {},
   "outputs": [
    {
     "data": {
      "text/plain": [
       "5"
      ]
     },
     "execution_count": 27,
     "metadata": {},
     "output_type": "execute_result"
    }
   ],
   "source": [
    "a"
   ]
  },
  {
   "cell_type": "code",
   "execution_count": 28,
   "id": "9eefa900",
   "metadata": {},
   "outputs": [
    {
     "data": {
      "text/plain": [
       "'vicky'"
      ]
     },
     "execution_count": 28,
     "metadata": {},
     "output_type": "execute_result"
    }
   ],
   "source": [
    "b"
   ]
  },
  {
   "cell_type": "code",
   "execution_count": 29,
   "id": "32d8e843",
   "metadata": {},
   "outputs": [
    {
     "data": {
      "text/plain": [
       "'it is a single line that we can map multiple variables'"
      ]
     },
     "execution_count": 29,
     "metadata": {},
     "output_type": "execute_result"
    }
   ],
   "source": [
    "c"
   ]
  },
  {
   "cell_type": "code",
   "execution_count": 30,
   "id": "bdeaf0e9",
   "metadata": {},
   "outputs": [
    {
     "data": {
      "text/plain": [
       "int"
      ]
     },
     "execution_count": 30,
     "metadata": {},
     "output_type": "execute_result"
    }
   ],
   "source": [
    "type(a)"
   ]
  },
  {
   "cell_type": "code",
   "execution_count": 31,
   "id": "4e84d846",
   "metadata": {},
   "outputs": [
    {
     "data": {
      "text/plain": [
       "str"
      ]
     },
     "execution_count": 31,
     "metadata": {},
     "output_type": "execute_result"
    }
   ],
   "source": [
    "type(b)"
   ]
  },
  {
   "cell_type": "code",
   "execution_count": 32,
   "id": "90742e78",
   "metadata": {},
   "outputs": [
    {
     "data": {
      "text/plain": [
       "str"
      ]
     },
     "execution_count": 32,
     "metadata": {},
     "output_type": "execute_result"
    }
   ],
   "source": [
    "type(c)"
   ]
  },
  {
   "cell_type": "code",
   "execution_count": 33,
   "id": "260f34a1",
   "metadata": {},
   "outputs": [
    {
     "data": {
      "text/plain": [
       "(5, 'vicky', 'it is a single line that we can map multiple variables')"
      ]
     },
     "execution_count": 33,
     "metadata": {},
     "output_type": "execute_result"
    }
   ],
   "source": [
    "a,b,c"
   ]
  },
  {
   "cell_type": "code",
   "execution_count": 34,
   "id": "56176a0a",
   "metadata": {},
   "outputs": [
    {
     "ename": "SyntaxError",
     "evalue": "invalid syntax (3782790406.py, line 1)",
     "output_type": "error",
     "traceback": [
      "\u001b[1;36m  File \u001b[1;32m\"C:\\Users\\Admin\\AppData\\Local\\Temp\\ipykernel_3772\\3782790406.py\"\u001b[1;36m, line \u001b[1;32m1\u001b[0m\n\u001b[1;33m    1a=10\u001b[0m\n\u001b[1;37m     ^\u001b[0m\n\u001b[1;31mSyntaxError\u001b[0m\u001b[1;31m:\u001b[0m invalid syntax\n"
     ]
    }
   ],
   "source": [
    "1a=10 #it will be an error because a variable name should not start with an integer."
   ]
  },
  {
   "cell_type": "code",
   "execution_count": 41,
   "id": "56a6e854",
   "metadata": {},
   "outputs": [],
   "source": [
    "_1a=123 #we can start with an underscore"
   ]
  },
  {
   "cell_type": "code",
   "execution_count": 42,
   "id": "7a142c39",
   "metadata": {},
   "outputs": [
    {
     "data": {
      "text/plain": [
       "123"
      ]
     },
     "execution_count": 42,
     "metadata": {},
     "output_type": "execute_result"
    }
   ],
   "source": [
    "_1a"
   ]
  },
  {
   "cell_type": "code",
   "execution_count": 43,
   "id": "ff030967",
   "metadata": {},
   "outputs": [],
   "source": [
    "a=1.6 #it is a float which is having decimals"
   ]
  },
  {
   "cell_type": "code",
   "execution_count": 44,
   "id": "c868ae20",
   "metadata": {},
   "outputs": [
    {
     "data": {
      "text/plain": [
       "1.6"
      ]
     },
     "execution_count": 44,
     "metadata": {},
     "output_type": "execute_result"
    }
   ],
   "source": [
    "a"
   ]
  },
  {
   "cell_type": "code",
   "execution_count": 45,
   "id": "7c81ddf8",
   "metadata": {},
   "outputs": [
    {
     "data": {
      "text/plain": [
       "float"
      ]
     },
     "execution_count": 45,
     "metadata": {},
     "output_type": "execute_result"
    }
   ],
   "source": [
    "type(a)"
   ]
  },
  {
   "cell_type": "code",
   "execution_count": 48,
   "id": "cc8f5210",
   "metadata": {},
   "outputs": [],
   "source": [
    "#for boolean we have to start with capital letter as 'T' for True & 'F' for False\n",
    "b = True #for boolean it is a '1'\n",
    "c = False #for boolean it is a '0'"
   ]
  },
  {
   "cell_type": "code",
   "execution_count": 49,
   "id": "980d045b",
   "metadata": {},
   "outputs": [
    {
     "data": {
      "text/plain": [
       "bool"
      ]
     },
     "execution_count": 49,
     "metadata": {},
     "output_type": "execute_result"
    }
   ],
   "source": [
    "type(b)\n",
    "type(c)"
   ]
  },
  {
   "cell_type": "code",
   "execution_count": 50,
   "id": "d95231d3",
   "metadata": {},
   "outputs": [
    {
     "name": "stdout",
     "output_type": "stream",
     "text": [
      "2\n",
      "1\n"
     ]
    }
   ],
   "source": [
    "print(True+True)\n",
    "print(False+True)"
   ]
  },
  {
   "cell_type": "code",
   "execution_count": 52,
   "id": "b097ef4d",
   "metadata": {},
   "outputs": [
    {
     "name": "stdout",
     "output_type": "stream",
     "text": [
      "2\n",
      "0\n"
     ]
    }
   ],
   "source": [
    "print(False+True+True) #0+1+1\n",
    "print(False-True+True) 0-1+1"
   ]
  },
  {
   "cell_type": "code",
   "execution_count": 53,
   "id": "65805a5c",
   "metadata": {},
   "outputs": [
    {
     "data": {
      "text/plain": [
       "2"
      ]
     },
     "execution_count": 53,
     "metadata": {},
     "output_type": "execute_result"
    }
   ],
   "source": [
    "True+True"
   ]
  },
  {
   "cell_type": "code",
   "execution_count": 55,
   "id": "5a8de090",
   "metadata": {},
   "outputs": [
    {
     "data": {
      "text/plain": [
       "2"
      ]
     },
     "execution_count": 55,
     "metadata": {},
     "output_type": "execute_result"
    }
   ],
   "source": [
    "True+True -False"
   ]
  },
  {
   "cell_type": "code",
   "execution_count": null,
   "id": "71524612",
   "metadata": {},
   "outputs": [],
   "source": []
  }
 ],
 "metadata": {
  "kernelspec": {
   "display_name": "Python 3 (ipykernel)",
   "language": "python",
   "name": "python3"
  },
  "language_info": {
   "codemirror_mode": {
    "name": "ipython",
    "version": 3
   },
   "file_extension": ".py",
   "mimetype": "text/x-python",
   "name": "python",
   "nbconvert_exporter": "python",
   "pygments_lexer": "ipython3",
   "version": "3.9.13"
  }
 },
 "nbformat": 4,
 "nbformat_minor": 5
}
