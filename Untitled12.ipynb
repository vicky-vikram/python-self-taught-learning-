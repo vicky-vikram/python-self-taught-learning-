{
 "cells": [
  {
   "cell_type": "code",
   "execution_count": 1,
   "id": "f9189af9",
   "metadata": {},
   "outputs": [],
   "source": [
    "def test(b,m):\n",
    "    return b*m"
   ]
  },
  {
   "cell_type": "code",
   "execution_count": 2,
   "id": "6d563448",
   "metadata": {},
   "outputs": [],
   "source": [
    "a = test(2,3)"
   ]
  },
  {
   "cell_type": "code",
   "execution_count": 3,
   "id": "603cb890",
   "metadata": {},
   "outputs": [
    {
     "data": {
      "text/plain": [
       "6"
      ]
     },
     "execution_count": 3,
     "metadata": {},
     "output_type": "execute_result"
    }
   ],
   "source": [
    "a"
   ]
  },
  {
   "cell_type": "code",
   "execution_count": 4,
   "id": "bc5a766d",
   "metadata": {},
   "outputs": [
    {
     "data": {
      "text/plain": [
       "int"
      ]
     },
     "execution_count": 4,
     "metadata": {},
     "output_type": "execute_result"
    }
   ],
   "source": [
    "type(a)"
   ]
  },
  {
   "cell_type": "code",
   "execution_count": 5,
   "id": "b7768eb0",
   "metadata": {},
   "outputs": [],
   "source": [
    "def test2(t,n,m):\n",
    "    return t+n"
   ]
  },
  {
   "cell_type": "code",
   "execution_count": 6,
   "id": "4a16597a",
   "metadata": {},
   "outputs": [
    {
     "ename": "TypeError",
     "evalue": "test2() missing 1 required positional argument: 'm'",
     "output_type": "error",
     "traceback": [
      "\u001b[1;31m---------------------------------------------------------------------------\u001b[0m",
      "\u001b[1;31mTypeError\u001b[0m                                 Traceback (most recent call last)",
      "\u001b[1;32m~\\AppData\\Local\\Temp\\ipykernel_11720\\4083825390.py\u001b[0m in \u001b[0;36m<module>\u001b[1;34m\u001b[0m\n\u001b[1;32m----> 1\u001b[1;33m \u001b[0mtest2\u001b[0m\u001b[1;33m(\u001b[0m\u001b[1;36m2\u001b[0m\u001b[1;33m,\u001b[0m\u001b[1;36m3\u001b[0m\u001b[1;33m)\u001b[0m\u001b[1;33m\u001b[0m\u001b[1;33m\u001b[0m\u001b[0m\n\u001b[0m",
      "\u001b[1;31mTypeError\u001b[0m: test2() missing 1 required positional argument: 'm'"
     ]
    }
   ],
   "source": [
    "test2(2,3)"
   ]
  },
  {
   "cell_type": "code",
   "execution_count": 7,
   "id": "d94f2d08",
   "metadata": {},
   "outputs": [
    {
     "data": {
      "text/plain": [
       "5"
      ]
     },
     "execution_count": 7,
     "metadata": {},
     "output_type": "execute_result"
    }
   ],
   "source": [
    "test2(2,3,4)"
   ]
  },
  {
   "cell_type": "code",
   "execution_count": 8,
   "id": "09747be7",
   "metadata": {},
   "outputs": [
    {
     "data": {
      "text/plain": [
       "5"
      ]
     },
     "execution_count": 8,
     "metadata": {},
     "output_type": "execute_result"
    }
   ],
   "source": [
    "test2(2,3,0)"
   ]
  },
  {
   "cell_type": "code",
   "execution_count": 11,
   "id": "ef1b7e94",
   "metadata": {},
   "outputs": [],
   "source": [
    "def test3(n,m):\n",
    "    return n*10,m*10,n+m,n*m"
   ]
  },
  {
   "cell_type": "markdown",
   "id": "c14b2a18",
   "metadata": {},
   "source": [
    " a = test3(45,45)\n",
    " a"
   ]
  },
  {
   "cell_type": "code",
   "execution_count": 12,
   "id": "3a817dcf",
   "metadata": {},
   "outputs": [],
   "source": [
    " a = test3(45,45)\n"
   ]
  },
  {
   "cell_type": "code",
   "execution_count": 13,
   "id": "42160da3",
   "metadata": {},
   "outputs": [
    {
     "data": {
      "text/plain": [
       "(450, 450, 90, 2025)"
      ]
     },
     "execution_count": 13,
     "metadata": {},
     "output_type": "execute_result"
    }
   ],
   "source": [
    "a"
   ]
  },
  {
   "cell_type": "code",
   "execution_count": 14,
   "id": "31dd6be2",
   "metadata": {},
   "outputs": [],
   "source": [
    "a,b,c,d = test3(10,20)"
   ]
  },
  {
   "cell_type": "code",
   "execution_count": 15,
   "id": "665e4b31",
   "metadata": {},
   "outputs": [
    {
     "data": {
      "text/plain": [
       "100"
      ]
     },
     "execution_count": 15,
     "metadata": {},
     "output_type": "execute_result"
    }
   ],
   "source": [
    "a"
   ]
  },
  {
   "cell_type": "code",
   "execution_count": 16,
   "id": "ecfc2df3",
   "metadata": {},
   "outputs": [
    {
     "data": {
      "text/plain": [
       "200"
      ]
     },
     "execution_count": 16,
     "metadata": {},
     "output_type": "execute_result"
    }
   ],
   "source": [
    "b"
   ]
  },
  {
   "cell_type": "code",
   "execution_count": 17,
   "id": "7cfe7754",
   "metadata": {},
   "outputs": [
    {
     "data": {
      "text/plain": [
       "30"
      ]
     },
     "execution_count": 17,
     "metadata": {},
     "output_type": "execute_result"
    }
   ],
   "source": [
    "c"
   ]
  },
  {
   "cell_type": "code",
   "execution_count": 18,
   "id": "ba8f37f6",
   "metadata": {},
   "outputs": [
    {
     "data": {
      "text/plain": [
       "200"
      ]
     },
     "execution_count": 18,
     "metadata": {},
     "output_type": "execute_result"
    }
   ],
   "source": [
    "d"
   ]
  },
  {
   "cell_type": "code",
   "execution_count": 23,
   "id": "aac70916",
   "metadata": {},
   "outputs": [],
   "source": [
    "a,b,c,_ = test3(3,2)"
   ]
  },
  {
   "cell_type": "code",
   "execution_count": 24,
   "id": "03a3be43",
   "metadata": {},
   "outputs": [
    {
     "data": {
      "text/plain": [
       "6"
      ]
     },
     "execution_count": 24,
     "metadata": {},
     "output_type": "execute_result"
    }
   ],
   "source": [
    "_"
   ]
  },
  {
   "cell_type": "code",
   "execution_count": 25,
   "id": "fa1a15e5",
   "metadata": {},
   "outputs": [
    {
     "name": "stdout",
     "output_type": "stream",
     "text": [
      "this is my first function\n"
     ]
    }
   ],
   "source": [
    "def test():\n",
    "    print(\"this is my first function\")\n",
    "test()"
   ]
  },
  {
   "cell_type": "code",
   "execution_count": 26,
   "id": "63353671",
   "metadata": {},
   "outputs": [],
   "source": [
    "def test4():\n",
    "    return \"this is my first class\""
   ]
  },
  {
   "cell_type": "code",
   "execution_count": 27,
   "id": "6ac3c6ce",
   "metadata": {},
   "outputs": [
    {
     "data": {
      "text/plain": [
       "'this is my first class'"
      ]
     },
     "execution_count": 27,
     "metadata": {},
     "output_type": "execute_result"
    }
   ],
   "source": [
    "test4()"
   ]
  },
  {
   "cell_type": "code",
   "execution_count": 29,
   "id": "9c123001",
   "metadata": {},
   "outputs": [],
   "source": [
    "def test5(a):\n",
    "    return a*2"
   ]
  },
  {
   "cell_type": "code",
   "execution_count": 30,
   "id": "ce832f51",
   "metadata": {},
   "outputs": [
    {
     "ename": "TypeError",
     "evalue": "test5() takes 1 positional argument but 7 were given",
     "output_type": "error",
     "traceback": [
      "\u001b[1;31m---------------------------------------------------------------------------\u001b[0m",
      "\u001b[1;31mTypeError\u001b[0m                                 Traceback (most recent call last)",
      "\u001b[1;32m~\\AppData\\Local\\Temp\\ipykernel_11720\\314700497.py\u001b[0m in \u001b[0;36m<module>\u001b[1;34m\u001b[0m\n\u001b[1;32m----> 1\u001b[1;33m \u001b[0mtest5\u001b[0m\u001b[1;33m(\u001b[0m\u001b[1;36m121\u001b[0m\u001b[1;33m,\u001b[0m\u001b[1;36m12\u001b[0m\u001b[1;33m,\u001b[0m\u001b[1;36m2\u001b[0m\u001b[1;33m,\u001b[0m\u001b[1;36m34\u001b[0m\u001b[1;33m,\u001b[0m\u001b[1;36m456\u001b[0m\u001b[1;33m,\u001b[0m\u001b[1;36m6\u001b[0m\u001b[1;33m,\u001b[0m\u001b[1;36m76\u001b[0m\u001b[1;33m)\u001b[0m\u001b[1;33m\u001b[0m\u001b[1;33m\u001b[0m\u001b[0m\n\u001b[0m",
      "\u001b[1;31mTypeError\u001b[0m: test5() takes 1 positional argument but 7 were given"
     ]
    }
   ],
   "source": [
    "test5(121,12,2,34,456,6,76)"
   ]
  },
  {
   "cell_type": "code",
   "execution_count": 31,
   "id": "82e8ff3f",
   "metadata": {},
   "outputs": [
    {
     "data": {
      "text/plain": [
       "[121, 12, 2, 34, 456, 6, 76, 121, 12, 2, 34, 456, 6, 76]"
      ]
     },
     "execution_count": 31,
     "metadata": {},
     "output_type": "execute_result"
    }
   ],
   "source": [
    "test5([121,12,2,34,456,6,76])"
   ]
  },
  {
   "cell_type": "code",
   "execution_count": 32,
   "id": "750f93b9",
   "metadata": {},
   "outputs": [
    {
     "data": {
      "text/plain": [
       "486"
      ]
     },
     "execution_count": 32,
     "metadata": {},
     "output_type": "execute_result"
    }
   ],
   "source": [
    "test5(243)"
   ]
  },
  {
   "cell_type": "code",
   "execution_count": 34,
   "id": "a98b8eeb",
   "metadata": {},
   "outputs": [],
   "source": [
    "def test9(n):\n",
    "    return n,n*7"
   ]
  },
  {
   "cell_type": "code",
   "execution_count": 37,
   "id": "ee98f43a",
   "metadata": {},
   "outputs": [
    {
     "data": {
      "text/plain": [
       "([232, 342, 765, 875, 65, 968],\n",
       " [232,\n",
       "  342,\n",
       "  765,\n",
       "  875,\n",
       "  65,\n",
       "  968,\n",
       "  232,\n",
       "  342,\n",
       "  765,\n",
       "  875,\n",
       "  65,\n",
       "  968,\n",
       "  232,\n",
       "  342,\n",
       "  765,\n",
       "  875,\n",
       "  65,\n",
       "  968,\n",
       "  232,\n",
       "  342,\n",
       "  765,\n",
       "  875,\n",
       "  65,\n",
       "  968,\n",
       "  232,\n",
       "  342,\n",
       "  765,\n",
       "  875,\n",
       "  65,\n",
       "  968,\n",
       "  232,\n",
       "  342,\n",
       "  765,\n",
       "  875,\n",
       "  65,\n",
       "  968,\n",
       "  232,\n",
       "  342,\n",
       "  765,\n",
       "  875,\n",
       "  65,\n",
       "  968])"
      ]
     },
     "execution_count": 37,
     "metadata": {},
     "output_type": "execute_result"
    }
   ],
   "source": [
    "test9([232,342,765,875,65,968])"
   ]
  },
  {
   "cell_type": "code",
   "execution_count": 38,
   "id": "1fe287a4",
   "metadata": {},
   "outputs": [],
   "source": [
    " b = test9([1,21,32,56,6])"
   ]
  },
  {
   "cell_type": "code",
   "execution_count": 39,
   "id": "10fa8111",
   "metadata": {},
   "outputs": [
    {
     "data": {
      "text/plain": [
       "([1, 21, 32, 56, 6],\n",
       " [1,\n",
       "  21,\n",
       "  32,\n",
       "  56,\n",
       "  6,\n",
       "  1,\n",
       "  21,\n",
       "  32,\n",
       "  56,\n",
       "  6,\n",
       "  1,\n",
       "  21,\n",
       "  32,\n",
       "  56,\n",
       "  6,\n",
       "  1,\n",
       "  21,\n",
       "  32,\n",
       "  56,\n",
       "  6,\n",
       "  1,\n",
       "  21,\n",
       "  32,\n",
       "  56,\n",
       "  6,\n",
       "  1,\n",
       "  21,\n",
       "  32,\n",
       "  56,\n",
       "  6,\n",
       "  1,\n",
       "  21,\n",
       "  32,\n",
       "  56,\n",
       "  6])"
      ]
     },
     "execution_count": 39,
     "metadata": {},
     "output_type": "execute_result"
    }
   ],
   "source": [
    "b"
   ]
  },
  {
   "cell_type": "code",
   "execution_count": 40,
   "id": "cda557f0",
   "metadata": {},
   "outputs": [
    {
     "data": {
      "text/plain": [
       "[1,\n",
       " 21,\n",
       " 32,\n",
       " 56,\n",
       " 6,\n",
       " 1,\n",
       " 21,\n",
       " 32,\n",
       " 56,\n",
       " 6,\n",
       " 1,\n",
       " 21,\n",
       " 32,\n",
       " 56,\n",
       " 6,\n",
       " 1,\n",
       " 21,\n",
       " 32,\n",
       " 56,\n",
       " 6,\n",
       " 1,\n",
       " 21,\n",
       " 32,\n",
       " 56,\n",
       " 6,\n",
       " 1,\n",
       " 21,\n",
       " 32,\n",
       " 56,\n",
       " 6,\n",
       " 1,\n",
       " 21,\n",
       " 32,\n",
       " 56,\n",
       " 6]"
      ]
     },
     "execution_count": 40,
     "metadata": {},
     "output_type": "execute_result"
    }
   ],
   "source": [
    "b[1]"
   ]
  },
  {
   "cell_type": "code",
   "execution_count": 54,
   "id": "5abd1def",
   "metadata": {},
   "outputs": [],
   "source": [
    "def test10(m,n=3):\n",
    "    return n+m"
   ]
  },
  {
   "cell_type": "code",
   "execution_count": 55,
   "id": "4def9a28",
   "metadata": {},
   "outputs": [
    {
     "data": {
      "text/plain": [
       "7"
      ]
     },
     "execution_count": 55,
     "metadata": {},
     "output_type": "execute_result"
    }
   ],
   "source": [
    "test10(4)"
   ]
  },
  {
   "cell_type": "code",
   "execution_count": 56,
   "id": "18db4275",
   "metadata": {},
   "outputs": [
    {
     "data": {
      "text/plain": [
       "8"
      ]
     },
     "execution_count": 56,
     "metadata": {},
     "output_type": "execute_result"
    }
   ],
   "source": [
    "test10(4,4)"
   ]
  },
  {
   "cell_type": "code",
   "execution_count": 57,
   "id": "ae638266",
   "metadata": {},
   "outputs": [],
   "source": [
    "def boolx(x= True, y = False):\n",
    "    return x+y"
   ]
  },
  {
   "cell_type": "code",
   "execution_count": 58,
   "id": "3a71c75f",
   "metadata": {},
   "outputs": [
    {
     "data": {
      "text/plain": [
       "1"
      ]
     },
     "execution_count": 58,
     "metadata": {},
     "output_type": "execute_result"
    }
   ],
   "source": [
    "boolx()"
   ]
  },
  {
   "cell_type": "code",
   "execution_count": 59,
   "id": "e59e23be",
   "metadata": {},
   "outputs": [
    {
     "data": {
      "text/plain": [
       "0"
      ]
     },
     "execution_count": 59,
     "metadata": {},
     "output_type": "execute_result"
    }
   ],
   "source": [
    "boolx(False)"
   ]
  },
  {
   "cell_type": "code",
   "execution_count": 60,
   "id": "8c82d209",
   "metadata": {},
   "outputs": [
    {
     "data": {
      "text/plain": [
       "8"
      ]
     },
     "execution_count": 60,
     "metadata": {},
     "output_type": "execute_result"
    }
   ],
   "source": [
    "boolx(False,8)"
   ]
  },
  {
   "cell_type": "code",
   "execution_count": 61,
   "id": "06835a2c",
   "metadata": {},
   "outputs": [
    {
     "data": {
      "text/plain": [
       "9"
      ]
     },
     "execution_count": 61,
     "metadata": {},
     "output_type": "execute_result"
    }
   ],
   "source": [
    "boolx(True,8)"
   ]
  },
  {
   "cell_type": "code",
   "execution_count": 62,
   "id": "6add6015",
   "metadata": {},
   "outputs": [
    {
     "data": {
      "text/plain": [
       "1"
      ]
     },
     "execution_count": 62,
     "metadata": {},
     "output_type": "execute_result"
    }
   ],
   "source": [
    "True + False"
   ]
  },
  {
   "cell_type": "code",
   "execution_count": 63,
   "id": "ee0249e4",
   "metadata": {},
   "outputs": [
    {
     "data": {
      "text/plain": [
       "2"
      ]
     },
     "execution_count": 63,
     "metadata": {},
     "output_type": "execute_result"
    }
   ],
   "source": [
    "True+True"
   ]
  },
  {
   "cell_type": "code",
   "execution_count": 64,
   "id": "14cf1153",
   "metadata": {},
   "outputs": [
    {
     "data": {
      "text/plain": [
       "0"
      ]
     },
     "execution_count": 64,
     "metadata": {},
     "output_type": "execute_result"
    }
   ],
   "source": [
    "False+False"
   ]
  },
  {
   "cell_type": "code",
   "execution_count": 65,
   "id": "50cc7fbd",
   "metadata": {},
   "outputs": [],
   "source": [
    "def travel(bike=True,car=False):\n",
    "    plan_travel = bike or car\n",
    "    return bike,car,plan_travel"
   ]
  },
  {
   "cell_type": "code",
   "execution_count": 66,
   "id": "3f33850b",
   "metadata": {},
   "outputs": [
    {
     "data": {
      "text/plain": [
       "(True, False, True)"
      ]
     },
     "execution_count": 66,
     "metadata": {},
     "output_type": "execute_result"
    }
   ],
   "source": [
    "travel()"
   ]
  },
  {
   "cell_type": "code",
   "execution_count": 67,
   "id": "d2711542",
   "metadata": {},
   "outputs": [],
   "source": [
    "def travel(bike=True,car=False):\n",
    "    plan_travel = bike and car\n",
    "    return bike,car,plan_travel"
   ]
  },
  {
   "cell_type": "code",
   "execution_count": 68,
   "id": "140959da",
   "metadata": {},
   "outputs": [
    {
     "data": {
      "text/plain": [
       "(True, False, False)"
      ]
     },
     "execution_count": 68,
     "metadata": {},
     "output_type": "execute_result"
    }
   ],
   "source": [
    "travel()"
   ]
  },
  {
   "cell_type": "code",
   "execution_count": 69,
   "id": "1ce9b9d2",
   "metadata": {},
   "outputs": [
    {
     "data": {
      "text/plain": [
       "(False, True, False)"
      ]
     },
     "execution_count": 69,
     "metadata": {},
     "output_type": "execute_result"
    }
   ],
   "source": [
    "travel(False,True)"
   ]
  },
  {
   "cell_type": "code",
   "execution_count": 70,
   "id": "454c1492",
   "metadata": {},
   "outputs": [
    {
     "data": {
      "text/plain": [
       "(True, False, False)"
      ]
     },
     "execution_count": 70,
     "metadata": {},
     "output_type": "execute_result"
    }
   ],
   "source": [
    "travel(bike=True)"
   ]
  },
  {
   "cell_type": "code",
   "execution_count": 71,
   "id": "013a7821",
   "metadata": {},
   "outputs": [
    {
     "data": {
      "text/plain": [
       "(True, True, True)"
      ]
     },
     "execution_count": 71,
     "metadata": {},
     "output_type": "execute_result"
    }
   ],
   "source": [
    "travel(car=True)"
   ]
  },
  {
   "cell_type": "code",
   "execution_count": 72,
   "id": "c12465c9",
   "metadata": {},
   "outputs": [
    {
     "data": {
      "text/plain": [
       "6"
      ]
     },
     "execution_count": 72,
     "metadata": {},
     "output_type": "execute_result"
    }
   ],
   "source": [
    "_"
   ]
  },
  {
   "cell_type": "code",
   "execution_count": 73,
   "id": "498e1452",
   "metadata": {},
   "outputs": [],
   "source": [
    "del(_)"
   ]
  },
  {
   "cell_type": "code",
   "execution_count": 75,
   "id": "0d1a85cd",
   "metadata": {},
   "outputs": [
    {
     "data": {
      "text/plain": [
       "(True, False, False)"
      ]
     },
     "execution_count": 75,
     "metadata": {},
     "output_type": "execute_result"
    }
   ],
   "source": [
    "travel()"
   ]
  },
  {
   "cell_type": "code",
   "execution_count": 76,
   "id": "6bae889f",
   "metadata": {},
   "outputs": [],
   "source": [
    "def test11(*args,a = \"vicky\"  ):\n",
    "    return args"
   ]
  },
  {
   "cell_type": "code",
   "execution_count": 78,
   "id": "4ae9d358",
   "metadata": {},
   "outputs": [
    {
     "data": {
      "text/plain": [
       "('vikram', 'sai', 1, [23, 3443, 567, 78])"
      ]
     },
     "execution_count": 78,
     "metadata": {},
     "output_type": "execute_result"
    }
   ],
   "source": [
    "test11(\"vikram\",\"sai\",1,[23,3443,567,78])"
   ]
  },
  {
   "cell_type": "code",
   "execution_count": 89,
   "id": "a1ec66c4",
   "metadata": {},
   "outputs": [],
   "source": [
    "def test(*args):\n",
    "    l =[]\n",
    "    for i in args:\n",
    "        l += i\n",
    "    return l"
   ]
  },
  {
   "cell_type": "code",
   "execution_count": 90,
   "id": "caad3457",
   "metadata": {},
   "outputs": [
    {
     "data": {
      "text/plain": [
       "[1, 2, 3, 4, 2, 3, 4, 5, 3, 4, 5, 6]"
      ]
     },
     "execution_count": 90,
     "metadata": {},
     "output_type": "execute_result"
    }
   ],
   "source": [
    "test([1,2,3,4],[2,3,4,5],[3,4,5,6])"
   ]
  },
  {
   "cell_type": "code",
   "execution_count": 91,
   "id": "b79b0b70",
   "metadata": {},
   "outputs": [
    {
     "data": {
      "text/plain": [
       "[12, 23, 23, 32, 34, 5, 4, 3, 34, 54, 3, 4]"
      ]
     },
     "execution_count": 91,
     "metadata": {},
     "output_type": "execute_result"
    }
   ],
   "source": [
    "test([12,23,23,32,34,5,4],[3,34,54,3,4])"
   ]
  },
  {
   "cell_type": "code",
   "execution_count": 92,
   "id": "57143e5e",
   "metadata": {},
   "outputs": [],
   "source": [
    "def test1(*args):\n",
    "    return[i for i in args]"
   ]
  },
  {
   "cell_type": "code",
   "execution_count": 93,
   "id": "c0f8c4f6",
   "metadata": {},
   "outputs": [
    {
     "data": {
      "text/plain": [
       "[[12, 23, 34, 34], [324, 23, 6, 576, 45]]"
      ]
     },
     "execution_count": 93,
     "metadata": {},
     "output_type": "execute_result"
    }
   ],
   "source": [
    "test1([12,23,34,34],[324,23,6,576,45])"
   ]
  },
  {
   "cell_type": "code",
   "execution_count": 97,
   "id": "f9e9a4fb",
   "metadata": {},
   "outputs": [
    {
     "name": "stdout",
     "output_type": "stream",
     "text": [
      "0\n",
      "1\n",
      "3\n",
      "6\n",
      "10\n",
      "15\n",
      "21\n",
      "28\n",
      "36\n",
      "45\n"
     ]
    }
   ],
   "source": [
    "l = 0\n",
    "for i in range(10):\n",
    "    l+=i\n",
    "    print(l)"
   ]
  },
  {
   "cell_type": "code",
   "execution_count": 98,
   "id": "eb477fe0",
   "metadata": {},
   "outputs": [],
   "source": [
    "def test16(**kwargs):\n",
    "    return kwargs\n",
    "    "
   ]
  },
  {
   "cell_type": "code",
   "execution_count": 99,
   "id": "aaffc18d",
   "metadata": {},
   "outputs": [
    {
     "ename": "TypeError",
     "evalue": "test16() takes 0 positional arguments but 3 were given",
     "output_type": "error",
     "traceback": [
      "\u001b[1;31m---------------------------------------------------------------------------\u001b[0m",
      "\u001b[1;31mTypeError\u001b[0m                                 Traceback (most recent call last)",
      "\u001b[1;32m~\\AppData\\Local\\Temp\\ipykernel_11720\\2124711001.py\u001b[0m in \u001b[0;36m<module>\u001b[1;34m\u001b[0m\n\u001b[1;32m----> 1\u001b[1;33m \u001b[0mtest16\u001b[0m\u001b[1;33m(\u001b[0m\u001b[1;34m\"vicky\"\u001b[0m\u001b[1;33m,\u001b[0m\u001b[1;36m234\u001b[0m\u001b[1;33m,\u001b[0m\u001b[1;33m[\u001b[0m\u001b[1;36m23\u001b[0m\u001b[1;33m,\u001b[0m\u001b[1;36m45\u001b[0m\u001b[1;33m,\u001b[0m\u001b[1;34m\"vikram\"\u001b[0m\u001b[1;33m]\u001b[0m\u001b[1;33m)\u001b[0m\u001b[1;33m\u001b[0m\u001b[1;33m\u001b[0m\u001b[0m\n\u001b[0m",
      "\u001b[1;31mTypeError\u001b[0m: test16() takes 0 positional arguments but 3 were given"
     ]
    }
   ],
   "source": [
    "test16(\"vicky\",234,[23,45,\"vikram\"])"
   ]
  },
  {
   "cell_type": "code",
   "execution_count": 100,
   "id": "6d300441",
   "metadata": {},
   "outputs": [
    {
     "ename": "TypeError",
     "evalue": "test16() takes 0 positional arguments but 1 was given",
     "output_type": "error",
     "traceback": [
      "\u001b[1;31m---------------------------------------------------------------------------\u001b[0m",
      "\u001b[1;31mTypeError\u001b[0m                                 Traceback (most recent call last)",
      "\u001b[1;32m~\\AppData\\Local\\Temp\\ipykernel_11720\\1122726690.py\u001b[0m in \u001b[0;36m<module>\u001b[1;34m\u001b[0m\n\u001b[1;32m----> 1\u001b[1;33m \u001b[0mtest16\u001b[0m\u001b[1;33m(\u001b[0m\u001b[1;34m\"vicky\"\u001b[0m\u001b[1;33m)\u001b[0m\u001b[1;33m\u001b[0m\u001b[1;33m\u001b[0m\u001b[0m\n\u001b[0m",
      "\u001b[1;31mTypeError\u001b[0m: test16() takes 0 positional arguments but 1 was given"
     ]
    }
   ],
   "source": [
    "test16(\"vicky\")"
   ]
  },
  {
   "cell_type": "code",
   "execution_count": 101,
   "id": "6925adeb",
   "metadata": {},
   "outputs": [
    {
     "data": {
      "text/plain": [
       "{}"
      ]
     },
     "execution_count": 101,
     "metadata": {},
     "output_type": "execute_result"
    }
   ],
   "source": [
    "test16()"
   ]
  },
  {
   "cell_type": "code",
   "execution_count": 102,
   "id": "0c97950d",
   "metadata": {},
   "outputs": [
    {
     "data": {
      "text/plain": [
       "{'a': 1, 'b': 'vicky', 'c': 3, 'd': [1, 32, 54, 76], 'e': ['vikram', 32, 43]}"
      ]
     },
     "execution_count": 102,
     "metadata": {},
     "output_type": "execute_result"
    }
   ],
   "source": [
    "test16(a=1,b=\"vicky\",c=3,d=[1,32,54,76],e=[\"vikram\",32,43])"
   ]
  },
  {
   "cell_type": "code",
   "execution_count": 104,
   "id": "0fabd045",
   "metadata": {},
   "outputs": [],
   "source": [
    "#args is a tuple\n",
    "#kwargs is a dictionary"
   ]
  },
  {
   "cell_type": "code",
   "execution_count": null,
   "id": "7721d693",
   "metadata": {},
   "outputs": [],
   "source": [
    "# a = [\"vicky\",1,2.0,True,False,3.0,4,[\"vikram\",12,5.0]]\n"
   ]
  },
  {
   "cell_type": "code",
   "execution_count": 121,
   "id": "b715f9de",
   "metadata": {},
   "outputs": [],
   "source": [
    "def func(*args):\n",
    "    a=[]\n",
    "    b=[]\n",
    "    c=[]\n",
    "    d=[]\n",
    "    e=[]\n",
    "    f=[]\n",
    "    g=[]\n",
    "    h=[]\n",
    "    for i in args:\n",
    "        if type(i) == int:\n",
    "            a.append(i)\n",
    "        if type(i) == str:\n",
    "            b.append(i)\n",
    "        if type(i) == list:\n",
    "            c.append(i)\n",
    "        if type(i) == tuple:\n",
    "            d.append(i)\n",
    "        if type(i) == dict:\n",
    "            e.append(i)\n",
    "        if type(i) == bool:\n",
    "            f.append(i)\n",
    "        if type(i) == float:\n",
    "            g.append(i)\n",
    "        if type(i) == complex:\n",
    "            h.append(i)\n",
    "    return a,b,c,d,e,f,g,h"
   ]
  },
  {
   "cell_type": "code",
   "execution_count": 124,
   "id": "2e626bf0",
   "metadata": {},
   "outputs": [
    {
     "data": {
      "text/plain": [
       "([1, 4],\n",
       " ['vicky'],\n",
       " [['vikram', 12, 5.0]],\n",
       " [(1, 2, 3, 4)],\n",
       " [{'a': 1, 'b': 'sai'}],\n",
       " [True, False],\n",
       " [2.0, 3.0],\n",
       " [(6+7j)])"
      ]
     },
     "execution_count": 124,
     "metadata": {},
     "output_type": "execute_result"
    }
   ],
   "source": [
    "func(\"vicky\",1,2.0,True,False,3.0,4,(1,2,3,4),[\"vikram\",12,5.0],6+7j,{\"a\":1,\"b\":\"sai\"})\n"
   ]
  },
  {
   "cell_type": "code",
   "execution_count": 119,
   "id": "c5407e4d",
   "metadata": {},
   "outputs": [
    {
     "data": {
      "text/plain": [
       "['vicky', 1, 2.0, True, False, 3.0, 4, ['vikram', 12, 5.0]]"
      ]
     },
     "execution_count": 119,
     "metadata": {},
     "output_type": "execute_result"
    }
   ],
   "source": [
    "a"
   ]
  },
  {
   "cell_type": "code",
   "execution_count": 127,
   "id": "f0f8bbe5",
   "metadata": {},
   "outputs": [],
   "source": [
    "def func(*args):\n",
    "    dt = {}\n",
    "    for i in args:\n",
    "        if type(i) in dt:\n",
    "            dt[type(i)].append(i)\n",
    "        else:\n",
    "            dt[type(i)] = [i]\n",
    "    return dt"
   ]
  },
  {
   "cell_type": "code",
   "execution_count": 128,
   "id": "7e6fec7c",
   "metadata": {},
   "outputs": [
    {
     "data": {
      "text/plain": [
       "{str: ['vicky'],\n",
       " int: [1, 4],\n",
       " float: [2.0, 3.0],\n",
       " bool: [True, False],\n",
       " tuple: [(1, 2, 3, 4)],\n",
       " list: [['vikram', 12, 5.0]],\n",
       " complex: [(6+7j)],\n",
       " dict: [{'a': 1, 'b': 'sai'}]}"
      ]
     },
     "execution_count": 128,
     "metadata": {},
     "output_type": "execute_result"
    }
   ],
   "source": [
    "func(\"vicky\",1,2.0,True,False,3.0,4,(1,2,3,4),[\"vikram\",12,5.0],6+7j,{\"a\":1,\"b\":\"sai\"})"
   ]
  },
  {
   "cell_type": "code",
   "execution_count": null,
   "id": "031fae97",
   "metadata": {},
   "outputs": [],
   "source": []
  }
 ],
 "metadata": {
  "kernelspec": {
   "display_name": "Python 3 (ipykernel)",
   "language": "python",
   "name": "python3"
  },
  "language_info": {
   "codemirror_mode": {
    "name": "ipython",
    "version": 3
   },
   "file_extension": ".py",
   "mimetype": "text/x-python",
   "name": "python",
   "nbconvert_exporter": "python",
   "pygments_lexer": "ipython3",
   "version": "3.9.13"
  }
 },
 "nbformat": 4,
 "nbformat_minor": 5
}
