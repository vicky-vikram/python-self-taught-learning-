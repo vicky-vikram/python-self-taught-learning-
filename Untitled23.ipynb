{
 "cells": [
  {
   "cell_type": "code",
   "execution_count": 1,
   "id": "ba689b4d",
   "metadata": {},
   "outputs": [],
   "source": [
    "class test:\n",
    "    def __init__(self,a,b,c,d):\n",
    "        self.a = a\n",
    "        self.b=b\n",
    "        self.c=c\n",
    "        self.d=d\n",
    "    def test_custome(self,v):\n",
    "        return v -self.a\n",
    "    def __str__(self):\n",
    "        return 'this is my test code for abstraction'"
   ]
  },
  {
   "cell_type": "code",
   "execution_count": 2,
   "id": "619a07f8",
   "metadata": {},
   "outputs": [],
   "source": [
    "o=test(4,5,6,7)"
   ]
  },
  {
   "cell_type": "code",
   "execution_count": 3,
   "id": "4168fe0a",
   "metadata": {},
   "outputs": [
    {
     "data": {
      "text/plain": [
       "4"
      ]
     },
     "execution_count": 3,
     "metadata": {},
     "output_type": "execute_result"
    }
   ],
   "source": [
    "o.test_custome(8)"
   ]
  },
  {
   "cell_type": "code",
   "execution_count": 4,
   "id": "0ef79fc9",
   "metadata": {},
   "outputs": [
    {
     "name": "stdout",
     "output_type": "stream",
     "text": [
      "this is my test code for abstraction\n"
     ]
    }
   ],
   "source": [
    "print(o)"
   ]
  },
  {
   "cell_type": "code",
   "execution_count": 5,
   "id": "6d1bc0f2",
   "metadata": {},
   "outputs": [],
   "source": [
    "class test:\n",
    "    def __init__(self,a,b,c,d):\n",
    "        self._a = a\n",
    "        self.b=b\n",
    "        self.c=c\n",
    "        self.d=d\n",
    "    def test_custome(self,v):\n",
    "        return v -self._a\n",
    "    def __str__(self):\n",
    "        return 'this is my test code for abstraction'"
   ]
  },
  {
   "cell_type": "code",
   "execution_count": 6,
   "id": "d50f6a3d",
   "metadata": {},
   "outputs": [],
   "source": [
    "o=test(4,5,6,7)"
   ]
  },
  {
   "cell_type": "code",
   "execution_count": 7,
   "id": "71ca6044",
   "metadata": {},
   "outputs": [
    {
     "data": {
      "text/plain": [
       "4"
      ]
     },
     "execution_count": 7,
     "metadata": {},
     "output_type": "execute_result"
    }
   ],
   "source": [
    "o.test_custome(8)"
   ]
  },
  {
   "cell_type": "code",
   "execution_count": 8,
   "id": "5af255c6",
   "metadata": {},
   "outputs": [
    {
     "name": "stdout",
     "output_type": "stream",
     "text": [
      "this is my test code for abstraction\n"
     ]
    }
   ],
   "source": [
    "print(o)"
   ]
  },
  {
   "cell_type": "code",
   "execution_count": 9,
   "id": "d9b34c85",
   "metadata": {},
   "outputs": [
    {
     "ename": "AttributeError",
     "evalue": "'test' object has no attribute 'a'",
     "output_type": "error",
     "traceback": [
      "\u001b[1;31m---------------------------------------------------------------------------\u001b[0m",
      "\u001b[1;31mAttributeError\u001b[0m                            Traceback (most recent call last)",
      "\u001b[1;32m~\\AppData\\Local\\Temp\\ipykernel_2632\\1467817899.py\u001b[0m in \u001b[0;36m<module>\u001b[1;34m\u001b[0m\n\u001b[1;32m----> 1\u001b[1;33m \u001b[0mo\u001b[0m\u001b[1;33m.\u001b[0m\u001b[0ma\u001b[0m\u001b[1;33m\u001b[0m\u001b[1;33m\u001b[0m\u001b[0m\n\u001b[0m",
      "\u001b[1;31mAttributeError\u001b[0m: 'test' object has no attribute 'a'"
     ]
    }
   ],
   "source": [
    "o.a"
   ]
  },
  {
   "cell_type": "code",
   "execution_count": null,
   "id": "a033da85",
   "metadata": {},
   "outputs": [],
   "source": [
    "o._a"
   ]
  },
  {
   "cell_type": "code",
   "execution_count": null,
   "id": "19ec88b0",
   "metadata": {},
   "outputs": [],
   "source": [
    " class test:\n",
    "    def __init__(self,a,b,c,d):\n",
    "        self.__a = a\n",
    "        self.b=b\n",
    "        self.c=c\n",
    "        self.d=d\n",
    "    def test_custome(self,v):\n",
    "        return v -self.__a\n",
    "    def __str__(self):\n",
    "        return 'this is my test code for abstraction'"
   ]
  },
  {
   "cell_type": "code",
   "execution_count": null,
   "id": "ae95057b",
   "metadata": {},
   "outputs": [],
   "source": [
    "o = test(4,5,6,7)"
   ]
  },
  {
   "cell_type": "code",
   "execution_count": null,
   "id": "a0902775",
   "metadata": {},
   "outputs": [],
   "source": [
    "o.__a"
   ]
  },
  {
   "cell_type": "code",
   "execution_count": null,
   "id": "25a8c024",
   "metadata": {},
   "outputs": [],
   "source": [
    " o._test__a"
   ]
  },
  {
   "cell_type": "code",
   "execution_count": null,
   "id": "6afed912",
   "metadata": {},
   "outputs": [],
   "source": [
    "class test1(test):\n",
    "    def __init__(self,j,*args):\n",
    "        super(test1,self).__init__(*args)\n",
    "        self.j=j\n",
    "m = test1(4,5,6,7,8)\n",
    "m.b\n"
   ]
  },
  {
   "cell_type": "code",
   "execution_count": null,
   "id": "11089a40",
   "metadata": {},
   "outputs": [],
   "source": [
    "m.j"
   ]
  },
  {
   "cell_type": "code",
   "execution_count": null,
   "id": "e6d564ce",
   "metadata": {},
   "outputs": [],
   "source": [
    "m.test_custome(10)"
   ]
  },
  {
   "cell_type": "code",
   "execution_count": null,
   "id": "3df31cc6",
   "metadata": {},
   "outputs": [],
   "source": [
    "class test:\n",
    "    def __init__(self,a):\n",
    "        self.a = a\n",
    "        print(\"this is test\")\n",
    "class test1:\n",
    "    def __init__(self,a):\n",
    "        self.a = a\n",
    "        print(\"this is test1\")      \n",
    "class test2(test,test1):\n",
    "    def __init__(self,b,*args):\n",
    "        super(test2,self).__init__(*args)\n",
    "        self.b=b\n",
    "        print(\"this is test2\")\n",
    "        "
   ]
  },
  {
   "cell_type": "code",
   "execution_count": 1,
   "id": "b787e1cc",
   "metadata": {},
   "outputs": [
    {
     "name": "stdout",
     "output_type": "stream",
     "text": [
      "iNeuron company was established in 2018\n"
     ]
    }
   ],
   "source": [
    "class Ineuron:\n",
    "    name = 'iNeuron'\n",
    "    website = 'https://ineuron.ai/'\n",
    "    def contact(self):\n",
    "        print(\"Contact us at\",self.website)\n",
    "class datascience(Ineuron):\n",
    "    def __init__(self):\n",
    "        self.year=2018\n",
    "    def est(self):\n",
    "        print('{0} company was established in {1}'.format(self.name,self.year))\n",
    "ds=datascience()\n",
    "ds.est()"
   ]
  },
  {
   "cell_type": "code",
   "execution_count": 3,
   "id": "fda7f540",
   "metadata": {},
   "outputs": [
    {
     "name": "stdout",
     "output_type": "stream",
     "text": [
      "multitask\n",
      "name : priority\n"
     ]
    }
   ],
   "source": [
    "class OS:\n",
    "    multitask = True\n",
    "    osname = 'windows os'\n",
    "    name = \"priority\"\n",
    "class windows(OS,Ineuron):\n",
    "    def __init__(self):\n",
    "        if self.multitask is True:\n",
    "            print(\"multitask\")\n",
    "        print('name : {}'.format(self.name))\n",
    "windows = windows()\n",
    "            \n",
    "            \n",
    "        "
   ]
  },
  {
   "cell_type": "code",
   "execution_count": 5,
   "id": "34dda439",
   "metadata": {},
   "outputs": [
    {
     "name": "stdout",
     "output_type": "stream",
     "text": [
      "multitask\n",
      "name : iNeuron\n"
     ]
    }
   ],
   "source": [
    "class windows(Ineuron,OS):\n",
    "    def __init__(self):\n",
    "        if self.multitask is True:\n",
    "            print(\"multitask\")\n",
    "        print('name : {}'.format(self.name))\n",
    "windows = windows()\n",
    "            "
   ]
  },
  {
   "cell_type": "code",
   "execution_count": 6,
   "id": "0164ef83",
   "metadata": {},
   "outputs": [
    {
     "name": "stdout",
     "output_type": "stream",
     "text": [
      "this company ineuron company offers total of 12 different types of courses. Most trending course is Datascience\n"
     ]
    }
   ],
   "source": [
    "class ineuron:\n",
    "    numofcourses = 12\n",
    "class datascience(ineuron):\n",
    "    coursetype = \"Datascience\"\n",
    "class AI(datascience):\n",
    "    def __init__(self):\n",
    "        self.company = \"ineuron company\"\n",
    "        print('this company {0} offers total of {1} different types of courses. Most trending course is {2}'.format(\n",
    "        self.company,self.numofcourses,self.coursetype))\n",
    "AI = AI()"
   ]
  },
  {
   "cell_type": "code",
   "execution_count": 7,
   "id": "67d5b0c7",
   "metadata": {},
   "outputs": [],
   "source": [
    "#INCAPTULATION"
   ]
  },
  {
   "cell_type": "code",
   "execution_count": 21,
   "id": "1bd63126",
   "metadata": {},
   "outputs": [],
   "source": [
    "class test:\n",
    "    def __init__(self,a,b,c):\n",
    "        self.a = a\n",
    "        self.b = b\n",
    "        self.c = c\n",
    "    def __str__(self):\n",
    "        return \"this is the return form of my test class\"\n",
    "class test1:\n",
    "    def __init__(self,a,b,c):\n",
    "        self.a = a\n",
    "        self.b = b\n",
    "        self.c = c\n",
    "    def __str__(self):\n",
    "        return \"this is the return form of my test1 class\"\n",
    "class test2:\n",
    "    def __init__(self,a,b,c):\n",
    "        self.a = a\n",
    "        self.b = b\n",
    "        self.c = c\n",
    "    def __str__(self):\n",
    "        return \"this is the return form of my test2 class\"\n",
    "class final:\n",
    "    def __init__(self, test, test1,test2):\n",
    "        self.test = test\n",
    "        self.test1 = test1\n",
    "        self.test2 = test2\n",
    "    def __str__(self):\n",
    "        return \"this is the print from final class \" + str(self.test)+ \"  \" + str(self.test1)+ \"  \" + str(self.test2)   "
   ]
  },
  {
   "cell_type": "code",
   "execution_count": 22,
   "id": "1aa2cc91",
   "metadata": {},
   "outputs": [],
   "source": [
    "t = test(4,5,6)\n",
    "t1 = test1(5,6,7)\n",
    "t2 = test2(6,7,8)\n",
    "f = final(t,t1,t2)"
   ]
  },
  {
   "cell_type": "code",
   "execution_count": 23,
   "id": "da09ab45",
   "metadata": {},
   "outputs": [
    {
     "name": "stdout",
     "output_type": "stream",
     "text": [
      "this is the print from final class this is the return form of my test class  this is the return form of my test1 class  this is the return form of my test2 class\n"
     ]
    }
   ],
   "source": [
    "print(f)"
   ]
  },
  {
   "cell_type": "code",
   "execution_count": 24,
   "id": "b9183ecb",
   "metadata": {},
   "outputs": [],
   "source": [
    "f = final(t,t1,\"vicky\")"
   ]
  },
  {
   "cell_type": "code",
   "execution_count": 25,
   "id": "c9ed6a68",
   "metadata": {},
   "outputs": [
    {
     "name": "stdout",
     "output_type": "stream",
     "text": [
      "this is the print from final class this is the return form of my test class  this is the return form of my test1 class  vicky\n"
     ]
    }
   ],
   "source": [
    "print(f)"
   ]
  },
  {
   "cell_type": "code",
   "execution_count": null,
   "id": "5fcbc395",
   "metadata": {},
   "outputs": [],
   "source": [
    "class Tyres:\n",
    "    def __init__(self,branch,belted_bias,opt_pressure):\n",
    "        self.branch = branch\n",
    "        self.belted_bias = belted_bias\n",
    "        self.opt_pressure = opt_pressure\n",
    "    def __str__(self):\n",
    "        return \n",
    "        "
   ]
  }
 ],
 "metadata": {
  "kernelspec": {
   "display_name": "Python 3 (ipykernel)",
   "language": "python",
   "name": "python3"
  },
  "language_info": {
   "codemirror_mode": {
    "name": "ipython",
    "version": 3
   },
   "file_extension": ".py",
   "mimetype": "text/x-python",
   "name": "python",
   "nbconvert_exporter": "python",
   "pygments_lexer": "ipython3",
   "version": "3.9.13"
  }
 },
 "nbformat": 4,
 "nbformat_minor": 5
}
