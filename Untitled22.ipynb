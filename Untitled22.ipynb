{
 "cells": [
  {
   "cell_type": "code",
   "execution_count": 1,
   "id": "6fc820b2",
   "metadata": {},
   "outputs": [
    {
     "name": "stdout",
     "output_type": "stream",
     "text": [
      "1\n",
      "odd\n"
     ]
    }
   ],
   "source": [
    "a = int(input())\n",
    "if a%2 == 0:\n",
    "    print(\"even\")\n",
    "else:\n",
    "    print(\"odd\")"
   ]
  },
  {
   "cell_type": "code",
   "execution_count": 2,
   "id": "684af26e",
   "metadata": {},
   "outputs": [],
   "source": [
    "class car:\n",
    "    pass "
   ]
  },
  {
   "cell_type": "code",
   "execution_count": 3,
   "id": "19a78361",
   "metadata": {},
   "outputs": [],
   "source": [
    "audiq7 = car()"
   ]
  },
  {
   "cell_type": "code",
   "execution_count": 4,
   "id": "dd8ba24f",
   "metadata": {},
   "outputs": [],
   "source": [
    "audiq7.mileage = 20\n",
    "audiq7.year = 2025\n",
    "audiq7.make = 2024\n",
    "audiq7.model = \"high end\""
   ]
  },
  {
   "cell_type": "code",
   "execution_count": 5,
   "id": "d888b84d",
   "metadata": {},
   "outputs": [
    {
     "data": {
      "text/plain": [
       "20"
      ]
     },
     "execution_count": 5,
     "metadata": {},
     "output_type": "execute_result"
    }
   ],
   "source": [
    "audiq7.mileage"
   ]
  },
  {
   "cell_type": "code",
   "execution_count": 6,
   "id": "9fa824af",
   "metadata": {},
   "outputs": [
    {
     "ename": "NameError",
     "evalue": "name 'mileage' is not defined",
     "output_type": "error",
     "traceback": [
      "\u001b[1;31m---------------------------------------------------------------------------\u001b[0m",
      "\u001b[1;31mNameError\u001b[0m                                 Traceback (most recent call last)",
      "\u001b[1;32m~\\AppData\\Local\\Temp\\ipykernel_10236\\2831437708.py\u001b[0m in \u001b[0;36m<module>\u001b[1;34m\u001b[0m\n\u001b[1;32m----> 1\u001b[1;33m \u001b[0mmileage\u001b[0m\u001b[1;33m\u001b[0m\u001b[1;33m\u001b[0m\u001b[0m\n\u001b[0m",
      "\u001b[1;31mNameError\u001b[0m: name 'mileage' is not defined"
     ]
    }
   ],
   "source": [
    "mileage"
   ]
  },
  {
   "cell_type": "code",
   "execution_count": 7,
   "id": "4bf25ce3",
   "metadata": {},
   "outputs": [],
   "source": [
    "nano = car()"
   ]
  },
  {
   "cell_type": "code",
   "execution_count": 8,
   "id": "1fc004bb",
   "metadata": {},
   "outputs": [],
   "source": [
    "nano.mileage = 22\n",
    "nano.year = 2020\n",
    "nano.make = 2019\n",
    "nano.model = \"high end\"\n",
    "nano.engineno = 1234567890"
   ]
  },
  {
   "cell_type": "code",
   "execution_count": 9,
   "id": "b94dbf2b",
   "metadata": {},
   "outputs": [
    {
     "name": "stdout",
     "output_type": "stream",
     "text": [
      "22 20\n"
     ]
    }
   ],
   "source": [
    "print(nano.mileage,audiq7.mileage)"
   ]
  },
  {
   "cell_type": "code",
   "execution_count": 10,
   "id": "2f9c8d4a",
   "metadata": {},
   "outputs": [],
   "source": [
    "audiq7.mileage = 18"
   ]
  },
  {
   "cell_type": "code",
   "execution_count": 11,
   "id": "82414a3f",
   "metadata": {},
   "outputs": [],
   "source": [
    "class car:\n",
    "    def __init__(self,mileage, year, make,model):\n",
    "        self.mileage = mileage\n",
    "        self.year = year\n",
    "        self.make = make\n",
    "        self.model = model\n",
    "        "
   ]
  },
  {
   "cell_type": "code",
   "execution_count": 12,
   "id": "747928ab",
   "metadata": {},
   "outputs": [],
   "source": [
    "nano1 = car(22,2022,2020,\"highend\")"
   ]
  },
  {
   "cell_type": "code",
   "execution_count": 13,
   "id": "44507e80",
   "metadata": {},
   "outputs": [],
   "source": [
    "audiq71 = car(20,2023,2021,\"highend\")"
   ]
  },
  {
   "cell_type": "code",
   "execution_count": 14,
   "id": "91bd67a1",
   "metadata": {},
   "outputs": [
    {
     "data": {
      "text/plain": [
       "22"
      ]
     },
     "execution_count": 14,
     "metadata": {},
     "output_type": "execute_result"
    }
   ],
   "source": [
    "nano1.mileage"
   ]
  },
  {
   "cell_type": "code",
   "execution_count": 15,
   "id": "f8b58aeb",
   "metadata": {},
   "outputs": [],
   "source": [
    "class car:\n",
    "    def __init__(a,mi, y, ma,mo):\n",
    "        a.mileage = mi\n",
    "        a.year = y\n",
    "        a.make = ma\n",
    "        a.model = mo\n",
    "    \n"
   ]
  },
  {
   "cell_type": "code",
   "execution_count": 16,
   "id": "2451b09f",
   "metadata": {},
   "outputs": [],
   "source": [
    "nano1 = car(22,2022,2020,\"highend\")"
   ]
  },
  {
   "cell_type": "code",
   "execution_count": 17,
   "id": "d94111f4",
   "metadata": {},
   "outputs": [
    {
     "data": {
      "text/plain": [
       "22"
      ]
     },
     "execution_count": 17,
     "metadata": {},
     "output_type": "execute_result"
    }
   ],
   "source": [
    "nano1.mileage"
   ]
  },
  {
   "cell_type": "code",
   "execution_count": 18,
   "id": "e2df2d0b",
   "metadata": {},
   "outputs": [
    {
     "data": {
      "text/plain": [
       "20"
      ]
     },
     "execution_count": 18,
     "metadata": {},
     "output_type": "execute_result"
    }
   ],
   "source": [
    "audiq71.mileage"
   ]
  },
  {
   "cell_type": "code",
   "execution_count": 19,
   "id": "34adb187",
   "metadata": {},
   "outputs": [],
   "source": [
    "class car:\n",
    "    def __init__(a,mi, y, ma,mo):\n",
    "        a.mileage = mi\n",
    "        a.year = y\n",
    "        a.make = ma\n",
    "        a.model = mo\n",
    "    def age(b,current_year):\n",
    "        return current_year - b.year\n",
    "    def mileagee(self ):\n",
    "        print(\"print a mileage of car\", self.mileage)\n",
    "        #return str(self.mileage)\n",
    "    def __str__(c):\n",
    "        return \"this is my car class i have created\"\n",
    "    "
   ]
  },
  {
   "cell_type": "code",
   "execution_count": 20,
   "id": "a3c78f18",
   "metadata": {},
   "outputs": [],
   "source": [
    "nano1 = car(22,2022,2020,\"highend\")"
   ]
  },
  {
   "cell_type": "code",
   "execution_count": 21,
   "id": "aa262eec",
   "metadata": {},
   "outputs": [
    {
     "name": "stdout",
     "output_type": "stream",
     "text": [
      "print a mileage of car 22\n"
     ]
    }
   ],
   "source": [
    "nano1.mileagee()"
   ]
  },
  {
   "cell_type": "code",
   "execution_count": 22,
   "id": "201a980b",
   "metadata": {},
   "outputs": [
    {
     "data": {
      "text/plain": [
       "4"
      ]
     },
     "execution_count": 22,
     "metadata": {},
     "output_type": "execute_result"
    }
   ],
   "source": [
    "nano1.age(2026)"
   ]
  },
  {
   "cell_type": "code",
   "execution_count": 23,
   "id": "f6629f68",
   "metadata": {},
   "outputs": [
    {
     "data": {
      "text/plain": [
       "22"
      ]
     },
     "execution_count": 23,
     "metadata": {},
     "output_type": "execute_result"
    }
   ],
   "source": [
    "nano1.mileage"
   ]
  },
  {
   "cell_type": "code",
   "execution_count": 24,
   "id": "e881b0f7",
   "metadata": {},
   "outputs": [
    {
     "name": "stdout",
     "output_type": "stream",
     "text": [
      "this is my car class i have created\n"
     ]
    }
   ],
   "source": [
    "print(nano1)"
   ]
  },
  {
   "cell_type": "code",
   "execution_count": 25,
   "id": "40b109a6",
   "metadata": {},
   "outputs": [],
   "source": [
    "class student:\n",
    "    def __init__(self, name, rollno, joining_date, current_topic):\n",
    "        self.name = name\n",
    "        self.rollno = rollno\n",
    "        self.joining_date = joining_date\n",
    "        self.current_topic = current_topic\n",
    "    def crt_topic(self):\n",
    "        print(\"current topic discussed in my class is \", self.current_topic)\n",
    "    def str_rollno(self):\n",
    "        if type(self.rollno)  == str:\n",
    "            print(\"do nothing\")\n",
    "        else:\n",
    "            return str(self.rollno)\n",
    "    def duration(self, current_date):\n",
    "        print(\"duration of student in my class is \", current_date- self.joining_date )\n",
    "    def __str__(self):\n",
    "        return \"this is student class where they can type to input there own and they can try\""
   ]
  },
  {
   "cell_type": "code",
   "execution_count": 26,
   "id": "488f4c54",
   "metadata": {},
   "outputs": [],
   "source": [
    "vicky = student(\"vicky\",29,2022,\"oops\")"
   ]
  },
  {
   "cell_type": "code",
   "execution_count": 27,
   "id": "f13d4117",
   "metadata": {},
   "outputs": [
    {
     "name": "stdout",
     "output_type": "stream",
     "text": [
      "duration of student in my class is  2\n"
     ]
    }
   ],
   "source": [
    "vicky.duration(2024)"
   ]
  },
  {
   "cell_type": "code",
   "execution_count": 28,
   "id": "cec0524d",
   "metadata": {},
   "outputs": [
    {
     "data": {
      "text/plain": [
       "'29'"
      ]
     },
     "execution_count": 28,
     "metadata": {},
     "output_type": "execute_result"
    }
   ],
   "source": [
    "vicky.str_rollno()"
   ]
  },
  {
   "cell_type": "code",
   "execution_count": 29,
   "id": "82a9a0a5",
   "metadata": {},
   "outputs": [
    {
     "name": "stdout",
     "output_type": "stream",
     "text": [
      "current topic discussed in my class is  oops\n"
     ]
    }
   ],
   "source": [
    "vicky.crt_topic()"
   ]
  },
  {
   "cell_type": "code",
   "execution_count": 30,
   "id": "bb4b7290",
   "metadata": {},
   "outputs": [],
   "source": [
    "vikram = student(\"vikram\", 30,2023,\"oppsss\")"
   ]
  },
  {
   "cell_type": "code",
   "execution_count": 31,
   "id": "820c0e49",
   "metadata": {},
   "outputs": [
    {
     "ename": "TypeError",
     "evalue": "'student' object is not callable",
     "output_type": "error",
     "traceback": [
      "\u001b[1;31m---------------------------------------------------------------------------\u001b[0m",
      "\u001b[1;31mTypeError\u001b[0m                                 Traceback (most recent call last)",
      "\u001b[1;32m~\\AppData\\Local\\Temp\\ipykernel_10236\\338926719.py\u001b[0m in \u001b[0;36m<module>\u001b[1;34m\u001b[0m\n\u001b[1;32m----> 1\u001b[1;33m \u001b[0mvicky\u001b[0m\u001b[1;33m(\u001b[0m\u001b[1;33m)\u001b[0m\u001b[1;33m\u001b[0m\u001b[1;33m\u001b[0m\u001b[0m\n\u001b[0m",
      "\u001b[1;31mTypeError\u001b[0m: 'student' object is not callable"
     ]
    }
   ],
   "source": [
    "vicky()"
   ]
  },
  {
   "cell_type": "code",
   "execution_count": 32,
   "id": "a16aebf2",
   "metadata": {},
   "outputs": [],
   "source": [
    "class student:\n",
    "    def __init__(self, name, rollno, joining_date, current_topic):\n",
    "        self.name = name\n",
    "        self.rollno = rollno\n",
    "        self.joining_date = joining_date\n",
    "        self.current_topic = current_topic\n",
    "    def name_parsing(self):\n",
    "        if type(self.name) == list:\n",
    "            for i in self.name:\n",
    "                print(\"name of the student \", i)\n",
    "        else:\n",
    "            print(\"provided name is not in a form of list\")\n",
    "    def crt_topic(self):\n",
    "        print(\"current topic discussed in my class is \", self.current_topic)\n",
    "    def str_rollno(self):\n",
    "        try:\n",
    "            if type(self.rollno)  == str:\n",
    "                print(\"do nothing\")\n",
    "            else:\n",
    "                return str(self.rollno)\n",
    "        except Exception as e:\n",
    "            print(\"This is my error \", e)\n",
    "    def duration(self, current_date):\n",
    "        print(\"duration of student in my class is \", current_date- self.joining_date )\n",
    "    def __str__(self):\n",
    "        return \"this is student class where they can type to input there own and they can try to fetch it\""
   ]
  },
  {
   "cell_type": "code",
   "execution_count": 33,
   "id": "21cab6ef",
   "metadata": {},
   "outputs": [],
   "source": [
    "vikram = student(\"vikram\",22,2023,\"oppsss\")"
   ]
  },
  {
   "cell_type": "code",
   "execution_count": 34,
   "id": "699f3c87",
   "metadata": {},
   "outputs": [
    {
     "name": "stdout",
     "output_type": "stream",
     "text": [
      "this is student class where they can type to input there own and they can try to fetch it\n"
     ]
    }
   ],
   "source": [
    "print(vikram)"
   ]
  },
  {
   "cell_type": "code",
   "execution_count": 35,
   "id": "0d47e0cf",
   "metadata": {},
   "outputs": [],
   "source": [
    "a = student([\"naveen\",\"jay\",\"himanshu\",\"prakash\"],[1,2,3,4],2022,\"oops\")"
   ]
  },
  {
   "cell_type": "code",
   "execution_count": 36,
   "id": "53a34507",
   "metadata": {},
   "outputs": [
    {
     "name": "stdout",
     "output_type": "stream",
     "text": [
      "name of the student  naveen\n",
      "name of the student  jay\n",
      "name of the student  himanshu\n",
      "name of the student  prakash\n"
     ]
    }
   ],
   "source": [
    "a.name_parsing()"
   ]
  },
  {
   "cell_type": "code",
   "execution_count": 37,
   "id": "01e68fe6",
   "metadata": {},
   "outputs": [
    {
     "data": {
      "text/plain": [
       "<bound method student.str_rollno of <__main__.student object at 0x00000244351FBF10>>"
      ]
     },
     "execution_count": 37,
     "metadata": {},
     "output_type": "execute_result"
    }
   ],
   "source": [
    "a.str_rollno"
   ]
  },
  {
   "cell_type": "code",
   "execution_count": 38,
   "id": "8cac5055",
   "metadata": {},
   "outputs": [
    {
     "data": {
      "text/plain": [
       "['naveen', 'jay', 'himanshu', 'prakash']"
      ]
     },
     "execution_count": 38,
     "metadata": {},
     "output_type": "execute_result"
    }
   ],
   "source": [
    "a.name"
   ]
  },
  {
   "cell_type": "code",
   "execution_count": 39,
   "id": "0455034c",
   "metadata": {},
   "outputs": [],
   "source": [
    "class data:\n",
    "    def __init__(self,filename,filetype,date,size):\n",
    "        self.filename=filename\n",
    "        self.filetype=filetype\n",
    "        self.date=date\n",
    "        self.size=size\n",
    "    def fileopen(self):\n",
    "        f = open(self.filename,'w')\n",
    "        f.write(\"this is test file\")\n",
    "        f.close()\n",
    "    def fileread(self):\n",
    "        f = open(self.filename,'r')\n",
    "        print(f.read())\n",
    "        f.close()\n",
    "    def fileappend(self):\n",
    "        f = open(self.filename,'a')\n",
    "        f.write(\"appending data to file\")\n",
    "        f.close()\n",
    "file1=data(\"file1\",\"text\",\"03-01-2023\",\"2mb\")\n",
    "\n",
    "    "
   ]
  },
  {
   "cell_type": "code",
   "execution_count": null,
   "id": "6a419af9",
   "metadata": {},
   "outputs": [],
   "source": []
  },
  {
   "cell_type": "code",
   "execution_count": null,
   "id": "cc271ac4",
   "metadata": {},
   "outputs": [],
   "source": []
  },
  {
   "cell_type": "code",
   "execution_count": null,
   "id": "aa209d42",
   "metadata": {},
   "outputs": [],
   "source": []
  },
  {
   "cell_type": "code",
   "execution_count": null,
   "id": "1ceb9ba9",
   "metadata": {},
   "outputs": [],
   "source": []
  }
 ],
 "metadata": {
  "kernelspec": {
   "display_name": "Python 3 (ipykernel)",
   "language": "python",
   "name": "python3"
  },
  "language_info": {
   "codemirror_mode": {
    "name": "ipython",
    "version": 3
   },
   "file_extension": ".py",
   "mimetype": "text/x-python",
   "name": "python",
   "nbconvert_exporter": "python",
   "pygments_lexer": "ipython3",
   "version": "3.9.13"
  }
 },
 "nbformat": 4,
 "nbformat_minor": 5
}
