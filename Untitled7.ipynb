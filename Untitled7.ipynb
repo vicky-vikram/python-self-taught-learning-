{
 "cells": [
  {
   "cell_type": "code",
   "execution_count": 2,
   "id": "6d2173d8",
   "metadata": {},
   "outputs": [],
   "source": [
    "f = ()"
   ]
  },
  {
   "cell_type": "code",
   "execution_count": 3,
   "id": "eb43627b",
   "metadata": {},
   "outputs": [
    {
     "data": {
      "text/plain": [
       "tuple"
      ]
     },
     "execution_count": 3,
     "metadata": {},
     "output_type": "execute_result"
    }
   ],
   "source": [
    "type(f)"
   ]
  },
  {
   "cell_type": "code",
   "execution_count": 4,
   "id": "01eb2d23",
   "metadata": {},
   "outputs": [],
   "source": [
    "t = (123,234,\"vikcy\",345,True)"
   ]
  },
  {
   "cell_type": "code",
   "execution_count": 5,
   "id": "2f4bee1b",
   "metadata": {},
   "outputs": [
    {
     "data": {
      "text/plain": [
       "'vikcy'"
      ]
     },
     "execution_count": 5,
     "metadata": {},
     "output_type": "execute_result"
    }
   ],
   "source": [
    "t[2]"
   ]
  },
  {
   "cell_type": "code",
   "execution_count": 6,
   "id": "394b6cb4",
   "metadata": {},
   "outputs": [
    {
     "ename": "AttributeError",
     "evalue": "'tuple' object has no attribute 'insert'",
     "output_type": "error",
     "traceback": [
      "\u001b[1;31m---------------------------------------------------------------------------\u001b[0m",
      "\u001b[1;31mAttributeError\u001b[0m                            Traceback (most recent call last)",
      "\u001b[1;32m~\\AppData\\Local\\Temp\\ipykernel_6484\\91087968.py\u001b[0m in \u001b[0;36m<module>\u001b[1;34m\u001b[0m\n\u001b[1;32m----> 1\u001b[1;33m \u001b[0mt\u001b[0m\u001b[1;33m.\u001b[0m\u001b[0minsert\u001b[0m\u001b[1;33m(\u001b[0m\u001b[1;36m2\u001b[0m\u001b[1;33m,\u001b[0m\u001b[1;36m2\u001b[0m\u001b[1;33m)\u001b[0m\u001b[1;33m\u001b[0m\u001b[1;33m\u001b[0m\u001b[0m\n\u001b[0m",
      "\u001b[1;31mAttributeError\u001b[0m: 'tuple' object has no attribute 'insert'"
     ]
    }
   ],
   "source": [
    "t.insert(2,2)"
   ]
  },
  {
   "cell_type": "code",
   "execution_count": 7,
   "id": "132347d0",
   "metadata": {},
   "outputs": [
    {
     "data": {
      "text/plain": [
       "(123, 234, 'vikcy', 345, True)"
      ]
     },
     "execution_count": 7,
     "metadata": {},
     "output_type": "execute_result"
    }
   ],
   "source": [
    "t"
   ]
  },
  {
   "cell_type": "code",
   "execution_count": 8,
   "id": "8bf7cb61",
   "metadata": {},
   "outputs": [],
   "source": [
    "t2 = (43,24,54,543)"
   ]
  },
  {
   "cell_type": "code",
   "execution_count": 9,
   "id": "8ccd1575",
   "metadata": {},
   "outputs": [
    {
     "data": {
      "text/plain": [
       "(123, 234, 'vikcy', 345, True, 43, 24, 54, 543)"
      ]
     },
     "execution_count": 9,
     "metadata": {},
     "output_type": "execute_result"
    }
   ],
   "source": [
    "t+t2"
   ]
  },
  {
   "cell_type": "code",
   "execution_count": 10,
   "id": "c6f84a9c",
   "metadata": {},
   "outputs": [
    {
     "data": {
      "text/plain": [
       "(123, 234, 'vikcy', 345, True, 123, 234, 'vikcy', 345, True)"
      ]
     },
     "execution_count": 10,
     "metadata": {},
     "output_type": "execute_result"
    }
   ],
   "source": [
    " t*2"
   ]
  },
  {
   "cell_type": "code",
   "execution_count": 11,
   "id": "1b17e339",
   "metadata": {},
   "outputs": [
    {
     "data": {
      "text/plain": [
       "True"
      ]
     },
     "execution_count": 11,
     "metadata": {},
     "output_type": "execute_result"
    }
   ],
   "source": [
    "123 in t"
   ]
  },
  {
   "cell_type": "code",
   "execution_count": 12,
   "id": "c0b37116",
   "metadata": {},
   "outputs": [
    {
     "data": {
      "text/plain": [
       "False"
      ]
     },
     "execution_count": 12,
     "metadata": {},
     "output_type": "execute_result"
    }
   ],
   "source": [
    "123 in t2"
   ]
  },
  {
   "cell_type": "code",
   "execution_count": 13,
   "id": "cd16eaa7",
   "metadata": {},
   "outputs": [
    {
     "ename": "TypeError",
     "evalue": "'>' not supported between instances of 'str' and 'int'",
     "output_type": "error",
     "traceback": [
      "\u001b[1;31m---------------------------------------------------------------------------\u001b[0m",
      "\u001b[1;31mTypeError\u001b[0m                                 Traceback (most recent call last)",
      "\u001b[1;32m~\\AppData\\Local\\Temp\\ipykernel_6484\\1079362002.py\u001b[0m in \u001b[0;36m<module>\u001b[1;34m\u001b[0m\n\u001b[1;32m----> 1\u001b[1;33m \u001b[0mmax\u001b[0m\u001b[1;33m(\u001b[0m\u001b[0mt\u001b[0m\u001b[1;33m)\u001b[0m\u001b[1;33m\u001b[0m\u001b[1;33m\u001b[0m\u001b[0m\n\u001b[0m",
      "\u001b[1;31mTypeError\u001b[0m: '>' not supported between instances of 'str' and 'int'"
     ]
    }
   ],
   "source": [
    "max(t)"
   ]
  },
  {
   "cell_type": "code",
   "execution_count": 14,
   "id": "2a59ce4e",
   "metadata": {},
   "outputs": [],
   "source": [
    " t3 = (1,2,3,4,4,54,52,23,233,3)"
   ]
  },
  {
   "cell_type": "code",
   "execution_count": 15,
   "id": "d4dff836",
   "metadata": {},
   "outputs": [
    {
     "data": {
      "text/plain": [
       "233"
      ]
     },
     "execution_count": 15,
     "metadata": {},
     "output_type": "execute_result"
    }
   ],
   "source": [
    "max(t3)"
   ]
  },
  {
   "cell_type": "code",
   "execution_count": 16,
   "id": "fc5ee9ff",
   "metadata": {},
   "outputs": [
    {
     "data": {
      "text/plain": [
       "1"
      ]
     },
     "execution_count": 16,
     "metadata": {},
     "output_type": "execute_result"
    }
   ],
   "source": [
    "min (t3)"
   ]
  },
  {
   "cell_type": "code",
   "execution_count": 17,
   "id": "26e147e5",
   "metadata": {},
   "outputs": [
    {
     "ename": "TypeError",
     "evalue": "tuple.count() takes exactly one argument (0 given)",
     "output_type": "error",
     "traceback": [
      "\u001b[1;31m---------------------------------------------------------------------------\u001b[0m",
      "\u001b[1;31mTypeError\u001b[0m                                 Traceback (most recent call last)",
      "\u001b[1;32m~\\AppData\\Local\\Temp\\ipykernel_6484\\1802500412.py\u001b[0m in \u001b[0;36m<module>\u001b[1;34m\u001b[0m\n\u001b[1;32m----> 1\u001b[1;33m \u001b[0mt\u001b[0m\u001b[1;33m.\u001b[0m\u001b[0mcount\u001b[0m\u001b[1;33m(\u001b[0m\u001b[1;33m)\u001b[0m\u001b[1;33m\u001b[0m\u001b[1;33m\u001b[0m\u001b[0m\n\u001b[0m",
      "\u001b[1;31mTypeError\u001b[0m: tuple.count() takes exactly one argument (0 given)"
     ]
    }
   ],
   "source": [
    "t.count()"
   ]
  },
  {
   "cell_type": "code",
   "execution_count": 18,
   "id": "9ff98799",
   "metadata": {},
   "outputs": [
    {
     "data": {
      "text/plain": [
       "2"
      ]
     },
     "execution_count": 18,
     "metadata": {},
     "output_type": "execute_result"
    }
   ],
   "source": [
    "t3.count(4)"
   ]
  },
  {
   "cell_type": "code",
   "execution_count": 22,
   "id": "f0d1346d",
   "metadata": {},
   "outputs": [
    {
     "data": {
      "text/plain": [
       "3"
      ]
     },
     "execution_count": 22,
     "metadata": {},
     "output_type": "execute_result"
    }
   ],
   "source": [
    "t3.index(4)"
   ]
  },
  {
   "cell_type": "code",
   "execution_count": 23,
   "id": "c737bd13",
   "metadata": {},
   "outputs": [
    {
     "data": {
      "text/plain": [
       "0"
      ]
     },
     "execution_count": 23,
     "metadata": {},
     "output_type": "execute_result"
    }
   ],
   "source": [
    "t3.count(5)"
   ]
  },
  {
   "cell_type": "code",
   "execution_count": 24,
   "id": "49382dfb",
   "metadata": {},
   "outputs": [
    {
     "data": {
      "text/plain": [
       "1"
      ]
     },
     "execution_count": 24,
     "metadata": {},
     "output_type": "execute_result"
    }
   ],
   "source": [
    "min(t3)"
   ]
  },
  {
   "cell_type": "code",
   "execution_count": 25,
   "id": "766dc31c",
   "metadata": {},
   "outputs": [],
   "source": [
    "l = list(t) "
   ]
  },
  {
   "cell_type": "code",
   "execution_count": 26,
   "id": "15d818c8",
   "metadata": {},
   "outputs": [
    {
     "data": {
      "text/plain": [
       "list"
      ]
     },
     "execution_count": 26,
     "metadata": {},
     "output_type": "execute_result"
    }
   ],
   "source": [
    "type(l)"
   ]
  },
  {
   "cell_type": "code",
   "execution_count": 27,
   "id": "a60f2de9",
   "metadata": {},
   "outputs": [],
   "source": [
    "l.insert(2,t2)"
   ]
  },
  {
   "cell_type": "code",
   "execution_count": 28,
   "id": "c57f9bca",
   "metadata": {},
   "outputs": [
    {
     "data": {
      "text/plain": [
       "[123, 234, (43, 24, 54, 543), 'vikcy', 345, True]"
      ]
     },
     "execution_count": 28,
     "metadata": {},
     "output_type": "execute_result"
    }
   ],
   "source": [
    "l"
   ]
  },
  {
   "cell_type": "code",
   "execution_count": 29,
   "id": "3dbee0d3",
   "metadata": {},
   "outputs": [
    {
     "data": {
      "text/plain": [
       "(123, 234, (43, 24, 54, 543), 'vikcy', 345, True)"
      ]
     },
     "execution_count": 29,
     "metadata": {},
     "output_type": "execute_result"
    }
   ],
   "source": [
    "tuple(l)"
   ]
  },
  {
   "cell_type": "code",
   "execution_count": 30,
   "id": "ca9ac9aa",
   "metadata": {},
   "outputs": [
    {
     "data": {
      "text/plain": [
       "(123, 234, 'vikcy', 345, True)"
      ]
     },
     "execution_count": 30,
     "metadata": {},
     "output_type": "execute_result"
    }
   ],
   "source": [
    "t"
   ]
  },
  {
   "cell_type": "code",
   "execution_count": 31,
   "id": "55e14d9d",
   "metadata": {},
   "outputs": [],
   "source": [
    "t = tuple(l)"
   ]
  },
  {
   "cell_type": "code",
   "execution_count": 32,
   "id": "354e1bbd",
   "metadata": {},
   "outputs": [
    {
     "data": {
      "text/plain": [
       "(123, 234, (43, 24, 54, 543), 'vikcy', 345, True)"
      ]
     },
     "execution_count": 32,
     "metadata": {},
     "output_type": "execute_result"
    }
   ],
   "source": [
    "t"
   ]
  },
  {
   "cell_type": "code",
   "execution_count": 4,
   "id": "6b10a2aa",
   "metadata": {},
   "outputs": [],
   "source": [
    "t = ((1,2,3,3,434,4), (\"vicky\",123,23,23),43,34,[\"sa\",23,23,12,21])"
   ]
  },
  {
   "cell_type": "code",
   "execution_count": 8,
   "id": "3d6a800d",
   "metadata": {},
   "outputs": [
    {
     "data": {
      "text/plain": [
       "str"
      ]
     },
     "execution_count": 8,
     "metadata": {},
     "output_type": "execute_result"
    }
   ],
   "source": [
    "  type(t[4][0])"
   ]
  },
  {
   "cell_type": "code",
   "execution_count": 9,
   "id": "d6451545",
   "metadata": {},
   "outputs": [
    {
     "data": {
      "text/plain": [
       "(23, 23, 123, 'vicky')"
      ]
     },
     "execution_count": 9,
     "metadata": {},
     "output_type": "execute_result"
    }
   ],
   "source": [
    "t[1][::-1]"
   ]
  },
  {
   "cell_type": "code",
   "execution_count": 10,
   "id": "9a5ac5a2",
   "metadata": {},
   "outputs": [
    {
     "name": "stdout",
     "output_type": "stream",
     "text": [
      "(1, 2, 3, 3, 434, 4)\n",
      "('vicky', 123, 23, 23)\n",
      "43\n",
      "34\n",
      "['sa', 23, 23, 12]\n"
     ]
    }
   ],
   "source": [
    "for i in t:\n",
    "    print(i)"
   ]
  },
  {
   "cell_type": "code",
   "execution_count": 13,
   "id": "c28c98c4",
   "metadata": {},
   "outputs": [
    {
     "name": "stdout",
     "output_type": "stream",
     "text": [
      "(1, 2, 3, 3, 434, 4)\n",
      "('vicky', 123, 23, 23)\n",
      "['sa', 23, 23, 12]\n"
     ]
    }
   ],
   "source": [
    "for i in t:\n",
    "    if type(i)==tuple:\n",
    "        print(i)\n",
    "    elif type(i)==list:\n",
    "        print(i)"
   ]
  },
  {
   "cell_type": "code",
   "execution_count": 16,
   "id": "b92f27c5",
   "metadata": {},
   "outputs": [
    {
     "data": {
      "text/plain": [
       "((1, 2, 3, 3, 434, 4), ('vicky', 123, 23, 23), 43, 34, ['sa', 23, 23, 12])"
      ]
     },
     "execution_count": 16,
     "metadata": {},
     "output_type": "execute_result"
    }
   ],
   "source": [
    "t"
   ]
  },
  {
   "cell_type": "code",
   "execution_count": 20,
   "id": "8ec7b01c",
   "metadata": {},
   "outputs": [],
   "source": [
    "t2 = (1,2,3,4,343,42,2,122,4,223,23,12)"
   ]
  },
  {
   "cell_type": "markdown",
   "id": "a33449f2",
   "metadata": {},
   "source": [
    "### "
   ]
  },
  {
   "cell_type": "code",
   "execution_count": 21,
   "id": "da03bca9",
   "metadata": {},
   "outputs": [
    {
     "data": {
      "text/plain": [
       "(1, 2, 3, 4, 343, 42, 2, 122, 4, 223, 23, 12)"
      ]
     },
     "execution_count": 21,
     "metadata": {},
     "output_type": "execute_result"
    }
   ],
   "source": [
    "t2"
   ]
  },
  {
   "cell_type": "code",
   "execution_count": 22,
   "id": "7fd8525a",
   "metadata": {},
   "outputs": [],
   "source": [
    "t3 = (43,534,2,3587,879,435,34,68,78,7,76)"
   ]
  },
  {
   "cell_type": "code",
   "execution_count": 23,
   "id": "3da6613c",
   "metadata": {},
   "outputs": [
    {
     "name": "stdout",
     "output_type": "stream",
     "text": [
      "not same\n"
     ]
    }
   ],
   "source": [
    "if len(t2)==len(t3):\n",
    "    print(\"its same\")\n",
    "else:\n",
    "    print(\"not same\")"
   ]
  },
  {
   "cell_type": "code",
   "execution_count": 24,
   "id": "4a71b6b7",
   "metadata": {},
   "outputs": [
    {
     "data": {
      "text/plain": [
       "((1, 2, 3, 3, 434, 4), ('vicky', 123, 23, 23), 43, 34, ['sa', 23, 23, 12])"
      ]
     },
     "execution_count": 24,
     "metadata": {},
     "output_type": "execute_result"
    }
   ],
   "source": [
    "t\n"
   ]
  },
  {
   "cell_type": "code",
   "execution_count": 25,
   "id": "c01f1bcd",
   "metadata": {},
   "outputs": [
    {
     "name": "stdout",
     "output_type": "stream",
     "text": [
      "user input:   1\n",
      "not available\n"
     ]
    }
   ],
   "source": [
    "i = input(\"user input:   \")\n",
    "if i in t:\n",
    "    print(\"available\")\n",
    "else:\n",
    "    print(\"not available\")"
   ]
  },
  {
   "cell_type": "code",
   "execution_count": 34,
   "id": "6b140489",
   "metadata": {},
   "outputs": [],
   "source": [
    "t = (1,2,3,4,45,\"vicky\",34,56,879,\"vikram\")"
   ]
  },
  {
   "cell_type": "code",
   "execution_count": 35,
   "id": "a8eda104",
   "metadata": {},
   "outputs": [],
   "source": [
    "del(t)   #it will be deleted"
   ]
  },
  {
   "cell_type": "code",
   "execution_count": 36,
   "id": "d62f9808",
   "metadata": {},
   "outputs": [
    {
     "ename": "NameError",
     "evalue": "name 't' is not defined",
     "output_type": "error",
     "traceback": [
      "\u001b[1;31m---------------------------------------------------------------------------\u001b[0m",
      "\u001b[1;31mNameError\u001b[0m                                 Traceback (most recent call last)",
      "\u001b[1;32m~\\AppData\\Local\\Temp\\ipykernel_496\\3790515489.py\u001b[0m in \u001b[0;36m<module>\u001b[1;34m\u001b[0m\n\u001b[1;32m----> 1\u001b[1;33m \u001b[0mt\u001b[0m\u001b[1;33m\u001b[0m\u001b[1;33m\u001b[0m\u001b[0m\n\u001b[0m",
      "\u001b[1;31mNameError\u001b[0m: name 't' is not defined"
     ]
    }
   ],
   "source": [
    "t"
   ]
  },
  {
   "cell_type": "code",
   "execution_count": 38,
   "id": "80d1518f",
   "metadata": {},
   "outputs": [],
   "source": [
    " l = [1,2,2,3,4,67,5234,554]"
   ]
  },
  {
   "cell_type": "code",
   "execution_count": null,
   "id": "8bd553da",
   "metadata": {},
   "outputs": [],
   "source": []
  },
  {
   "cell_type": "code",
   "execution_count": 39,
   "id": "8491c5bf",
   "metadata": {},
   "outputs": [
    {
     "data": {
      "text/plain": [
       "[1, 2, 2, 3, 4, 67, 5234, 554]"
      ]
     },
     "execution_count": 39,
     "metadata": {},
     "output_type": "execute_result"
    }
   ],
   "source": [
    "l"
   ]
  },
  {
   "cell_type": "code",
   "execution_count": 40,
   "id": "b469adef",
   "metadata": {},
   "outputs": [],
   "source": [
    "del(l)"
   ]
  },
  {
   "cell_type": "code",
   "execution_count": 41,
   "id": "9598f206",
   "metadata": {},
   "outputs": [
    {
     "ename": "NameError",
     "evalue": "name 'l' is not defined",
     "output_type": "error",
     "traceback": [
      "\u001b[1;31m---------------------------------------------------------------------------\u001b[0m",
      "\u001b[1;31mNameError\u001b[0m                                 Traceback (most recent call last)",
      "\u001b[1;32m~\\AppData\\Local\\Temp\\ipykernel_496\\3723490112.py\u001b[0m in \u001b[0;36m<module>\u001b[1;34m\u001b[0m\n\u001b[1;32m----> 1\u001b[1;33m \u001b[0ml\u001b[0m\u001b[1;33m\u001b[0m\u001b[1;33m\u001b[0m\u001b[0m\n\u001b[0m",
      "\u001b[1;31mNameError\u001b[0m: name 'l' is not defined"
     ]
    }
   ],
   "source": [
    "l"
   ]
  },
  {
   "cell_type": "code",
   "execution_count": 42,
   "id": "589c4781",
   "metadata": {},
   "outputs": [],
   "source": [
    "#set"
   ]
  },
  {
   "cell_type": "code",
   "execution_count": 1,
   "id": "af2fcb49",
   "metadata": {},
   "outputs": [],
   "source": [
    "x = set()"
   ]
  },
  {
   "cell_type": "code",
   "execution_count": 2,
   "id": "03cd89c2",
   "metadata": {},
   "outputs": [
    {
     "data": {
      "text/plain": [
       "set"
      ]
     },
     "execution_count": 2,
     "metadata": {},
     "output_type": "execute_result"
    }
   ],
   "source": [
    "type(x)"
   ]
  },
  {
   "cell_type": "code",
   "execution_count": 4,
   "id": "46677a1a",
   "metadata": {},
   "outputs": [],
   "source": [
    "l =   [1,1,2,2,3,3,3,4,4,4,4,5,5,5,6,6,6,9,67,7,8,7, \"vicky\", \"vicky\", \"vikram\"]"
   ]
  },
  {
   "cell_type": "code",
   "execution_count": 7,
   "id": "d2d2d719",
   "metadata": {},
   "outputs": [],
   "source": [
    "s =set(l)"
   ]
  },
  {
   "cell_type": "code",
   "execution_count": null,
   "id": "56e8dde2",
   "metadata": {},
   "outputs": [],
   "source": []
  },
  {
   "cell_type": "code",
   "execution_count": 8,
   "id": "da324753",
   "metadata": {},
   "outputs": [
    {
     "data": {
      "text/plain": [
       "{1, 2, 3, 4, 5, 6, 67, 7, 8, 9, 'vicky', 'vikram'}"
      ]
     },
     "execution_count": 8,
     "metadata": {},
     "output_type": "execute_result"
    }
   ],
   "source": [
    "s"
   ]
  },
  {
   "cell_type": "code",
   "execution_count": 9,
   "id": "65587824",
   "metadata": {},
   "outputs": [
    {
     "name": "stdout",
     "output_type": "stream",
     "text": [
      "1\n",
      "2\n",
      "3\n",
      "4\n",
      "5\n",
      "6\n",
      "67\n",
      "7\n",
      "9\n",
      "8\n",
      "vicky\n",
      "vikram\n"
     ]
    }
   ],
   "source": [
    "for i in s:\n",
    "    print(i)"
   ]
  },
  {
   "cell_type": "code",
   "execution_count": 10,
   "id": "0ca6a957",
   "metadata": {},
   "outputs": [
    {
     "data": {
      "text/plain": [
       "True"
      ]
     },
     "execution_count": 10,
     "metadata": {},
     "output_type": "execute_result"
    }
   ],
   "source": [
    "1 in s"
   ]
  },
  {
   "cell_type": "code",
   "execution_count": 12,
   "id": "805956cc",
   "metadata": {},
   "outputs": [
    {
     "ename": "TypeError",
     "evalue": "'set' object is not subscriptable",
     "output_type": "error",
     "traceback": [
      "\u001b[1;31m---------------------------------------------------------------------------\u001b[0m",
      "\u001b[1;31mTypeError\u001b[0m                                 Traceback (most recent call last)",
      "\u001b[1;32m~\\AppData\\Local\\Temp\\ipykernel_6772\\287792665.py\u001b[0m in \u001b[0;36m<module>\u001b[1;34m\u001b[0m\n\u001b[1;32m----> 1\u001b[1;33m \u001b[0mprint\u001b[0m\u001b[1;33m(\u001b[0m\u001b[0ms\u001b[0m\u001b[1;33m[\u001b[0m\u001b[1;36m0\u001b[0m\u001b[1;33m]\u001b[0m\u001b[1;33m)\u001b[0m\u001b[1;33m\u001b[0m\u001b[1;33m\u001b[0m\u001b[0m\n\u001b[0m",
      "\u001b[1;31mTypeError\u001b[0m: 'set' object is not subscriptable"
     ]
    }
   ],
   "source": [
    "print(s[0])"
   ]
  },
  {
   "cell_type": "code",
   "execution_count": 13,
   "id": "9469002f",
   "metadata": {},
   "outputs": [
    {
     "data": {
      "text/plain": [
       "set()"
      ]
     },
     "execution_count": 13,
     "metadata": {},
     "output_type": "execute_result"
    }
   ],
   "source": [
    "s = set()\n",
    "s"
   ]
  },
  {
   "cell_type": "code",
   "execution_count": 14,
   "id": "66c933e0",
   "metadata": {},
   "outputs": [
    {
     "ename": "SyntaxError",
     "evalue": "invalid syntax (1193420968.py, line 1)",
     "output_type": "error",
     "traceback": [
      "\u001b[1;36m  File \u001b[1;32m\"C:\\Users\\Admin\\AppData\\Local\\Temp\\ipykernel_6772\\1193420968.py\"\u001b[1;36m, line \u001b[1;32m1\u001b[0m\n\u001b[1;33m    s.add(1,1,1,2,2,2,3,3,3,3,,44,4,4)\u001b[0m\n\u001b[1;37m                              ^\u001b[0m\n\u001b[1;31mSyntaxError\u001b[0m\u001b[1;31m:\u001b[0m invalid syntax\n"
     ]
    }
   ],
   "source": [
    "s.add(1,1,1,2,2,2,3,3,3,3,,44,4,4)"
   ]
  },
  {
   "cell_type": "code",
   "execution_count": 15,
   "id": "ee5d3e33",
   "metadata": {},
   "outputs": [],
   "source": [
    "s.add(1)"
   ]
  },
  {
   "cell_type": "code",
   "execution_count": 16,
   "id": "ad8216cf",
   "metadata": {},
   "outputs": [
    {
     "data": {
      "text/plain": [
       "{1}"
      ]
     },
     "execution_count": 16,
     "metadata": {},
     "output_type": "execute_result"
    }
   ],
   "source": [
    "s"
   ]
  },
  {
   "cell_type": "code",
   "execution_count": 17,
   "id": "0b8e095d",
   "metadata": {},
   "outputs": [
    {
     "ename": "TypeError",
     "evalue": "set.add() takes exactly one argument (2 given)",
     "output_type": "error",
     "traceback": [
      "\u001b[1;31m---------------------------------------------------------------------------\u001b[0m",
      "\u001b[1;31mTypeError\u001b[0m                                 Traceback (most recent call last)",
      "\u001b[1;32m~\\AppData\\Local\\Temp\\ipykernel_6772\\1507874462.py\u001b[0m in \u001b[0;36m<module>\u001b[1;34m\u001b[0m\n\u001b[1;32m----> 1\u001b[1;33m \u001b[0ms\u001b[0m\u001b[1;33m.\u001b[0m\u001b[0madd\u001b[0m\u001b[1;33m(\u001b[0m\u001b[1;36m1\u001b[0m\u001b[1;33m,\u001b[0m\u001b[1;36m2\u001b[0m\u001b[1;33m)\u001b[0m\u001b[1;33m\u001b[0m\u001b[1;33m\u001b[0m\u001b[0m\n\u001b[0m",
      "\u001b[1;31mTypeError\u001b[0m: set.add() takes exactly one argument (2 given)"
     ]
    }
   ],
   "source": [
    "s.add(1,2)"
   ]
  },
  {
   "cell_type": "code",
   "execution_count": 18,
   "id": "7ec76a0c",
   "metadata": {},
   "outputs": [],
   "source": [
    "s.clear()"
   ]
  },
  {
   "cell_type": "code",
   "execution_count": 19,
   "id": "e8290e34",
   "metadata": {},
   "outputs": [
    {
     "data": {
      "text/plain": [
       "set()"
      ]
     },
     "execution_count": 19,
     "metadata": {},
     "output_type": "execute_result"
    }
   ],
   "source": [
    "s"
   ]
  },
  {
   "cell_type": "code",
   "execution_count": 20,
   "id": "8a003fd8",
   "metadata": {},
   "outputs": [],
   "source": [
    "s=set()"
   ]
  },
  {
   "cell_type": "code",
   "execution_count": 21,
   "id": "2de7a074",
   "metadata": {},
   "outputs": [],
   "source": [
    "s.add(45)"
   ]
  },
  {
   "cell_type": "code",
   "execution_count": 22,
   "id": "8d3f284a",
   "metadata": {},
   "outputs": [],
   "source": [
    "s.add(44)"
   ]
  },
  {
   "cell_type": "code",
   "execution_count": 23,
   "id": "b6e26b9f",
   "metadata": {},
   "outputs": [
    {
     "data": {
      "text/plain": [
       "{44, 45}"
      ]
     },
     "execution_count": 23,
     "metadata": {},
     "output_type": "execute_result"
    }
   ],
   "source": [
    "s"
   ]
  },
  {
   "cell_type": "code",
   "execution_count": 24,
   "id": "8d449b4b",
   "metadata": {},
   "outputs": [],
   "source": [
    "s.add(\"vicky\")"
   ]
  },
  {
   "cell_type": "code",
   "execution_count": 25,
   "id": "06b0c0e7",
   "metadata": {},
   "outputs": [
    {
     "data": {
      "text/plain": [
       "{44, 45, 'vicky'}"
      ]
     },
     "execution_count": 25,
     "metadata": {},
     "output_type": "execute_result"
    }
   ],
   "source": [
    "s"
   ]
  },
  {
   "cell_type": "code",
   "execution_count": 26,
   "id": "54720897",
   "metadata": {},
   "outputs": [],
   "source": [
    "s.remove(45)"
   ]
  },
  {
   "cell_type": "code",
   "execution_count": 27,
   "id": "77569dbd",
   "metadata": {},
   "outputs": [
    {
     "data": {
      "text/plain": [
       "{44, 'vicky'}"
      ]
     },
     "execution_count": 27,
     "metadata": {},
     "output_type": "execute_result"
    }
   ],
   "source": [
    "s"
   ]
  },
  {
   "cell_type": "code",
   "execution_count": 28,
   "id": "4566bfce",
   "metadata": {},
   "outputs": [
    {
     "ename": "KeyError",
     "evalue": "45",
     "output_type": "error",
     "traceback": [
      "\u001b[1;31m---------------------------------------------------------------------------\u001b[0m",
      "\u001b[1;31mKeyError\u001b[0m                                  Traceback (most recent call last)",
      "\u001b[1;32m~\\AppData\\Local\\Temp\\ipykernel_6772\\2010124880.py\u001b[0m in \u001b[0;36m<module>\u001b[1;34m\u001b[0m\n\u001b[1;32m----> 1\u001b[1;33m \u001b[0ms\u001b[0m\u001b[1;33m.\u001b[0m\u001b[0mremove\u001b[0m\u001b[1;33m(\u001b[0m\u001b[1;36m45\u001b[0m\u001b[1;33m)\u001b[0m\u001b[1;33m\u001b[0m\u001b[1;33m\u001b[0m\u001b[0m\n\u001b[0m",
      "\u001b[1;31mKeyError\u001b[0m: 45"
     ]
    }
   ],
   "source": [
    "s.remove(45)"
   ]
  },
  {
   "cell_type": "code",
   "execution_count": 29,
   "id": "d217f759",
   "metadata": {},
   "outputs": [],
   "source": [
    "s.add(45)"
   ]
  },
  {
   "cell_type": "code",
   "execution_count": 30,
   "id": "bbde9ba2",
   "metadata": {},
   "outputs": [
    {
     "data": {
      "text/plain": [
       "{44, 45, 'vicky'}"
      ]
     },
     "execution_count": 30,
     "metadata": {},
     "output_type": "execute_result"
    }
   ],
   "source": [
    "s"
   ]
  },
  {
   "cell_type": "code",
   "execution_count": 31,
   "id": "025d3c65",
   "metadata": {},
   "outputs": [],
   "source": [
    "s.clear()"
   ]
  },
  {
   "cell_type": "code",
   "execution_count": 32,
   "id": "a45762fa",
   "metadata": {},
   "outputs": [
    {
     "data": {
      "text/plain": [
       "set()"
      ]
     },
     "execution_count": 32,
     "metadata": {},
     "output_type": "execute_result"
    }
   ],
   "source": [
    "s"
   ]
  },
  {
   "cell_type": "code",
   "execution_count": 33,
   "id": "e9c84b91",
   "metadata": {},
   "outputs": [
    {
     "ename": "TypeError",
     "evalue": "set.copy() takes no arguments (1 given)",
     "output_type": "error",
     "traceback": [
      "\u001b[1;31m---------------------------------------------------------------------------\u001b[0m",
      "\u001b[1;31mTypeError\u001b[0m                                 Traceback (most recent call last)",
      "\u001b[1;32m~\\AppData\\Local\\Temp\\ipykernel_6772\\3956969884.py\u001b[0m in \u001b[0;36m<module>\u001b[1;34m\u001b[0m\n\u001b[1;32m----> 1\u001b[1;33m \u001b[0ms\u001b[0m\u001b[1;33m.\u001b[0m\u001b[0mcopy\u001b[0m\u001b[1;33m(\u001b[0m\u001b[1;36m45\u001b[0m\u001b[1;33m)\u001b[0m\u001b[1;33m\u001b[0m\u001b[1;33m\u001b[0m\u001b[0m\n\u001b[0m",
      "\u001b[1;31mTypeError\u001b[0m: set.copy() takes no arguments (1 given)"
     ]
    }
   ],
   "source": [
    "s.copy(45)"
   ]
  },
  {
   "cell_type": "code",
   "execution_count": 34,
   "id": "5d2ebaa3",
   "metadata": {},
   "outputs": [],
   "source": [
    "s=set(l)"
   ]
  },
  {
   "cell_type": "code",
   "execution_count": 35,
   "id": "07b0f6b2",
   "metadata": {},
   "outputs": [
    {
     "data": {
      "text/plain": [
       "{1, 2, 3, 4, 5, 6, 67, 7, 8, 9, 'vicky', 'vikram'}"
      ]
     },
     "execution_count": 35,
     "metadata": {},
     "output_type": "execute_result"
    }
   ],
   "source": [
    "s"
   ]
  },
  {
   "cell_type": "code",
   "execution_count": 36,
   "id": "3bf48000",
   "metadata": {},
   "outputs": [],
   "source": [
    "s.remove(67)"
   ]
  },
  {
   "cell_type": "code",
   "execution_count": 37,
   "id": "99690fea",
   "metadata": {},
   "outputs": [
    {
     "data": {
      "text/plain": [
       "{1, 2, 3, 4, 5, 6, 7, 8, 9, 'vicky', 'vikram'}"
      ]
     },
     "execution_count": 37,
     "metadata": {},
     "output_type": "execute_result"
    }
   ],
   "source": [
    "s"
   ]
  },
  {
   "cell_type": "code",
   "execution_count": 38,
   "id": "aa2365ce",
   "metadata": {},
   "outputs": [],
   "source": [
    "s.add(10)"
   ]
  },
  {
   "cell_type": "code",
   "execution_count": 39,
   "id": "01f4eab7",
   "metadata": {},
   "outputs": [],
   "source": [
    "s2 = (11,12,13,14,15)"
   ]
  },
  {
   "cell_type": "code",
   "execution_count": 40,
   "id": "3f5ddc4f",
   "metadata": {},
   "outputs": [
    {
     "data": {
      "text/plain": [
       "(11, 12, 13, 14, 15)"
      ]
     },
     "execution_count": 40,
     "metadata": {},
     "output_type": "execute_result"
    }
   ],
   "source": [
    "s2"
   ]
  },
  {
   "cell_type": "code",
   "execution_count": 41,
   "id": "532f964c",
   "metadata": {},
   "outputs": [
    {
     "ename": "TypeError",
     "evalue": "unsupported operand type(s) for +: 'set' and 'tuple'",
     "output_type": "error",
     "traceback": [
      "\u001b[1;31m---------------------------------------------------------------------------\u001b[0m",
      "\u001b[1;31mTypeError\u001b[0m                                 Traceback (most recent call last)",
      "\u001b[1;32m~\\AppData\\Local\\Temp\\ipykernel_6772\\46107460.py\u001b[0m in \u001b[0;36m<module>\u001b[1;34m\u001b[0m\n\u001b[1;32m----> 1\u001b[1;33m \u001b[0ms\u001b[0m\u001b[1;33m+\u001b[0m\u001b[0ms2\u001b[0m\u001b[1;33m\u001b[0m\u001b[1;33m\u001b[0m\u001b[0m\n\u001b[0m",
      "\u001b[1;31mTypeError\u001b[0m: unsupported operand type(s) for +: 'set' and 'tuple'"
     ]
    }
   ],
   "source": [
    "s+s2"
   ]
  },
  {
   "cell_type": "code",
   "execution_count": 42,
   "id": "f050a5da",
   "metadata": {},
   "outputs": [],
   "source": [
    "l1 = list(s)\n",
    "l2 = list(s2)"
   ]
  },
  {
   "cell_type": "code",
   "execution_count": 44,
   "id": "c9a990a5",
   "metadata": {},
   "outputs": [],
   "source": [
    "l = l1+l2"
   ]
  },
  {
   "cell_type": "code",
   "execution_count": 45,
   "id": "bd30338b",
   "metadata": {},
   "outputs": [],
   "source": [
    "s = set(l)"
   ]
  },
  {
   "cell_type": "code",
   "execution_count": 46,
   "id": "c0f17438",
   "metadata": {},
   "outputs": [
    {
     "data": {
      "text/plain": [
       "{1, 10, 11, 12, 13, 14, 15, 2, 3, 4, 5, 6, 7, 8, 9, 'vicky', 'vikram'}"
      ]
     },
     "execution_count": 46,
     "metadata": {},
     "output_type": "execute_result"
    }
   ],
   "source": [
    "s"
   ]
  },
  {
   "cell_type": "code",
   "execution_count": 47,
   "id": "009eed85",
   "metadata": {},
   "outputs": [],
   "source": [
    "x = {}"
   ]
  },
  {
   "cell_type": "code",
   "execution_count": 48,
   "id": "3bd54bb4",
   "metadata": {},
   "outputs": [
    {
     "data": {
      "text/plain": [
       "dict"
      ]
     },
     "execution_count": 48,
     "metadata": {},
     "output_type": "execute_result"
    }
   ],
   "source": [
    "type(x)"
   ]
  },
  {
   "cell_type": "code",
   "execution_count": 59,
   "id": "8bf343ed",
   "metadata": {},
   "outputs": [],
   "source": [
    "x={12,23}"
   ]
  },
  {
   "cell_type": "code",
   "execution_count": 60,
   "id": "86ffb9f7",
   "metadata": {},
   "outputs": [
    {
     "data": {
      "text/plain": [
       "set"
      ]
     },
     "execution_count": 60,
     "metadata": {},
     "output_type": "execute_result"
    }
   ],
   "source": [
    "type(x)"
   ]
  },
  {
   "cell_type": "code",
   "execution_count": 61,
   "id": "afa8521f",
   "metadata": {},
   "outputs": [
    {
     "data": {
      "text/plain": [
       "set"
      ]
     },
     "execution_count": 61,
     "metadata": {},
     "output_type": "execute_result"
    }
   ],
   "source": [
    "type(x) "
   ]
  },
  {
   "cell_type": "code",
   "execution_count": 62,
   "id": "77051db2",
   "metadata": {},
   "outputs": [],
   "source": [
    "x = {\"name\" : \"vicky\", \"age\": 24}"
   ]
  },
  {
   "cell_type": "code",
   "execution_count": 63,
   "id": "ef6125f6",
   "metadata": {},
   "outputs": [
    {
     "data": {
      "text/plain": [
       "set"
      ]
     },
     "execution_count": 63,
     "metadata": {},
     "output_type": "execute_result"
    }
   ],
   "source": [
    "type(s)"
   ]
  },
  {
   "cell_type": "code",
   "execution_count": 65,
   "id": "93a6b58f",
   "metadata": {},
   "outputs": [
    {
     "data": {
      "text/plain": [
       "dict"
      ]
     },
     "execution_count": 65,
     "metadata": {},
     "output_type": "execute_result"
    }
   ],
   "source": [
    "type(x)"
   ]
  },
  {
   "cell_type": "code",
   "execution_count": 83,
   "id": "df476f88",
   "metadata": {},
   "outputs": [],
   "source": [
    "x2 = {\"name\" : \"vicky\", \"age\": 24,\"second\" : \"vikram\", \"next age\": 25, \"x3\":{1:2,2:3,3:4}, True : \"vikram sai\", \"vicky vikram\":False, 24:25, \"tuple\":[1,1,2,2,3,3,34,4,4,4,55,5,55] }"
   ]
  },
  {
   "cell_type": "code",
   "execution_count": 84,
   "id": "dd2fb4c0",
   "metadata": {},
   "outputs": [
    {
     "data": {
      "text/plain": [
       "{'name': 'vicky',\n",
       " 'age': 24,\n",
       " 'second': 'vikram',\n",
       " 'next age': 25,\n",
       " 'x3': {1: 2, 2: 3, 3: 4},\n",
       " True: 'vikram sai',\n",
       " 'vicky vikram': False,\n",
       " 24: 25,\n",
       " 'tuple': [1, 1, 2, 2, 3, 3, 34, 4, 4, 4, 55, 5, 55]}"
      ]
     },
     "execution_count": 84,
     "metadata": {},
     "output_type": "execute_result"
    }
   ],
   "source": [
    "x2"
   ]
  },
  {
   "cell_type": "code",
   "execution_count": 85,
   "id": "7a53a2df",
   "metadata": {},
   "outputs": [
    {
     "data": {
      "text/plain": [
       "[1, 1, 2, 2, 3, 3, 34, 4, 4, 4, 55, 5, 55]"
      ]
     },
     "execution_count": 85,
     "metadata": {},
     "output_type": "execute_result"
    }
   ],
   "source": [
    "x2[\"tuple\"]"
   ]
  },
  {
   "cell_type": "code",
   "execution_count": 86,
   "id": "3e9f4527",
   "metadata": {},
   "outputs": [
    {
     "data": {
      "text/plain": [
       "3"
      ]
     },
     "execution_count": 86,
     "metadata": {},
     "output_type": "execute_result"
    }
   ],
   "source": [
    "(x2[\"tuple\"][5])"
   ]
  },
  {
   "cell_type": "code",
   "execution_count": 89,
   "id": "47bad1b7",
   "metadata": {},
   "outputs": [
    {
     "data": {
      "text/plain": [
       "4"
      ]
     },
     "execution_count": 89,
     "metadata": {},
     "output_type": "execute_result"
    }
   ],
   "source": [
    "x2[\"x3\"][2]"
   ]
  },
  {
   "cell_type": "code",
   "execution_count": 88,
   "id": "be55c422",
   "metadata": {},
   "outputs": [],
   "source": [
    "x2[\"x3\"][2] = 4"
   ]
  },
  {
   "cell_type": "code",
   "execution_count": 90,
   "id": "560bb7af",
   "metadata": {},
   "outputs": [],
   "source": [
    "x2[\"x3\"][2] -= 4"
   ]
  },
  {
   "cell_type": "code",
   "execution_count": 91,
   "id": "7dc28e6c",
   "metadata": {},
   "outputs": [
    {
     "data": {
      "text/plain": [
       "0"
      ]
     },
     "execution_count": 91,
     "metadata": {},
     "output_type": "execute_result"
    }
   ],
   "source": [
    "x2[\"x3\"][2]"
   ]
  },
  {
   "cell_type": "code",
   "execution_count": 92,
   "id": "78ac5dc6",
   "metadata": {},
   "outputs": [
    {
     "data": {
      "text/plain": [
       "dict_keys(['name', 'age', 'second', 'next age', 'x3', True, 'vicky vikram', 24, 'tuple'])"
      ]
     },
     "execution_count": 92,
     "metadata": {},
     "output_type": "execute_result"
    }
   ],
   "source": [
    "x2.keys()"
   ]
  },
  {
   "cell_type": "code",
   "execution_count": 93,
   "id": "4005da20",
   "metadata": {},
   "outputs": [
    {
     "data": {
      "text/plain": [
       "True"
      ]
     },
     "execution_count": 93,
     "metadata": {},
     "output_type": "execute_result"
    }
   ],
   "source": [
    "True in x2.keys()"
   ]
  },
  {
   "cell_type": "code",
   "execution_count": 94,
   "id": "e6d00292",
   "metadata": {},
   "outputs": [
    {
     "name": "stdout",
     "output_type": "stream",
     "text": [
      "name\n",
      "age\n",
      "second\n",
      "next age\n",
      "x3\n",
      "True\n",
      "vicky vikram\n",
      "24\n",
      "tuple\n"
     ]
    }
   ],
   "source": [
    "for i in x2:\n",
    "    print(i)"
   ]
  },
  {
   "cell_type": "code",
   "execution_count": 95,
   "id": "7c259132",
   "metadata": {},
   "outputs": [
    {
     "name": "stdout",
     "output_type": "stream",
     "text": [
      "vicky\n",
      "24\n",
      "vikram\n",
      "25\n",
      "{1: 2, 2: 0, 3: 4}\n",
      "vikram sai\n",
      "False\n",
      "25\n",
      "[1, 1, 2, 2, 3, 3, 34, 4, 4, 4, 55, 5, 55]\n"
     ]
    }
   ],
   "source": [
    "for i in x2.keys():\n",
    "    print(x2[i])"
   ]
  },
  {
   "cell_type": "code",
   "execution_count": 97,
   "id": "89e673fa",
   "metadata": {},
   "outputs": [
    {
     "name": "stdout",
     "output_type": "stream",
     "text": [
      "<class 'str'>\n",
      "<class 'int'>\n",
      "<class 'str'>\n",
      "<class 'int'>\n",
      "<class 'dict'>\n",
      "<class 'str'>\n",
      "<class 'bool'>\n",
      "<class 'int'>\n",
      "<class 'list'>\n"
     ]
    }
   ],
   "source": [
    "for i in x2.keys():\n",
    "    print(type(x2[i]))"
   ]
  },
  {
   "cell_type": "code",
   "execution_count": 98,
   "id": "efed6574",
   "metadata": {},
   "outputs": [
    {
     "data": {
      "text/plain": [
       "{'name': 'vicky',\n",
       " 'age': 24,\n",
       " 'second': 'vikram',\n",
       " 'next age': 25,\n",
       " 'x3': {1: 2, 2: 0, 3: 4},\n",
       " True: 'vikram sai',\n",
       " 'vicky vikram': False,\n",
       " 24: 25,\n",
       " 'tuple': [1, 1, 2, 2, 3, 3, 34, 4, 4, 4, 55, 5, 55]}"
      ]
     },
     "execution_count": 98,
     "metadata": {},
     "output_type": "execute_result"
    }
   ],
   "source": [
    "x2"
   ]
  },
  {
   "cell_type": "code",
   "execution_count": 99,
   "id": "88595837",
   "metadata": {},
   "outputs": [
    {
     "data": {
      "text/plain": [
       "dict_items([('name', 'vicky'), ('age', 24), ('second', 'vikram'), ('next age', 25), ('x3', {1: 2, 2: 0, 3: 4}), (True, 'vikram sai'), ('vicky vikram', False), (24, 25), ('tuple', [1, 1, 2, 2, 3, 3, 34, 4, 4, 4, 55, 5, 55])])"
      ]
     },
     "execution_count": 99,
     "metadata": {},
     "output_type": "execute_result"
    }
   ],
   "source": [
    "x2.items()"
   ]
  },
  {
   "cell_type": "code",
   "execution_count": 100,
   "id": "5a26d262",
   "metadata": {},
   "outputs": [
    {
     "data": {
      "text/plain": [
       "dict_keys(['name', 'age', 'second', 'next age', 'x3', True, 'vicky vikram', 24, 'tuple'])"
      ]
     },
     "execution_count": 100,
     "metadata": {},
     "output_type": "execute_result"
    }
   ],
   "source": [
    "x2.keys()"
   ]
  },
  {
   "cell_type": "code",
   "execution_count": 102,
   "id": "9f9838ca",
   "metadata": {},
   "outputs": [
    {
     "name": "stdout",
     "output_type": "stream",
     "text": [
      "name\n",
      "age\n",
      "second\n",
      "next age\n",
      "x3\n",
      "True\n",
      "vicky vikram\n",
      "24\n",
      "tuple\n"
     ]
    }
   ],
   "source": [
    "for i in x2.items():\n",
    "    print(i[0])"
   ]
  },
  {
   "cell_type": "code",
   "execution_count": 103,
   "id": "f6d5ad70",
   "metadata": {},
   "outputs": [
    {
     "name": "stdout",
     "output_type": "stream",
     "text": [
      "vicky\n",
      "24\n",
      "vikram\n",
      "25\n",
      "{1: 2, 2: 0, 3: 4}\n",
      "vikram sai\n",
      "False\n",
      "25\n",
      "[1, 1, 2, 2, 3, 3, 34, 4, 4, 4, 55, 5, 55]\n"
     ]
    }
   ],
   "source": [
    "for i in x2.items():\n",
    "    print(i[1])"
   ]
  },
  {
   "cell_type": "code",
   "execution_count": 104,
   "id": "d1295f45",
   "metadata": {},
   "outputs": [],
   "source": [
    "x5 = {(21,122,3,2):\"vicky\"}"
   ]
  },
  {
   "cell_type": "code",
   "execution_count": 105,
   "id": "1137b6b0",
   "metadata": {},
   "outputs": [
    {
     "data": {
      "text/plain": [
       "'vicky'"
      ]
     },
     "execution_count": 105,
     "metadata": {},
     "output_type": "execute_result"
    }
   ],
   "source": [
    "x5[(21,122,3,2)]"
   ]
  },
  {
   "cell_type": "code",
   "execution_count": 106,
   "id": "64c8280c",
   "metadata": {},
   "outputs": [
    {
     "data": {
      "text/plain": [
       "9"
      ]
     },
     "execution_count": 106,
     "metadata": {},
     "output_type": "execute_result"
    }
   ],
   "source": [
    "len(x2)"
   ]
  },
  {
   "cell_type": "code",
   "execution_count": 108,
   "id": "83904706",
   "metadata": {},
   "outputs": [
    {
     "data": {
      "text/plain": [
       "2"
      ]
     },
     "execution_count": 108,
     "metadata": {},
     "output_type": "execute_result"
    }
   ],
   "source": [
    "len(x)"
   ]
  },
  {
   "cell_type": "code",
   "execution_count": 110,
   "id": "3ffa9f6d",
   "metadata": {},
   "outputs": [
    {
     "data": {
      "text/plain": [
       "1"
      ]
     },
     "execution_count": 110,
     "metadata": {},
     "output_type": "execute_result"
    }
   ],
   "source": [
    "len(x5)"
   ]
  },
  {
   "cell_type": "code",
   "execution_count": 143,
   "id": "b9b71144",
   "metadata": {},
   "outputs": [
    {
     "name": "stdout",
     "output_type": "stream",
     "text": [
      "Hanuman (/ˈhʌnʊˌmɑːn/; Sanskrit: हनुमान, IAST: Hanumān),[7] also called Anjaneya (Sanskrit: आञ्जनेय),[8] is a Hindu god and a divine vanara companion of the god Rama. Hanuman is one of the central characters of the Hindu epic Ramayana. He is an ardent devotee of Rama and one of the Chiranjivis. Hanuman is regarded to be the son of the wind-god Vayu, who in several stories played a direct role in Hanuman's birth,[6][9] and considered to be an incarnation or son of Shiva in Shaivism.\n"
     ]
    }
   ],
   "source": [
    "a = str(input(\"\"))\n"
   ]
  },
  {
   "cell_type": "code",
   "execution_count": 144,
   "id": "067819ec",
   "metadata": {},
   "outputs": [],
   "source": [
    "b = a.split(\" \")"
   ]
  },
  {
   "cell_type": "code",
   "execution_count": 136,
   "id": "e89e4b5d",
   "metadata": {},
   "outputs": [
    {
     "data": {
      "text/plain": [
       "['Hanuman',\n",
       " 'From',\n",
       " 'Wikipedia,',\n",
       " 'the',\n",
       " 'free',\n",
       " 'encyclopedia',\n",
       " 'Jump',\n",
       " 'to',\n",
       " 'navigation',\n",
       " 'Jump',\n",
       " 'to',\n",
       " 'search',\n",
       " 'For',\n",
       " 'other',\n",
       " 'uses,',\n",
       " 'see',\n",
       " 'Hanuman',\n",
       " '(disambiguation).',\n",
       " 'Hanuman',\n",
       " 'God',\n",
       " 'of',\n",
       " 'Wisdom,',\n",
       " 'Strength,',\n",
       " 'Courage,',\n",
       " 'Devotion',\n",
       " 'and',\n",
       " 'Self-Discipline[1]',\n",
       " 'Member',\n",
       " 'of',\n",
       " 'Chiranjivi',\n",
       " 'Hanuman',\n",
       " 'painted',\n",
       " 'by',\n",
       " 'Pahari',\n",
       " 'Painter.jpg',\n",
       " 'Hanuman',\n",
       " 'painted',\n",
       " 'by',\n",
       " 'a',\n",
       " 'Pahari',\n",
       " 'painter',\n",
       " 'Devanagari\\tहनुमान',\n",
       " 'Sanskrit',\n",
       " 'transliteration\\tHanumān',\n",
       " 'Affiliation\\tDevotee',\n",
       " 'of',\n",
       " 'Rama,',\n",
       " 'Deva,',\n",
       " 'Vanara,[2]',\n",
       " 'Avatar',\n",
       " 'of',\n",
       " 'Vayu,',\n",
       " 'Mukhyaprana[3]',\n",
       " 'Abode\\tKishkindha',\n",
       " 'Mantra\\tॐ',\n",
       " 'श्री',\n",
       " 'हनुमते',\n",
       " 'नमः',\n",
       " '(Om',\n",
       " 'Sri',\n",
       " 'Hanumate',\n",
       " 'Namah)',\n",
       " 'Weapon\\tGada',\n",
       " '(mace)',\n",
       " 'Texts\\tRamayana',\n",
       " 'and',\n",
       " 'its',\n",
       " 'other',\n",
       " 'versions,',\n",
       " 'Hanuman',\n",
       " 'Chalisa',\n",
       " '[4]',\n",
       " 'Festivals\\tHanuman',\n",
       " 'Jayanti',\n",
       " 'Personal',\n",
       " 'information',\n",
       " 'Born\\tAnjeyanadri',\n",
       " 'Hill,',\n",
       " 'Koppal',\n",
       " 'district',\n",
       " 'Parents\\tVayu',\n",
       " '(spiritual',\n",
       " 'father)',\n",
       " 'Kesari',\n",
       " '(father)[2][6]',\n",
       " 'Añjanā',\n",
       " '(mother)[2]',\n",
       " 'Siblings\\tBhima',\n",
       " '(spiritual',\n",
       " 'brother)[5]',\n",
       " 'Part',\n",
       " 'of',\n",
       " 'a',\n",
       " 'series',\n",
       " 'on',\n",
       " 'Hinduism',\n",
       " '1',\n",
       " 'Om.svg',\n",
       " '',\n",
       " '',\n",
       " '',\n",
       " '',\n",
       " '',\n",
       " 'Hindus',\n",
       " 'History',\n",
       " 'Timeline',\n",
       " '',\n",
       " 'Origins',\n",
       " 'Traditions',\n",
       " 'Deities',\n",
       " 'Concepts',\n",
       " 'Practices',\n",
       " 'Philosophical',\n",
       " 'schools',\n",
       " 'Gurus,',\n",
       " 'sants,',\n",
       " 'philosophers',\n",
       " 'Texts',\n",
       " 'Society',\n",
       " 'Other',\n",
       " 'topics',\n",
       " '',\n",
       " '',\n",
       " '',\n",
       " '',\n",
       " '',\n",
       " 'Glossary',\n",
       " 'Outline',\n",
       " '',\n",
       " '',\n",
       " '',\n",
       " '',\n",
       " '',\n",
       " '\\xa0Hinduism',\n",
       " 'portal',\n",
       " '',\n",
       " '',\n",
       " '',\n",
       " '',\n",
       " '',\n",
       " 'vte',\n",
       " '',\n",
       " 'Hanuman',\n",
       " '(/ˈhʌnʊˌmɑːn/;',\n",
       " 'Sanskrit:',\n",
       " 'हनुमान,',\n",
       " 'IAST:',\n",
       " 'Hanumān),[7]',\n",
       " 'also',\n",
       " 'called',\n",
       " 'Anjaneya',\n",
       " '(Sanskrit:',\n",
       " 'आञ्जनेय),[8]',\n",
       " 'is',\n",
       " 'a',\n",
       " 'Hindu',\n",
       " 'god',\n",
       " 'and',\n",
       " 'a',\n",
       " 'divine',\n",
       " 'vanara',\n",
       " 'companion',\n",
       " 'of',\n",
       " 'the',\n",
       " 'god',\n",
       " 'Rama.',\n",
       " 'Hanuman',\n",
       " 'is',\n",
       " 'one',\n",
       " 'of',\n",
       " 'the',\n",
       " 'central',\n",
       " 'characters',\n",
       " 'of',\n",
       " 'the',\n",
       " 'Hindu',\n",
       " 'epic',\n",
       " 'Ramayana.',\n",
       " 'He',\n",
       " 'is',\n",
       " 'an',\n",
       " 'ardent',\n",
       " 'devotee',\n",
       " 'of',\n",
       " 'Rama',\n",
       " 'and',\n",
       " 'one',\n",
       " 'of',\n",
       " 'the',\n",
       " 'Chiranjivis.',\n",
       " 'Hanuman',\n",
       " 'is',\n",
       " 'regarded',\n",
       " 'to',\n",
       " 'be',\n",
       " 'the',\n",
       " 'son',\n",
       " 'of',\n",
       " 'the',\n",
       " 'wind-god',\n",
       " 'Vayu,',\n",
       " 'who',\n",
       " 'in',\n",
       " 'several',\n",
       " 'stories',\n",
       " 'played',\n",
       " 'a',\n",
       " 'direct',\n",
       " 'role',\n",
       " 'in',\n",
       " \"Hanuman's\",\n",
       " 'birth,[6][9]',\n",
       " 'and',\n",
       " 'considered',\n",
       " 'to',\n",
       " 'be',\n",
       " 'an',\n",
       " 'incarnation',\n",
       " 'or',\n",
       " 'son',\n",
       " 'of',\n",
       " 'Shiva',\n",
       " 'in',\n",
       " 'Shaivism.',\n",
       " 'Hanuman',\n",
       " 'is',\n",
       " 'mentioned',\n",
       " 'in',\n",
       " 'several',\n",
       " 'other',\n",
       " 'texts,',\n",
       " 'such',\n",
       " 'as',\n",
       " 'the',\n",
       " 'epic',\n",
       " 'Mahabharata',\n",
       " 'and',\n",
       " 'the',\n",
       " 'various',\n",
       " 'Puranas.',\n",
       " '',\n",
       " 'Evidence',\n",
       " 'of',\n",
       " 'devotional',\n",
       " 'worship',\n",
       " 'to',\n",
       " 'Hanuman',\n",
       " 'is',\n",
       " 'largely',\n",
       " 'absent',\n",
       " 'in',\n",
       " 'these',\n",
       " 'texts,',\n",
       " 'as',\n",
       " 'well',\n",
       " 'as',\n",
       " 'in',\n",
       " 'most',\n",
       " 'archeological',\n",
       " 'sites.',\n",
       " 'According',\n",
       " 'to',\n",
       " 'Philip',\n",
       " 'Lutgendorf,',\n",
       " 'an',\n",
       " 'American',\n",
       " 'Indologist,',\n",
       " 'the',\n",
       " 'theological',\n",
       " 'significance',\n",
       " 'of',\n",
       " 'Hanuman',\n",
       " 'and',\n",
       " 'devotional',\n",
       " 'dedication',\n",
       " 'to',\n",
       " 'him',\n",
       " 'emerged',\n",
       " 'about',\n",
       " '1,000',\n",
       " 'years',\n",
       " 'after',\n",
       " 'the',\n",
       " 'composition',\n",
       " 'of',\n",
       " 'the',\n",
       " 'Ramayana,',\n",
       " 'in',\n",
       " 'the',\n",
       " '2nd',\n",
       " 'millennium',\n",
       " 'CE,',\n",
       " 'after',\n",
       " 'the',\n",
       " 'arrival',\n",
       " 'of',\n",
       " 'Islamic',\n",
       " 'rule',\n",
       " 'in',\n",
       " 'the',\n",
       " 'Indian',\n",
       " 'subcontinent.[10]',\n",
       " 'Lutgendorf',\n",
       " 'also',\n",
       " 'writes',\n",
       " 'that',\n",
       " 'the',\n",
       " 'skills',\n",
       " 'in',\n",
       " \"Hanuman's\",\n",
       " 'resume',\n",
       " 'also',\n",
       " 'seem',\n",
       " 'to',\n",
       " 'derive',\n",
       " 'in',\n",
       " 'part',\n",
       " 'from',\n",
       " 'his',\n",
       " 'windy',\n",
       " 'patrimony,',\n",
       " 'reflecting',\n",
       " \"Vayu's\",\n",
       " 'role',\n",
       " 'in',\n",
       " 'both',\n",
       " 'body',\n",
       " 'and',\n",
       " 'cosmos.[11]',\n",
       " 'Bhakti',\n",
       " 'movement',\n",
       " 'saints',\n",
       " 'such',\n",
       " 'as',\n",
       " 'Samarth',\n",
       " 'Ramdas',\n",
       " 'have',\n",
       " 'positioned',\n",
       " 'Hanuman',\n",
       " 'as',\n",
       " 'a',\n",
       " 'symbol',\n",
       " 'of',\n",
       " 'nationalism',\n",
       " 'and',\n",
       " 'resistance',\n",
       " 'to',\n",
       " 'persecution.[12]',\n",
       " 'The',\n",
       " 'Vaishnava',\n",
       " 'saint',\n",
       " 'Madhava',\n",
       " 'said',\n",
       " 'that',\n",
       " 'whenever',\n",
       " 'Vishnu',\n",
       " 'incarnates',\n",
       " 'on',\n",
       " 'earth,',\n",
       " 'Vayu',\n",
       " 'accompanies',\n",
       " 'him',\n",
       " 'and',\n",
       " 'aids',\n",
       " 'his',\n",
       " 'work',\n",
       " 'of',\n",
       " 'preserving',\n",
       " 'dharma.[13]',\n",
       " 'In',\n",
       " 'the',\n",
       " 'modern',\n",
       " 'era,',\n",
       " \"Hanuman's\",\n",
       " 'iconography',\n",
       " 'and',\n",
       " 'temples',\n",
       " 'have',\n",
       " 'been',\n",
       " 'increasingly',\n",
       " 'common.[14]',\n",
       " 'He',\n",
       " 'is',\n",
       " 'viewed',\n",
       " 'as',\n",
       " 'the',\n",
       " 'ideal',\n",
       " 'combination',\n",
       " 'of',\n",
       " '\"strength,',\n",
       " 'heroic',\n",
       " 'initiative',\n",
       " 'and',\n",
       " 'assertive',\n",
       " 'excellence\"',\n",
       " 'and',\n",
       " '\"loving,',\n",
       " 'emotional',\n",
       " 'devotion',\n",
       " 'to',\n",
       " 'his',\n",
       " 'personal',\n",
       " 'god',\n",
       " 'Rama\",',\n",
       " 'as',\n",
       " 'Shakti',\n",
       " 'and',\n",
       " 'Bhakti.[15]',\n",
       " 'In',\n",
       " 'later',\n",
       " 'literature,',\n",
       " 'he',\n",
       " 'is',\n",
       " 'sometimes',\n",
       " 'portrayed',\n",
       " 'as',\n",
       " 'the',\n",
       " 'patron',\n",
       " 'god',\n",
       " 'of',\n",
       " 'martial',\n",
       " 'arts',\n",
       " 'such',\n",
       " 'as',\n",
       " 'wrestling',\n",
       " 'and',\n",
       " 'acrobatics,',\n",
       " 'as',\n",
       " 'well',\n",
       " 'as',\n",
       " 'activities',\n",
       " 'such',\n",
       " 'as',\n",
       " 'meditation',\n",
       " 'and',\n",
       " 'diligent',\n",
       " 'scholarship.[2]',\n",
       " 'He',\n",
       " 'symbolises',\n",
       " 'the',\n",
       " 'human',\n",
       " 'excellences',\n",
       " 'of',\n",
       " 'inner',\n",
       " 'self-control,',\n",
       " 'faith,',\n",
       " 'and',\n",
       " 'service',\n",
       " 'to',\n",
       " 'a',\n",
       " 'cause,',\n",
       " 'hidden',\n",
       " 'behind',\n",
       " 'the',\n",
       " 'first',\n",
       " 'impressions',\n",
       " 'of',\n",
       " 'a',\n",
       " 'being',\n",
       " 'who',\n",
       " 'looks',\n",
       " 'like',\n",
       " 'a',\n",
       " 'Vanara.[14][16][17]',\n",
       " 'Hanuman',\n",
       " 'is',\n",
       " 'considered',\n",
       " 'to',\n",
       " 'be',\n",
       " 'a',\n",
       " 'bachelor',\n",
       " 'and',\n",
       " 'an',\n",
       " 'exemplary',\n",
       " 'celibate.[18]',\n",
       " '',\n",
       " 'Some',\n",
       " 'scholars',\n",
       " 'have',\n",
       " 'identified',\n",
       " 'Hanuman',\n",
       " 'as',\n",
       " 'one',\n",
       " 'potential',\n",
       " 'inspiration',\n",
       " 'for',\n",
       " 'Sun',\n",
       " 'Wukong,',\n",
       " 'the',\n",
       " 'Monkey',\n",
       " 'King',\n",
       " 'character',\n",
       " 'in',\n",
       " 'the',\n",
       " 'Chinese',\n",
       " 'epic',\n",
       " 'adventure',\n",
       " 'Journey',\n",
       " 'to',\n",
       " 'the',\n",
       " 'West.[19][20]',\n",
       " '']"
      ]
     },
     "execution_count": 136,
     "metadata": {},
     "output_type": "execute_result"
    }
   ],
   "source": [
    "b"
   ]
  },
  {
   "cell_type": "code",
   "execution_count": 145,
   "id": "18f186bd",
   "metadata": {},
   "outputs": [
    {
     "data": {
      "text/plain": [
       "list"
      ]
     },
     "execution_count": 145,
     "metadata": {},
     "output_type": "execute_result"
    }
   ],
   "source": [
    "type(b)"
   ]
  },
  {
   "cell_type": "code",
   "execution_count": 146,
   "id": "e75587a4",
   "metadata": {},
   "outputs": [],
   "source": [
    "c = set(b)"
   ]
  },
  {
   "cell_type": "code",
   "execution_count": 147,
   "id": "3b341251",
   "metadata": {},
   "outputs": [
    {
     "data": {
      "text/plain": [
       "{'(/ˈhʌnʊˌmɑːn/;',\n",
       " '(Sanskrit:',\n",
       " 'Anjaneya',\n",
       " 'Chiranjivis.',\n",
       " 'Hanuman',\n",
       " \"Hanuman's\",\n",
       " 'Hanumān),[7]',\n",
       " 'He',\n",
       " 'Hindu',\n",
       " 'IAST:',\n",
       " 'Rama',\n",
       " 'Rama.',\n",
       " 'Ramayana.',\n",
       " 'Sanskrit:',\n",
       " 'Shaivism.',\n",
       " 'Shiva',\n",
       " 'Vayu,',\n",
       " 'a',\n",
       " 'also',\n",
       " 'an',\n",
       " 'and',\n",
       " 'ardent',\n",
       " 'be',\n",
       " 'birth,[6][9]',\n",
       " 'called',\n",
       " 'central',\n",
       " 'characters',\n",
       " 'companion',\n",
       " 'considered',\n",
       " 'devotee',\n",
       " 'direct',\n",
       " 'divine',\n",
       " 'epic',\n",
       " 'god',\n",
       " 'in',\n",
       " 'incarnation',\n",
       " 'is',\n",
       " 'of',\n",
       " 'one',\n",
       " 'or',\n",
       " 'played',\n",
       " 'regarded',\n",
       " 'role',\n",
       " 'several',\n",
       " 'son',\n",
       " 'stories',\n",
       " 'the',\n",
       " 'to',\n",
       " 'vanara',\n",
       " 'who',\n",
       " 'wind-god',\n",
       " 'आञ्जनेय),[8]',\n",
       " 'हनुमान,'}"
      ]
     },
     "execution_count": 147,
     "metadata": {},
     "output_type": "execute_result"
    }
   ],
   "source": [
    "c"
   ]
  },
  {
   "cell_type": "code",
   "execution_count": 149,
   "id": "db804b2e",
   "metadata": {},
   "outputs": [],
   "source": [
    "d = dict.fromkeys(c,\"vicky\")"
   ]
  },
  {
   "cell_type": "code",
   "execution_count": 150,
   "id": "10a7c802",
   "metadata": {},
   "outputs": [
    {
     "data": {
      "text/plain": [
       "{'(Sanskrit:': 'vicky',\n",
       " 'also': 'vicky',\n",
       " 'stories': 'vicky',\n",
       " 'Hanuman': 'vicky',\n",
       " 'Shaivism.': 'vicky',\n",
       " \"Hanuman's\": 'vicky',\n",
       " 'Shiva': 'vicky',\n",
       " 'divine': 'vicky',\n",
       " 'or': 'vicky',\n",
       " 'role': 'vicky',\n",
       " 'companion': 'vicky',\n",
       " 'Rama': 'vicky',\n",
       " 'central': 'vicky',\n",
       " 'Vayu,': 'vicky',\n",
       " 'devotee': 'vicky',\n",
       " 'Anjaneya': 'vicky',\n",
       " 'Rama.': 'vicky',\n",
       " 'the': 'vicky',\n",
       " 'Hanumān),[7]': 'vicky',\n",
       " 'of': 'vicky',\n",
       " 'He': 'vicky',\n",
       " 'played': 'vicky',\n",
       " 'son': 'vicky',\n",
       " 'vanara': 'vicky',\n",
       " 'Hindu': 'vicky',\n",
       " 'an': 'vicky',\n",
       " 'Sanskrit:': 'vicky',\n",
       " 'epic': 'vicky',\n",
       " 'Chiranjivis.': 'vicky',\n",
       " 'called': 'vicky',\n",
       " 'direct': 'vicky',\n",
       " 'and': 'vicky',\n",
       " 'who': 'vicky',\n",
       " 'in': 'vicky',\n",
       " 'birth,[6][9]': 'vicky',\n",
       " 'incarnation': 'vicky',\n",
       " 'regarded': 'vicky',\n",
       " '(/ˈhʌnʊˌmɑːn/;': 'vicky',\n",
       " 'to': 'vicky',\n",
       " 'one': 'vicky',\n",
       " 'ardent': 'vicky',\n",
       " 'be': 'vicky',\n",
       " 'IAST:': 'vicky',\n",
       " 'god': 'vicky',\n",
       " 'is': 'vicky',\n",
       " 'characters': 'vicky',\n",
       " 'Ramayana.': 'vicky',\n",
       " 'आञ्जनेय),[8]': 'vicky',\n",
       " 'हनुमान,': 'vicky',\n",
       " 'several': 'vicky',\n",
       " 'a': 'vicky',\n",
       " 'wind-god': 'vicky',\n",
       " 'considered': 'vicky'}"
      ]
     },
     "execution_count": 150,
     "metadata": {},
     "output_type": "execute_result"
    }
   ],
   "source": [
    "d"
   ]
  },
  {
   "cell_type": "code",
   "execution_count": 153,
   "id": "f9be3406",
   "metadata": {},
   "outputs": [],
   "source": [
    "e = tuple(d.keys())"
   ]
  },
  {
   "cell_type": "code",
   "execution_count": 154,
   "id": "5c44cf0d",
   "metadata": {},
   "outputs": [
    {
     "data": {
      "text/plain": [
       "('(Sanskrit:',\n",
       " 'also',\n",
       " 'stories',\n",
       " 'Hanuman',\n",
       " 'Shaivism.',\n",
       " \"Hanuman's\",\n",
       " 'Shiva',\n",
       " 'divine',\n",
       " 'or',\n",
       " 'role',\n",
       " 'companion',\n",
       " 'Rama',\n",
       " 'central',\n",
       " 'Vayu,',\n",
       " 'devotee',\n",
       " 'Anjaneya',\n",
       " 'Rama.',\n",
       " 'the',\n",
       " 'Hanumān),[7]',\n",
       " 'of',\n",
       " 'He',\n",
       " 'played',\n",
       " 'son',\n",
       " 'vanara',\n",
       " 'Hindu',\n",
       " 'an',\n",
       " 'Sanskrit:',\n",
       " 'epic',\n",
       " 'Chiranjivis.',\n",
       " 'called',\n",
       " 'direct',\n",
       " 'and',\n",
       " 'who',\n",
       " 'in',\n",
       " 'birth,[6][9]',\n",
       " 'incarnation',\n",
       " 'regarded',\n",
       " '(/ˈhʌnʊˌmɑːn/;',\n",
       " 'to',\n",
       " 'one',\n",
       " 'ardent',\n",
       " 'be',\n",
       " 'IAST:',\n",
       " 'god',\n",
       " 'is',\n",
       " 'characters',\n",
       " 'Ramayana.',\n",
       " 'आञ्जनेय),[8]',\n",
       " 'हनुमान,',\n",
       " 'several',\n",
       " 'a',\n",
       " 'wind-god',\n",
       " 'considered')"
      ]
     },
     "execution_count": 154,
     "metadata": {},
     "output_type": "execute_result"
    }
   ],
   "source": [
    "e"
   ]
  },
  {
   "cell_type": "code",
   "execution_count": 155,
   "id": "cef27eff",
   "metadata": {},
   "outputs": [
    {
     "data": {
      "text/plain": [
       "['vicky',\n",
       " 'vicky',\n",
       " 'vicky',\n",
       " 'vicky',\n",
       " 'vicky',\n",
       " 'vicky',\n",
       " 'vicky',\n",
       " 'vicky',\n",
       " 'vicky',\n",
       " 'vicky',\n",
       " 'vicky',\n",
       " 'vicky',\n",
       " 'vicky',\n",
       " 'vicky',\n",
       " 'vicky',\n",
       " 'vicky',\n",
       " 'vicky',\n",
       " 'vicky',\n",
       " 'vicky',\n",
       " 'vicky',\n",
       " 'vicky',\n",
       " 'vicky',\n",
       " 'vicky',\n",
       " 'vicky',\n",
       " 'vicky',\n",
       " 'vicky',\n",
       " 'vicky',\n",
       " 'vicky',\n",
       " 'vicky',\n",
       " 'vicky',\n",
       " 'vicky',\n",
       " 'vicky',\n",
       " 'vicky',\n",
       " 'vicky',\n",
       " 'vicky',\n",
       " 'vicky',\n",
       " 'vicky',\n",
       " 'vicky',\n",
       " 'vicky',\n",
       " 'vicky',\n",
       " 'vicky',\n",
       " 'vicky',\n",
       " 'vicky',\n",
       " 'vicky',\n",
       " 'vicky',\n",
       " 'vicky',\n",
       " 'vicky',\n",
       " 'vicky',\n",
       " 'vicky',\n",
       " 'vicky',\n",
       " 'vicky',\n",
       " 'vicky',\n",
       " 'vicky']"
      ]
     },
     "execution_count": 155,
     "metadata": {},
     "output_type": "execute_result"
    }
   ],
   "source": [
    "f = list(d.values())\n",
    "f"
   ]
  },
  {
   "cell_type": "code",
   "execution_count": 157,
   "id": "1672188d",
   "metadata": {},
   "outputs": [],
   "source": [
    "d = {'company':\"ineuron\",\"course\":\"full stack data science\",\"year\":2022}"
   ]
  },
  {
   "cell_type": "code",
   "execution_count": 161,
   "id": "b59f22da",
   "metadata": {},
   "outputs": [
    {
     "name": "stdout",
     "output_type": "stream",
     "text": [
      "print  company ineuron\n",
      "print  course full stack data science\n",
      "print  year 2022\n"
     ]
    }
   ],
   "source": [
    "for i in d:\n",
    "    print(\"print \",i,d[i] )"
   ]
  },
  {
   "cell_type": "code",
   "execution_count": 169,
   "id": "803c99d2",
   "metadata": {},
   "outputs": [
    {
     "data": {
      "text/plain": [
       "True"
      ]
     },
     "execution_count": 169,
     "metadata": {},
     "output_type": "execute_result"
    }
   ],
   "source": [
    "\"course\" in d"
   ]
  },
  {
   "cell_type": "code",
   "execution_count": 170,
   "id": "71fc48d7",
   "metadata": {},
   "outputs": [
    {
     "data": {
      "text/plain": [
       "{'company': 'ineuron', 'course': 'full stack data science', 'year': 2022}"
      ]
     },
     "execution_count": 170,
     "metadata": {},
     "output_type": "execute_result"
    }
   ],
   "source": [
    "d"
   ]
  },
  {
   "cell_type": "code",
   "execution_count": 181,
   "id": "7e0636cd",
   "metadata": {},
   "outputs": [
    {
     "name": "stdout",
     "output_type": "stream",
     "text": [
      "year is fine \n"
     ]
    }
   ],
   "source": [
    "for i in d:\n",
    "    if i == \"year\":\n",
    "        if d[i]> 2022:\n",
    "            print(\"year is fine \")\n",
    "        else:\n",
    "            d[i] = 2023"
   ]
  },
  {
   "cell_type": "code",
   "execution_count": 182,
   "id": "a49cc018",
   "metadata": {},
   "outputs": [
    {
     "data": {
      "text/plain": [
       "{'company': 'ineuron', 'course': 'full stack data science', 'year': 2023}"
      ]
     },
     "execution_count": 182,
     "metadata": {},
     "output_type": "execute_result"
    }
   ],
   "source": [
    "d"
   ]
  },
  {
   "cell_type": "code",
   "execution_count": 183,
   "id": "0407d8d2",
   "metadata": {},
   "outputs": [],
   "source": [
    "my_dict = {}\n",
    "for i in range(10):\n",
    "    my_dict[i] = i*i"
   ]
  },
  {
   "cell_type": "code",
   "execution_count": 184,
   "id": "43343eac",
   "metadata": {},
   "outputs": [
    {
     "data": {
      "text/plain": [
       "{0: 0, 1: 1, 2: 4, 3: 9, 4: 16, 5: 25, 6: 36, 7: 49, 8: 64, 9: 81}"
      ]
     },
     "execution_count": 184,
     "metadata": {},
     "output_type": "execute_result"
    }
   ],
   "source": [
    "my_dict"
   ]
  },
  {
   "cell_type": "code",
   "execution_count": 185,
   "id": "60ce1783",
   "metadata": {},
   "outputs": [
    {
     "data": {
      "text/plain": [
       "{0: 0, 1: 1, 2: 4, 3: 9, 4: 16, 5: 25, 6: 36, 7: 49, 8: 64, 9: 81}"
      ]
     },
     "execution_count": 185,
     "metadata": {},
     "output_type": "execute_result"
    }
   ],
   "source": [
    "{i:i*i for i in range(10)}"
   ]
  },
  {
   "cell_type": "code",
   "execution_count": 186,
   "id": "0f703f53",
   "metadata": {},
   "outputs": [
    {
     "data": {
      "text/plain": [
       "{0: 0, 2: 4, 4: 16, 6: 36, 8: 64}"
      ]
     },
     "execution_count": 186,
     "metadata": {},
     "output_type": "execute_result"
    }
   ],
   "source": [
    "{i:i*i for i in range(0,10,2)}"
   ]
  },
  {
   "cell_type": "code",
   "execution_count": 189,
   "id": "0e99e598",
   "metadata": {},
   "outputs": [
    {
     "data": {
      "text/plain": [
       "{0: 0, 1: 1, 2: 4, 3: 9, 4: 16, 5: 25, 6: 36, 7: 49, 8: 64, 9: 81}"
      ]
     },
     "execution_count": 189,
     "metadata": {},
     "output_type": "execute_result"
    }
   ],
   "source": [
    "{i:i*i for i in range(0,10,1)}"
   ]
  },
  {
   "cell_type": "code",
   "execution_count": null,
   "id": "311eac0b",
   "metadata": {},
   "outputs": [],
   "source": []
  }
 ],
 "metadata": {
  "kernelspec": {
   "display_name": "Python 3 (ipykernel)",
   "language": "python",
   "name": "python3"
  },
  "language_info": {
   "codemirror_mode": {
    "name": "ipython",
    "version": 3
   },
   "file_extension": ".py",
   "mimetype": "text/x-python",
   "name": "python",
   "nbconvert_exporter": "python",
   "pygments_lexer": "ipython3",
   "version": "3.9.13"
  }
 },
 "nbformat": 4,
 "nbformat_minor": 5
}
