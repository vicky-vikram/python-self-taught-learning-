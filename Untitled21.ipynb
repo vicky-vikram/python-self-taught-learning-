{
 "cells": [
  {
   "cell_type": "code",
   "execution_count": 1,
   "id": "66e584a0",
   "metadata": {},
   "outputs": [
    {
     "ename": "SyntaxError",
     "evalue": "EOL while scanning string literal (1244536562.py, line 1)",
     "output_type": "error",
     "traceback": [
      "\u001b[1;36m  File \u001b[1;32m\"C:\\Users\\Admin\\AppData\\Local\\Temp\\ipykernel_2768\\1244536562.py\"\u001b[1;36m, line \u001b[1;32m1\u001b[0m\n\u001b[1;33m    print(\"vicky)\u001b[0m\n\u001b[1;37m                 ^\u001b[0m\n\u001b[1;31mSyntaxError\u001b[0m\u001b[1;31m:\u001b[0m EOL while scanning string literal\n"
     ]
    }
   ],
   "source": [
    "print(\"vicky)"
   ]
  },
  {
   "cell_type": "code",
   "execution_count": null,
   "id": "43ac5069",
   "metadata": {},
   "outputs": [],
   "source": [
    "def test(a,b):\n",
    "    return a/b"
   ]
  },
  {
   "cell_type": "code",
   "execution_count": null,
   "id": "17e46b22",
   "metadata": {},
   "outputs": [],
   "source": [
    "test(5,0)\n",
    "print(\"this is my code after test function\")"
   ]
  },
  {
   "cell_type": "code",
   "execution_count": null,
   "id": "81f6b62c",
   "metadata": {},
   "outputs": [],
   "source": [
    "test(1,2)"
   ]
  },
  {
   "cell_type": "code",
   "execution_count": null,
   "id": "b0cd2636",
   "metadata": {},
   "outputs": [],
   "source": [
    "a = open(\"abcd.txt\", \"r\")"
   ]
  },
  {
   "cell_type": "code",
   "execution_count": null,
   "id": "31093d63",
   "metadata": {},
   "outputs": [],
   "source": [
    "try:\n",
    "    a = open(\"abcd.txt\", \"r\")\n",
    "except:\n",
    "    pass"
   ]
  },
  {
   "cell_type": "code",
   "execution_count": null,
   "id": "0216d65b",
   "metadata": {},
   "outputs": [],
   "source": [
    "try:\n",
    "    a = open(\"abcd.txt\", \"r\")\n",
    "except:\n",
    "    print(\"there is some issue with my code\")"
   ]
  },
  {
   "cell_type": "code",
   "execution_count": null,
   "id": "65c5b184",
   "metadata": {},
   "outputs": [],
   "source": [
    "try:\n",
    "    a = open(\"abcd.txt\", \"r\")\n",
    "except IOError:\n",
    "    print(\"there is some issue with my code\")"
   ]
  },
  {
   "cell_type": "code",
   "execution_count": null,
   "id": "796242ec",
   "metadata": {},
   "outputs": [],
   "source": [
    "try:\n",
    "    a = 5/0\n",
    "except IOError:\n",
    "    print(\"there is some issue with my code\")"
   ]
  },
  {
   "cell_type": "code",
   "execution_count": null,
   "id": "d8d82ffb",
   "metadata": {},
   "outputs": [],
   "source": [
    "try:\n",
    "    a = 5/0\n",
    "except ArithmeticError:\n",
    "    print(\"there is some issue with my code\")"
   ]
  },
  {
   "cell_type": "code",
   "execution_count": null,
   "id": "df82ed24",
   "metadata": {},
   "outputs": [],
   "source": [
    " try:\n",
    "    a = 5/0\n",
    "except ArithmeticError as e:\n",
    "    print(\"there is some issue with my code\",e)"
   ]
  },
  {
   "cell_type": "code",
   "execution_count": null,
   "id": "24e7a53a",
   "metadata": {},
   "outputs": [],
   "source": [
    " try:\n",
    "    a = 5/4\n",
    "except ArithmeticError as e:\n",
    "    print(\"there is some issue with my code\",e)\n",
    "else:\n",
    "    print(\"this will execute once try will execute with success\")"
   ]
  },
  {
   "cell_type": "code",
   "execution_count": null,
   "id": "73016f3a",
   "metadata": {},
   "outputs": [],
   "source": [
    " try:\n",
    "    a = 5/4\n",
    "except ArithmeticError as e:\n",
    "    print(\"there is some issue with my code\",e)\n",
    "else:\n",
    "    print(\"this will execute once try will execute with success\")\n",
    "    f = open(\"test1234.txt\", 'r')"
   ]
  },
  {
   "cell_type": "code",
   "execution_count": null,
   "id": "afc938d4",
   "metadata": {},
   "outputs": [],
   "source": [
    " try:\n",
    "    a = 5/4\n",
    "except ArithmeticError as e:\n",
    "    print(\"there is some issue with my code\",e)\n",
    "else:\n",
    "    print(\"this will execute once try will execute with success\")\n",
    "    try:\n",
    "        f = open(\"test1234.txt\", 'r')\n",
    "    except:\n",
    "        print(\"this is aa issue with internal try block\")"
   ]
  },
  {
   "cell_type": "code",
   "execution_count": null,
   "id": "89c1e2c0",
   "metadata": {},
   "outputs": [],
   "source": [
    "try:\n",
    "    a = int(input(\"enter the first number:  \"))\n",
    "    b = int(input(\"enter the second number:  \"))\n",
    "    c = a/b\n",
    "except ArithmeticError as e:\n",
    "    print(\"there is some issue with my code\",e)\n",
    "    f = open(\"test1234.txt\", 'w')\n",
    "else:\n",
    "    print(\"this will execute once try will execute with success\")\n",
    "    try:\n",
    "        f = open(\"test1234.txt\", 'r')\n",
    "    except:\n",
    "        print(\"this is aa issue with internal try block\")"
   ]
  },
  {
   "cell_type": "code",
   "execution_count": null,
   "id": "6da5514e",
   "metadata": {},
   "outputs": [],
   "source": [
    "try:\n",
    "    a = int(input(\"enter the first number:  \"))\n",
    "    b = int(input(\"enter the second number:  \"))\n",
    "    c = a/b\n",
    "except ArithmeticError as e:\n",
    "    print(\"there is some issue with my code\",e)\n",
    "    f = open(\"test1234.txt\", 'w+')\n",
    "    f.read()\n",
    "else:\n",
    "    print(\"this will execute once try will execute with success\")\n",
    "    try:\n",
    "        f = open(\"test1234.txt\", 'r')\n",
    "    except:\n",
    "        print(\"this is aa issue with internal try block\")"
   ]
  },
  {
   "cell_type": "code",
   "execution_count": null,
   "id": "b822e60c",
   "metadata": {},
   "outputs": [],
   "source": [
    "l = [4,5,6,7,8]\n"
   ]
  },
  {
   "cell_type": "code",
   "execution_count": null,
   "id": "ffbd5b2d",
   "metadata": {},
   "outputs": [],
   "source": [
    "l[100]"
   ]
  },
  {
   "cell_type": "code",
   "execution_count": null,
   "id": "7d2a4c0b",
   "metadata": {},
   "outputs": [],
   "source": [
    "l[:100]"
   ]
  },
  {
   "cell_type": "code",
   "execution_count": null,
   "id": "4bd84d32",
   "metadata": {},
   "outputs": [],
   "source": [
    "l = [4,5,6,7,8]\n",
    "print(l[100])\n",
    "t = (4,5,6,7,8)\n",
    "print(t)"
   ]
  },
  {
   "cell_type": "code",
   "execution_count": null,
   "id": "351cdc45",
   "metadata": {},
   "outputs": [],
   "source": [
    "try:\n",
    "    l = [4,5,6,7,8]\n",
    "    l[100]\n",
    "except:\n",
    "    print(\"there is an issue with my code\")\n",
    "    t = (4,5,6,7,8)\n",
    "    print(t)\n",
    "else:\n",
    "    print(\"there is no issue in the code\")\n"
   ]
  },
  {
   "cell_type": "code",
   "execution_count": null,
   "id": "99e438d5",
   "metadata": {},
   "outputs": [],
   "source": [
    "try:\n",
    "    l = [4,5,6,7,8]\n",
    "    l[100]\n",
    "except:\n",
    "    print(\"there is an issue with my code\")\n",
    "    t = (4,5,6,7,8)\n",
    "    print(t)\n",
    "    t[0]=\"vicky\"\n",
    "else:\n",
    "    print(\"there is no issue in the code\")\n"
   ]
  },
  {
   "cell_type": "code",
   "execution_count": null,
   "id": "6e8592cb",
   "metadata": {},
   "outputs": [],
   "source": [
    "try:\n",
    "    l = [4,5,6,7,8]\n",
    "    l[100]\n",
    "except:\n",
    "    print(\"there is an issue with my code\")\n",
    "    t = (4,5,6,7,8)\n",
    "    print(t)\n",
    "    try:\n",
    "        t[0]=\"vicky\"\n",
    "    except:\n",
    "        pass\n",
    "else:\n",
    "    print(\"there is no issue in the code\")\n"
   ]
  },
  {
   "cell_type": "code",
   "execution_count": null,
   "id": "b1076304",
   "metadata": {},
   "outputs": [],
   "source": [
    "try:\n",
    "    l = [4,5,6,7,8]\n",
    "    l[100]\n",
    "except:\n",
    "    print(\"there is an issue with my code\")\n",
    "    t = (4,5,6,7,8)\n",
    "    print(t)\n",
    "    try:\n",
    "        t[0]=\"vicky\"\n",
    "        try:\n",
    "            list(t)\n",
    "            print(t)\n",
    "        except:\n",
    "            pass\n",
    "    except:\n",
    "        pass\n",
    "else:\n",
    "    print(\"there is no issue in the code\")\n"
   ]
  },
  {
   "cell_type": "code",
   "execution_count": null,
   "id": "9972c5fd",
   "metadata": {},
   "outputs": [],
   "source": [
    "try:\n",
    "    f = open(\"test12.txt\",'r')\n",
    "finally:\n",
    "    print(\"finally i will execute in any case\")"
   ]
  },
  {
   "cell_type": "code",
   "execution_count": null,
   "id": "e9f8e576",
   "metadata": {},
   "outputs": [],
   "source": [
    "try:\n",
    "    f = open(\"test12.txt\",'r')\n",
    "finally:\n",
    "    print(\"finally i will execute in any case\")\n",
    "    l =[1,2,3,4,5]\n",
    "    print(l[2])"
   ]
  },
  {
   "cell_type": "code",
   "execution_count": null,
   "id": "ec5045c6",
   "metadata": {},
   "outputs": [],
   "source": [
    "try:\n",
    "    f = open(\"test12.txt\",'r')\n",
    "finally:\n",
    "    print(\"finally i will execute in any case\")\n",
    "    l =[1,2,3,4,5]\n",
    "    print(l[10])"
   ]
  },
  {
   "cell_type": "code",
   "execution_count": null,
   "id": "4524a4d1",
   "metadata": {},
   "outputs": [],
   "source": [
    "try:\n",
    "    f = open(\"test12.txt\",'r')\n",
    "except:\n",
    "    pass\n",
    "finally:\n",
    "    print(\"finally i will execute in any case\")\n",
    "    l =[1,2,3,4,5]\n",
    "    print(l[10])"
   ]
  },
  {
   "cell_type": "code",
   "execution_count": null,
   "id": "204d28be",
   "metadata": {},
   "outputs": [],
   "source": [
    "try:\n",
    "    f = open(\"test12.txt\",'r')\n",
    "except:\n",
    "    pass\n",
    "finally:\n",
    "    print(\"finally i will execute in any case\")\n",
    "    l =[1,2,3,4,5]\n",
    "    try:\n",
    "        print(l[10])\n",
    "    except:\n",
    "        pass"
   ]
  },
  {
   "cell_type": "code",
   "execution_count": null,
   "id": "77f577ef",
   "metadata": {},
   "outputs": [],
   "source": [
    "try:\n",
    "    f = open(\"test12.txt\",'r')\n",
    "except:\n",
    "    pass\n",
    "finally:\n",
    "    print(\"finally i will execute in any case\")\n",
    "    l =[1,2,3,4,5]\n",
    "    try:\n",
    "        print(l[10])\n",
    "    except:\n",
    "        pass\n",
    "else:\n",
    "    print(\"else will execute if try will execute with success\")"
   ]
  },
  {
   "cell_type": "code",
   "execution_count": null,
   "id": "8e84e09c",
   "metadata": {},
   "outputs": [],
   "source": [
    "try:\n",
    "    f = open(\"test12.txt\",'r')\n",
    "except:\n",
    "    pass\n",
    "else:\n",
    "    print(\"else will execute if try will execute with success\")\n",
    "finally:\n",
    "    print(\"finally i will execute in any case\")\n",
    "    l =[1,2,3,4,5]\n",
    "    try:\n",
    "        print(l[10])\n",
    "    except:\n",
    "        pass\n"
   ]
  },
  {
   "cell_type": "code",
   "execution_count": null,
   "id": "5fa25f87",
   "metadata": {},
   "outputs": [],
   "source": [
    "try:\n",
    "    f = open(\"test12.txt\",'w+')\n",
    "except:\n",
    "    pass\n",
    "else:\n",
    "    print(\"else will execute if try will execute with success\")\n",
    "finally:\n",
    "    print(\"finally i will execute in any case\")\n",
    "    l =[1,2,3,4,5]\n",
    "    try:\n",
    "        print(l[10])\n",
    "    except:\n",
    "        pass\n"
   ]
  },
  {
   "cell_type": "code",
   "execution_count": null,
   "id": "72376233",
   "metadata": {},
   "outputs": [],
   "source": [
    "5/0"
   ]
  },
  {
   "cell_type": "code",
   "execution_count": 2,
   "id": "2df0caf0",
   "metadata": {},
   "outputs": [
    {
     "data": {
      "text/plain": [
       "0.8333333333333334"
      ]
     },
     "execution_count": 2,
     "metadata": {},
     "output_type": "execute_result"
    }
   ],
   "source": [
    "5/6"
   ]
  },
  {
   "cell_type": "code",
   "execution_count": 3,
   "id": "0a24c8e8",
   "metadata": {},
   "outputs": [],
   "source": [
    "def askforint():\n",
    "    while True:\n",
    "        try:\n",
    "            a = int(input(\"enter an integer: \"))\n",
    "        except Exception as e:\n",
    "            print(\"this is my error msg\", e)\n",
    "        else:\n",
    "            print(\"person has entered a correct value\")\n",
    "        finally:\n",
    "            print(\"close this issue\")\n",
    "            "
   ]
  },
  {
   "cell_type": "code",
   "execution_count": 4,
   "id": "73d64b0b",
   "metadata": {},
   "outputs": [
    {
     "name": "stdout",
     "output_type": "stream",
     "text": [
      "enter an integer: 1\n",
      "person has entered a correct value\n",
      "close this issue\n",
      "close this issue\n"
     ]
    },
    {
     "ename": "KeyboardInterrupt",
     "evalue": "Interrupted by user",
     "output_type": "error",
     "traceback": [
      "\u001b[1;31m---------------------------------------------------------------------------\u001b[0m",
      "\u001b[1;31mKeyboardInterrupt\u001b[0m                         Traceback (most recent call last)",
      "\u001b[1;32m~\\AppData\\Local\\Temp\\ipykernel_2768\\861601814.py\u001b[0m in \u001b[0;36m<module>\u001b[1;34m\u001b[0m\n\u001b[1;32m----> 1\u001b[1;33m \u001b[0maskforint\u001b[0m\u001b[1;33m(\u001b[0m\u001b[1;33m)\u001b[0m\u001b[1;33m\u001b[0m\u001b[1;33m\u001b[0m\u001b[0m\n\u001b[0m",
      "\u001b[1;32m~\\AppData\\Local\\Temp\\ipykernel_2768\\4234175015.py\u001b[0m in \u001b[0;36maskforint\u001b[1;34m()\u001b[0m\n\u001b[0;32m      2\u001b[0m     \u001b[1;32mwhile\u001b[0m \u001b[1;32mTrue\u001b[0m\u001b[1;33m:\u001b[0m\u001b[1;33m\u001b[0m\u001b[1;33m\u001b[0m\u001b[0m\n\u001b[0;32m      3\u001b[0m         \u001b[1;32mtry\u001b[0m\u001b[1;33m:\u001b[0m\u001b[1;33m\u001b[0m\u001b[1;33m\u001b[0m\u001b[0m\n\u001b[1;32m----> 4\u001b[1;33m             \u001b[0ma\u001b[0m \u001b[1;33m=\u001b[0m \u001b[0mint\u001b[0m\u001b[1;33m(\u001b[0m\u001b[0minput\u001b[0m\u001b[1;33m(\u001b[0m\u001b[1;34m\"enter an integer: \"\u001b[0m\u001b[1;33m)\u001b[0m\u001b[1;33m)\u001b[0m\u001b[1;33m\u001b[0m\u001b[1;33m\u001b[0m\u001b[0m\n\u001b[0m\u001b[0;32m      5\u001b[0m         \u001b[1;32mexcept\u001b[0m \u001b[0mException\u001b[0m \u001b[1;32mas\u001b[0m \u001b[0me\u001b[0m\u001b[1;33m:\u001b[0m\u001b[1;33m\u001b[0m\u001b[1;33m\u001b[0m\u001b[0m\n\u001b[0;32m      6\u001b[0m             \u001b[0mprint\u001b[0m\u001b[1;33m(\u001b[0m\u001b[1;34m\"this is my error msg\"\u001b[0m\u001b[1;33m,\u001b[0m \u001b[0me\u001b[0m\u001b[1;33m)\u001b[0m\u001b[1;33m\u001b[0m\u001b[1;33m\u001b[0m\u001b[0m\n",
      "\u001b[1;32mE:\\New folder (2)\\applications\\New folder\\lib\\site-packages\\ipykernel\\kernelbase.py\u001b[0m in \u001b[0;36mraw_input\u001b[1;34m(self, prompt)\u001b[0m\n\u001b[0;32m   1175\u001b[0m                 \u001b[1;34m\"raw_input was called, but this frontend does not support input requests.\"\u001b[0m\u001b[1;33m\u001b[0m\u001b[1;33m\u001b[0m\u001b[0m\n\u001b[0;32m   1176\u001b[0m             )\n\u001b[1;32m-> 1177\u001b[1;33m         return self._input_request(\n\u001b[0m\u001b[0;32m   1178\u001b[0m             \u001b[0mstr\u001b[0m\u001b[1;33m(\u001b[0m\u001b[0mprompt\u001b[0m\u001b[1;33m)\u001b[0m\u001b[1;33m,\u001b[0m\u001b[1;33m\u001b[0m\u001b[1;33m\u001b[0m\u001b[0m\n\u001b[0;32m   1179\u001b[0m             \u001b[0mself\u001b[0m\u001b[1;33m.\u001b[0m\u001b[0m_parent_ident\u001b[0m\u001b[1;33m[\u001b[0m\u001b[1;34m\"shell\"\u001b[0m\u001b[1;33m]\u001b[0m\u001b[1;33m,\u001b[0m\u001b[1;33m\u001b[0m\u001b[1;33m\u001b[0m\u001b[0m\n",
      "\u001b[1;32mE:\\New folder (2)\\applications\\New folder\\lib\\site-packages\\ipykernel\\kernelbase.py\u001b[0m in \u001b[0;36m_input_request\u001b[1;34m(self, prompt, ident, parent, password)\u001b[0m\n\u001b[0;32m   1217\u001b[0m             \u001b[1;32mexcept\u001b[0m \u001b[0mKeyboardInterrupt\u001b[0m\u001b[1;33m:\u001b[0m\u001b[1;33m\u001b[0m\u001b[1;33m\u001b[0m\u001b[0m\n\u001b[0;32m   1218\u001b[0m                 \u001b[1;31m# re-raise KeyboardInterrupt, to truncate traceback\u001b[0m\u001b[1;33m\u001b[0m\u001b[1;33m\u001b[0m\u001b[0m\n\u001b[1;32m-> 1219\u001b[1;33m                 \u001b[1;32mraise\u001b[0m \u001b[0mKeyboardInterrupt\u001b[0m\u001b[1;33m(\u001b[0m\u001b[1;34m\"Interrupted by user\"\u001b[0m\u001b[1;33m)\u001b[0m \u001b[1;32mfrom\u001b[0m \u001b[1;32mNone\u001b[0m\u001b[1;33m\u001b[0m\u001b[1;33m\u001b[0m\u001b[0m\n\u001b[0m\u001b[0;32m   1220\u001b[0m             \u001b[1;32mexcept\u001b[0m \u001b[0mException\u001b[0m\u001b[1;33m:\u001b[0m\u001b[1;33m\u001b[0m\u001b[1;33m\u001b[0m\u001b[0m\n\u001b[0;32m   1221\u001b[0m                 \u001b[0mself\u001b[0m\u001b[1;33m.\u001b[0m\u001b[0mlog\u001b[0m\u001b[1;33m.\u001b[0m\u001b[0mwarning\u001b[0m\u001b[1;33m(\u001b[0m\u001b[1;34m\"Invalid Message:\"\u001b[0m\u001b[1;33m,\u001b[0m \u001b[0mexc_info\u001b[0m\u001b[1;33m=\u001b[0m\u001b[1;32mTrue\u001b[0m\u001b[1;33m)\u001b[0m\u001b[1;33m\u001b[0m\u001b[1;33m\u001b[0m\u001b[0m\n",
      "\u001b[1;31mKeyboardInterrupt\u001b[0m: Interrupted by user"
     ]
    }
   ],
   "source": [
    "askforint()"
   ]
  },
  {
   "cell_type": "code",
   "execution_count": 5,
   "id": "1eaf4340",
   "metadata": {},
   "outputs": [],
   "source": [
    "def askforint():\n",
    "    while True:\n",
    "        try:\n",
    "            a = int(input(\"enter an integer: \"))\n",
    "        except Exception as e:\n",
    "            print(\"this is my error msg\", e)\n",
    "        else:\n",
    "            print(\"person has entered a correct value\")\n",
    "            break\n",
    "        finally:\n",
    "            print(\"close this issue\")\n",
    "            "
   ]
  },
  {
   "cell_type": "code",
   "execution_count": 6,
   "id": "65de437c",
   "metadata": {},
   "outputs": [
    {
     "name": "stdout",
     "output_type": "stream",
     "text": [
      "enter an integer: 1\n",
      "person has entered a correct value\n",
      "close this issue\n"
     ]
    }
   ],
   "source": [
    "askforint()"
   ]
  },
  {
   "cell_type": "code",
   "execution_count": null,
   "id": "868fa088",
   "metadata": {},
   "outputs": [],
   "source": [
    "def askforint():\n",
    "    while True:\n",
    "        try:\n",
    "            a = int(input(\"enter an integer: \"))\n",
    "        except Exception as e:\n",
    "            print(\"this is my error msg\", e)\n",
    "        else:\n",
    "            print(\"person has entered a correct value\")\n",
    "            break\n",
    "        finally:\n",
    "            break\n",
    "            print(\"close this issue\")\n",
    "            "
   ]
  },
  {
   "cell_type": "code",
   "execution_count": null,
   "id": "40483b6d",
   "metadata": {},
   "outputs": [],
   "source": [
    "askforint()"
   ]
  },
  {
   "cell_type": "code",
   "execution_count": null,
   "id": "ec215d87",
   "metadata": {},
   "outputs": [],
   "source": [
    "askforint()"
   ]
  },
  {
   "cell_type": "code",
   "execution_count": null,
   "id": "765d3907",
   "metadata": {},
   "outputs": [],
   "source": [
    "def askforint():\n",
    "    while True:\n",
    "        try:\n",
    "            a = int(input(\"enter an integer: \"))\n",
    "        except FileNotFoundError as e:\n",
    "            print(\"this is my error msg\", e)\n",
    "            continue\n",
    "        except IOError as e:\n",
    "            print(e)\n",
    "        else:\n",
    "            print(\"person has entered a correct value\")\n",
    "            break\n",
    "        finally:\n",
    "            print(\"close this issue\")\n",
    "            "
   ]
  },
  {
   "cell_type": "code",
   "execution_count": null,
   "id": "27f24cb7",
   "metadata": {},
   "outputs": [],
   "source": [
    "askforint()"
   ]
  },
  {
   "cell_type": "markdown",
   "id": "79cda4a6",
   "metadata": {},
   "source": [
    " def askforint():\n",
    "    while True:\n",
    "        try:\n",
    "            a = int(input(\"enter an integer: \"))\n",
    "        except FileNotFoundError as e:\n",
    "            print(\"this is my error msg\", e)\n",
    "            continue\n",
    "        except IOError as e:\n",
    "            print(e)\n",
    "        else:\n",
    "            print(\"person has entered a correct value\")\n",
    "            break\n",
    "        finally:\n",
    "            print(\"close this issue\")\n",
    "            "
   ]
  },
  {
   "cell_type": "code",
   "execution_count": null,
   "id": "53e565ce",
   "metadata": {},
   "outputs": [],
   "source": [
    "def askforint():\n",
    "    while True:\n",
    "        try:\n",
    "            a = int(input(\"enter an integer: \"))\n",
    "        except FileNotFoundError as e:\n",
    "            print(\"this is my error msg\", e)\n",
    "            continue\n",
    "        except IOError as e:\n",
    "            print(e)\n",
    "        except ValueError as e:\n",
    "            print(e)\n",
    "        else:\n",
    "            print(\"person has entered a correct value\")\n",
    "            break\n",
    "        finally:\n",
    "            print(\"close this issue\")\n",
    "            "
   ]
  },
  {
   "cell_type": "code",
   "execution_count": null,
   "id": "9650b362",
   "metadata": {},
   "outputs": [],
   "source": [
    "askforint()"
   ]
  },
  {
   "cell_type": "code",
   "execution_count": null,
   "id": "9d990d11",
   "metadata": {},
   "outputs": [],
   "source": [
    "def askforint():\n",
    "    while True:\n",
    "        try:\n",
    "            a = int(input(\"enter an integer: \"))\n",
    "            c = 8/a\n",
    "        except FileNotFoundError as e:\n",
    "            print(\"this is my error msg\", e)\n",
    "        except IOError as e:\n",
    "            print(e)\n",
    "        except ValueError as e:\n",
    "            print(e)\n",
    "        except ZeroDivisionError as e:\n",
    "            print(e)\n",
    "        else:\n",
    "            print(\"person has entered a correct value\")\n",
    "            break\n",
    "        finally:\n",
    "            print(\"close this issue\")\n",
    "            "
   ]
  },
  {
   "cell_type": "code",
   "execution_count": null,
   "id": "c3d132b8",
   "metadata": {},
   "outputs": [],
   "source": [
    "askforint()"
   ]
  },
  {
   "cell_type": "code",
   "execution_count": null,
   "id": "a4a1bad5",
   "metadata": {
    "scrolled": true
   },
   "outputs": [],
   "source": [
    "def askforint():\n",
    "    while True:\n",
    "        try:\n",
    "            a = int(input(\"enter an integer: \"))\n",
    "            c = 8/a\n",
    "        except FileNotFoundError as e:\n",
    "            print(\"this is my error msg\", e)\n",
    "        except IOError as e:\n",
    "            print(e)\n",
    "        except ValueError as e:\n",
    "            print(e)\n",
    "        except Exception as e:\n",
    "            print(\"this is coming from parent class\",e)\n",
    "        except ZeroDivisionError as e:\n",
    "            print(e)\n",
    "        except ArithmeticError as e:\n",
    "            print(\"this is an arthimetic error\",e)\n",
    "        else:\n",
    "            print(\"person has entered a correct value\")\n",
    "            break\n",
    "        finally:\n",
    "            print(\"close this issue\")\n",
    "askforint()"
   ]
  },
  {
   "cell_type": "code",
   "execution_count": 7,
   "id": "2993b04a",
   "metadata": {},
   "outputs": [],
   "source": [
    "def create_your_exceptions(a):\n",
    "    if a ==6:\n",
    "        raise Exception(a)\n",
    "    return a"
   ]
  },
  {
   "cell_type": "code",
   "execution_count": 8,
   "id": "a72f4d21",
   "metadata": {},
   "outputs": [
    {
     "ename": "Exception",
     "evalue": "6",
     "output_type": "error",
     "traceback": [
      "\u001b[1;31m---------------------------------------------------------------------------\u001b[0m",
      "\u001b[1;31mException\u001b[0m                                 Traceback (most recent call last)",
      "\u001b[1;32m~\\AppData\\Local\\Temp\\ipykernel_2768\\2582435476.py\u001b[0m in \u001b[0;36m<module>\u001b[1;34m\u001b[0m\n\u001b[1;32m----> 1\u001b[1;33m \u001b[0mcreate_your_exceptions\u001b[0m\u001b[1;33m(\u001b[0m\u001b[1;36m6\u001b[0m\u001b[1;33m)\u001b[0m\u001b[1;33m\u001b[0m\u001b[1;33m\u001b[0m\u001b[0m\n\u001b[0m",
      "\u001b[1;32m~\\AppData\\Local\\Temp\\ipykernel_2768\\890388656.py\u001b[0m in \u001b[0;36mcreate_your_exceptions\u001b[1;34m(a)\u001b[0m\n\u001b[0;32m      1\u001b[0m \u001b[1;32mdef\u001b[0m \u001b[0mcreate_your_exceptions\u001b[0m\u001b[1;33m(\u001b[0m\u001b[0ma\u001b[0m\u001b[1;33m)\u001b[0m\u001b[1;33m:\u001b[0m\u001b[1;33m\u001b[0m\u001b[1;33m\u001b[0m\u001b[0m\n\u001b[0;32m      2\u001b[0m     \u001b[1;32mif\u001b[0m \u001b[0ma\u001b[0m \u001b[1;33m==\u001b[0m\u001b[1;36m6\u001b[0m\u001b[1;33m:\u001b[0m\u001b[1;33m\u001b[0m\u001b[1;33m\u001b[0m\u001b[0m\n\u001b[1;32m----> 3\u001b[1;33m         \u001b[1;32mraise\u001b[0m \u001b[0mException\u001b[0m\u001b[1;33m(\u001b[0m\u001b[0ma\u001b[0m\u001b[1;33m)\u001b[0m\u001b[1;33m\u001b[0m\u001b[1;33m\u001b[0m\u001b[0m\n\u001b[0m\u001b[0;32m      4\u001b[0m     \u001b[1;32mreturn\u001b[0m \u001b[0ma\u001b[0m\u001b[1;33m\u001b[0m\u001b[1;33m\u001b[0m\u001b[0m\n",
      "\u001b[1;31mException\u001b[0m: 6"
     ]
    }
   ],
   "source": [
    "create_your_exceptions(6)"
   ]
  },
  {
   "cell_type": "code",
   "execution_count": 12,
   "id": "7b29d5b4",
   "metadata": {},
   "outputs": [
    {
     "data": {
      "text/plain": [
       "0"
      ]
     },
     "execution_count": 12,
     "metadata": {},
     "output_type": "execute_result"
    }
   ],
   "source": [
    "create_your_exceptions(0)"
   ]
  },
  {
   "cell_type": "code",
   "execution_count": 13,
   "id": "9bdcf0b9",
   "metadata": {},
   "outputs": [],
   "source": [
    "def create_your_exceptions(a):\n",
    "    if a ==6:\n",
    "        raise Exception(\"error is \", a)\n",
    "    else:\n",
    "        print(\"input is okay\")\n",
    "    return a"
   ]
  },
  {
   "cell_type": "code",
   "execution_count": 15,
   "id": "11edcb79",
   "metadata": {},
   "outputs": [
    {
     "name": "stdout",
     "output_type": "stream",
     "text": [
      "input is okay\n"
     ]
    }
   ],
   "source": [
    "a = create_your_exceptions(0)"
   ]
  },
  {
   "cell_type": "code",
   "execution_count": null,
   "id": "2afa537a",
   "metadata": {},
   "outputs": [],
   "source": [
    "a"
   ]
  },
  {
   "cell_type": "code",
   "execution_count": 16,
   "id": "d964fe31",
   "metadata": {},
   "outputs": [
    {
     "name": "stdout",
     "output_type": "stream",
     "text": [
      "('error is ', 6)\n"
     ]
    }
   ],
   "source": [
    "try:\n",
    "    create_your_exceptions(6)\n",
    "except Exception as e:\n",
    "    print(e)"
   ]
  },
  {
   "cell_type": "code",
   "execution_count": 20,
   "id": "aa49eab0",
   "metadata": {},
   "outputs": [],
   "source": [
    "def create_your_exceptions(a):\n",
    "    if a >6:\n",
    "        raise Exception(\"error is \", a)\n",
    "    else:\n",
    "        print(\"input is okay\")\n",
    "    return a"
   ]
  },
  {
   "cell_type": "code",
   "execution_count": 21,
   "id": "4955dfc1",
   "metadata": {},
   "outputs": [
    {
     "name": "stdout",
     "output_type": "stream",
     "text": [
      "input is okay\n"
     ]
    }
   ],
   "source": [
    "try:\n",
    "    create_your_exceptions(6)\n",
    "except Exception as e:\n",
    "    print(e)"
   ]
  },
  {
   "cell_type": "code",
   "execution_count": 22,
   "id": "7f34b570",
   "metadata": {},
   "outputs": [
    {
     "name": "stdout",
     "output_type": "stream",
     "text": [
      "input is okay\n"
     ]
    }
   ],
   "source": [
    "try:\n",
    "    create_your_exceptions(5)\n",
    "except Exception as e:\n",
    "    print(e)"
   ]
  },
  {
   "cell_type": "code",
   "execution_count": 23,
   "id": "65a05e8d",
   "metadata": {},
   "outputs": [
    {
     "name": "stdout",
     "output_type": "stream",
     "text": [
      "('error is ', 7)\n"
     ]
    }
   ],
   "source": [
    "try:\n",
    "    create_your_exceptions(7)\n",
    "except Exception as e:\n",
    "    print(e)"
   ]
  },
  {
   "cell_type": "code",
   "execution_count": 24,
   "id": "0b817886",
   "metadata": {},
   "outputs": [
    {
     "name": "stdout",
     "output_type": "stream",
     "text": [
      "'>' not supported between instances of 'str' and 'int'\n"
     ]
    }
   ],
   "source": [
    "try:\n",
    "    create_your_exceptions(\"vicky\")\n",
    "except Exception as e:\n",
    "    print(e)"
   ]
  },
  {
   "cell_type": "code",
   "execution_count": null,
   "id": "fcf19de1",
   "metadata": {},
   "outputs": [],
   "source": []
  }
 ],
 "metadata": {
  "kernelspec": {
   "display_name": "Python 3 (ipykernel)",
   "language": "python",
   "name": "python3"
  },
  "language_info": {
   "codemirror_mode": {
    "name": "ipython",
    "version": 3
   },
   "file_extension": ".py",
   "mimetype": "text/x-python",
   "name": "python",
   "nbconvert_exporter": "python",
   "pygments_lexer": "ipython3",
   "version": "3.9.13"
  }
 },
 "nbformat": 4,
 "nbformat_minor": 5
}
